{
 "cells": [
  {
   "cell_type": "markdown",
   "id": "d4ce66f3",
   "metadata": {},
   "source": [
    "# Writing a Data Scientist Blog Post"
   ]
  },
  {
   "cell_type": "markdown",
   "id": "80c744d8",
   "metadata": {},
   "source": [
    "### Pick a dataset, as mentioned on the previous page.\n",
    "\n",
    "The datasets I will pick up are the stack overflow surveys ranged for 5 years from 2018 to 2022. By doing this, I could analyze the historical data overtime and hopefully be able to predict the trend for the upcoming years."
   ]
  },
  {
   "cell_type": "markdown",
   "id": "ffe8ec84",
   "metadata": {},
   "source": [
    "### Pose at least three questions related to business or real-world applications of how the data could be used.\n",
    "\n",
    "1. Over a 5 years span, what are the most popular web frameworks used by the developers, which framework is the most desired one for the developers to learn.\n",
    "\n",
    "2. Similarly, I want to know over a 5 years span, what are the most popular programming languages used by the developers, which programming language is the most desired one for the developers to study.\n",
    "\n",
    "3. Was there any changes of preference when it comes to IDE and operating system."
   ]
  },
  {
   "cell_type": "markdown",
   "id": "6158604e",
   "metadata": {},
   "source": [
    "### Create a Jupyter Notebook, using any associated packages you'd like, to:\n",
    "\n",
    "#### Prepare data:\n",
    "* Gather necessary data to answer your questions\n",
    "* Handle categorical and missing data\n",
    "* Provide insight into the methods you chose and why you chose them\n",
    "\n",
    "#### Analyze, Model, and Visualize\n",
    "\n",
    "Provide a clear connection between your business questions and how the data answers them"
   ]
  },
  {
   "cell_type": "code",
   "execution_count": 113,
   "id": "48b988de",
   "metadata": {},
   "outputs": [],
   "source": [
    "# import dependencies\n",
    "\n",
    "import os\n",
    "import zipfile\n",
    "\n",
    "import pandas as pd\n",
    "import numpy as np\n",
    "import matplotlib.pyplot as plt\n",
    "import plotly.express as px\n"
   ]
  },
  {
   "cell_type": "code",
   "execution_count": 48,
   "id": "be049716",
   "metadata": {},
   "outputs": [],
   "source": [
    "base_dir = os.path.abspath(os.getcwd())"
   ]
  },
  {
   "cell_type": "code",
   "execution_count": 49,
   "id": "920be8d2",
   "metadata": {},
   "outputs": [
    {
     "data": {
      "text/plain": [
       "'/home/tony/projects/uda_data_science_blog'"
      ]
     },
     "execution_count": 49,
     "metadata": {},
     "output_type": "execute_result"
    }
   ],
   "source": [
    "base_dir"
   ]
  },
  {
   "cell_type": "code",
   "execution_count": 128,
   "id": "c317ff5e",
   "metadata": {},
   "outputs": [],
   "source": [
    "# Path to the zip file\n",
    "zip_list = ['survey_results_public_2018.zip', 'survey_results_public_2019.zip', 'survey_results_public_2020.zip', 'survey_results_public_2021.zip', 'survey_results_public_2022.zip']\n",
    "zip_out_path = os.path.join(base_dir, 'data')\n",
    "\n",
    "for file in zip_list:\n",
    "    zip_path = os.path.join(base_dir, f'data/{file}')\n",
    "    \n",
    "    # Extract the zip file\n",
    "    with zipfile.ZipFile(zip_path, 'r') as zip_ref:\n",
    "        zip_ref.extractall(zip_out_path)"
   ]
  },
  {
   "cell_type": "code",
   "execution_count": 4,
   "id": "58075959",
   "metadata": {
    "scrolled": true
   },
   "outputs": [
    {
     "name": "stderr",
     "output_type": "stream",
     "text": [
      "/tmp/ipykernel_31500/1687846786.py:1: DtypeWarning: Columns (8,12,13,14,15,16,50,51,52,53,55,56,57,58,59,60,61,62,63,64,65,66,67,68,69,70,71,72,73,74,75,76,77,78,79,80,81,82,83,84,85,93,94,95,96,97,98,99,100,101,102,103,104,105,106,107,108,109,110,111,112,113,114,115,116,117,118,119,120,121,122,123,124,125,126,127,128) have mixed types. Specify dtype option on import or set low_memory=False.\n",
      "  df_2018 = pd.read_csv(os.path.join(base_dir, 'data/survey_results_public_2018.csv'))\n"
     ]
    }
   ],
   "source": [
    "df_2018 = pd.read_csv(os.path.join(base_dir, 'data/survey_results_public_2018.csv'))\n",
    "df_2019 = pd.read_csv(os.path.join(base_dir, 'data/survey_results_public_2019.csv'))\n",
    "df_2020 = pd.read_csv(os.path.join(base_dir, 'data/survey_results_public_2020.csv'))\n",
    "df_2021 = pd.read_csv(os.path.join(base_dir, 'data/survey_results_public_2021.csv'))\n",
    "df_2022 = pd.read_csv(os.path.join(base_dir, 'data/survey_results_public_2022.csv'))"
   ]
  },
  {
   "cell_type": "code",
   "execution_count": 5,
   "id": "b3759e25",
   "metadata": {},
   "outputs": [
    {
     "name": "stdout",
     "output_type": "stream",
     "text": [
      "(98855, 129)\n",
      "(88883, 85)\n",
      "(64461, 61)\n",
      "(83439, 48)\n",
      "(73268, 79)\n"
     ]
    }
   ],
   "source": [
    "# to understand how many rows, cols are there for each table\n",
    "for t in [df_2018, df_2019, df_2020, df_2021, df_2022]:\n",
    "    print(t.shape)"
   ]
  },
  {
   "cell_type": "code",
   "execution_count": 6,
   "id": "1b19824a",
   "metadata": {},
   "outputs": [],
   "source": [
    "# add year col to each df\n",
    "df_2018['year'] = 2018\n",
    "df_2019['year'] = 2019\n",
    "df_2020['year'] = 2020\n",
    "df_2021['year'] = 2021\n",
    "df_2022['year'] = 2022"
   ]
  },
  {
   "cell_type": "code",
   "execution_count": 7,
   "id": "d5ed1550",
   "metadata": {},
   "outputs": [],
   "source": [
    "# translation mapping to change col names for cross year consistency\n",
    "col_mappings = {\n",
    "    'YearsCoding': 'YearsCode',\n",
    "    'YearsCodingProf': 'YearsCodePro',\n",
    "    'LanguageWorkedWith': 'LanguageHaveWorkedWith',\n",
    "    'LanguageDesireNextYear': 'LanguageWantToWorkWith',\n",
    "    'DatabaseWorkedWith': 'DatabaseHaveWorkedWith',\n",
    "    'DatabaseDesireNextYear': 'DatabaseWantToWorkWith',\n",
    "    'PlatformWorkedWith': 'PlatformHaveWorkedWith',\n",
    "    'PlatformDesireNextYear': 'PlatformWantToWorkWith',\n",
    "    'FrameworkWorkedWith': 'WebframeHaveWorkedWith',\n",
    "    'WebframeWorkedWith': 'WebframeHaveWorkedWith',\n",
    "    'WebFrameWorkedWith': 'WebframeHaveWorkedWith',\n",
    "    'FrameworkDesireNextYear': 'WebframeWantToWorkWith',\n",
    "    'WebFrameDesireNextYear': 'WebframeWantToWorkWith',\n",
    "    'WebframeDesireNextYear': 'WebframeWantToWorkWith',\n",
    "    'IDE': 'NEWCollabToolsHaveWorkedWith',\n",
    "    'DevEnviron': 'NEWCollabToolsHaveWorkedWith',\n",
    "    'OpSys': 'OperatingSystem',\n",
    "}\n"
   ]
  },
  {
   "cell_type": "code",
   "execution_count": 8,
   "id": "9de0e420",
   "metadata": {},
   "outputs": [],
   "source": [
    "# rename col names based on mapping\n",
    "for t in [df_2018, df_2019, df_2020, df_2021, df_2022]:\n",
    "    t.rename(columns=col_mappings, inplace=True)"
   ]
  },
  {
   "cell_type": "code",
   "execution_count": 9,
   "id": "46b6bf22",
   "metadata": {},
   "outputs": [],
   "source": [
    "## concatenate tables with the same col names\n",
    "df = pd.concat([df_2018, df_2019, df_2020, df_2021, df_2022], axis=0)\n",
    "df.reset_index(drop=True, inplace=True)"
   ]
  },
  {
   "cell_type": "code",
   "execution_count": 10,
   "id": "5455b446",
   "metadata": {},
   "outputs": [],
   "source": [
    "# only to keep necessary cols to answer my questions\n",
    "select_cols = ['year', 'YearsCode', 'YearsCodePro', 'DevType', 'LanguageHaveWorkedWith', 'LanguageWantToWorkWith', 'DatabaseHaveWorkedWith', 'DatabaseWantToWorkWith', 'PlatformHaveWorkedWith', 'PlatformWantToWorkWith', 'WebframeHaveWorkedWith', 'WebframeWantToWorkWith', 'ToolsTechHaveWorkedWith', 'ToolsTechWantToWorkWith', 'OperatingSystem', 'OpSysProfessional use', 'OpSysPersonal use', 'NEWCollabToolsHaveWorkedWith', 'NEWCollabToolsWantToWorkWith']\n",
    "df = df[select_cols]\n"
   ]
  },
  {
   "cell_type": "code",
   "execution_count": 11,
   "id": "d7a97888",
   "metadata": {},
   "outputs": [
    {
     "data": {
      "text/html": [
       "<div>\n",
       "<style scoped>\n",
       "    .dataframe tbody tr th:only-of-type {\n",
       "        vertical-align: middle;\n",
       "    }\n",
       "\n",
       "    .dataframe tbody tr th {\n",
       "        vertical-align: top;\n",
       "    }\n",
       "\n",
       "    .dataframe thead th {\n",
       "        text-align: right;\n",
       "    }\n",
       "</style>\n",
       "<table border=\"1\" class=\"dataframe\">\n",
       "  <thead>\n",
       "    <tr style=\"text-align: right;\">\n",
       "      <th></th>\n",
       "      <th>year</th>\n",
       "      <th>YearsCode</th>\n",
       "      <th>YearsCodePro</th>\n",
       "      <th>DevType</th>\n",
       "      <th>LanguageHaveWorkedWith</th>\n",
       "      <th>LanguageWantToWorkWith</th>\n",
       "      <th>DatabaseHaveWorkedWith</th>\n",
       "      <th>DatabaseWantToWorkWith</th>\n",
       "      <th>PlatformHaveWorkedWith</th>\n",
       "      <th>PlatformWantToWorkWith</th>\n",
       "      <th>WebframeHaveWorkedWith</th>\n",
       "      <th>WebframeWantToWorkWith</th>\n",
       "      <th>ToolsTechHaveWorkedWith</th>\n",
       "      <th>ToolsTechWantToWorkWith</th>\n",
       "      <th>OperatingSystem</th>\n",
       "      <th>OpSysProfessional use</th>\n",
       "      <th>OpSysPersonal use</th>\n",
       "      <th>NEWCollabToolsHaveWorkedWith</th>\n",
       "      <th>NEWCollabToolsWantToWorkWith</th>\n",
       "    </tr>\n",
       "  </thead>\n",
       "  <tbody>\n",
       "    <tr>\n",
       "      <th>0</th>\n",
       "      <td>2018</td>\n",
       "      <td>3-5 years</td>\n",
       "      <td>3-5 years</td>\n",
       "      <td>Full-stack developer</td>\n",
       "      <td>JavaScript;Python;HTML;CSS</td>\n",
       "      <td>JavaScript;Python;HTML;CSS</td>\n",
       "      <td>Redis;SQL Server;MySQL;PostgreSQL;Amazon RDS/A...</td>\n",
       "      <td>Redis;SQL Server;MySQL;PostgreSQL;Amazon RDS/A...</td>\n",
       "      <td>AWS;Azure;Linux;Firebase</td>\n",
       "      <td>AWS;Azure;Linux;Firebase</td>\n",
       "      <td>Django;React</td>\n",
       "      <td>Django;React</td>\n",
       "      <td>NaN</td>\n",
       "      <td>NaN</td>\n",
       "      <td>Linux-based</td>\n",
       "      <td>NaN</td>\n",
       "      <td>NaN</td>\n",
       "      <td>Komodo;Vim;Visual Studio Code</td>\n",
       "      <td>NaN</td>\n",
       "    </tr>\n",
       "    <tr>\n",
       "      <th>1</th>\n",
       "      <td>2018</td>\n",
       "      <td>30 or more years</td>\n",
       "      <td>18-20 years</td>\n",
       "      <td>Database administrator;DevOps specialist;Full-...</td>\n",
       "      <td>JavaScript;Python;Bash/Shell</td>\n",
       "      <td>Go;Python</td>\n",
       "      <td>Redis;PostgreSQL;Memcached</td>\n",
       "      <td>PostgreSQL</td>\n",
       "      <td>Linux</td>\n",
       "      <td>Linux</td>\n",
       "      <td>Django</td>\n",
       "      <td>React</td>\n",
       "      <td>NaN</td>\n",
       "      <td>NaN</td>\n",
       "      <td>Linux-based</td>\n",
       "      <td>NaN</td>\n",
       "      <td>NaN</td>\n",
       "      <td>IPython / Jupyter;Sublime Text;Vim</td>\n",
       "      <td>NaN</td>\n",
       "    </tr>\n",
       "    <tr>\n",
       "      <th>2</th>\n",
       "      <td>2018</td>\n",
       "      <td>24-26 years</td>\n",
       "      <td>6-8 years</td>\n",
       "      <td>Engineering manager;Full-stack developer</td>\n",
       "      <td>NaN</td>\n",
       "      <td>NaN</td>\n",
       "      <td>NaN</td>\n",
       "      <td>NaN</td>\n",
       "      <td>NaN</td>\n",
       "      <td>NaN</td>\n",
       "      <td>NaN</td>\n",
       "      <td>NaN</td>\n",
       "      <td>NaN</td>\n",
       "      <td>NaN</td>\n",
       "      <td>NaN</td>\n",
       "      <td>NaN</td>\n",
       "      <td>NaN</td>\n",
       "      <td>NaN</td>\n",
       "      <td>NaN</td>\n",
       "    </tr>\n",
       "    <tr>\n",
       "      <th>3</th>\n",
       "      <td>2018</td>\n",
       "      <td>18-20 years</td>\n",
       "      <td>12-14 years</td>\n",
       "      <td>Full-stack developer</td>\n",
       "      <td>C#;JavaScript;SQL;TypeScript;HTML;CSS;Bash/Shell</td>\n",
       "      <td>C#;JavaScript;SQL;TypeScript;HTML;CSS;Bash/Shell</td>\n",
       "      <td>SQL Server;Microsoft Azure (Tables, CosmosDB, ...</td>\n",
       "      <td>SQL Server;Microsoft Azure (Tables, CosmosDB, ...</td>\n",
       "      <td>Azure</td>\n",
       "      <td>Azure</td>\n",
       "      <td>NaN</td>\n",
       "      <td>Angular;.NET Core;React</td>\n",
       "      <td>NaN</td>\n",
       "      <td>NaN</td>\n",
       "      <td>Windows</td>\n",
       "      <td>NaN</td>\n",
       "      <td>NaN</td>\n",
       "      <td>Visual Studio;Visual Studio Code</td>\n",
       "      <td>NaN</td>\n",
       "    </tr>\n",
       "    <tr>\n",
       "      <th>4</th>\n",
       "      <td>2018</td>\n",
       "      <td>6-8 years</td>\n",
       "      <td>0-2 years</td>\n",
       "      <td>Data or business analyst;Desktop or enterprise...</td>\n",
       "      <td>C;C++;Java;Matlab;R;SQL;Bash/Shell</td>\n",
       "      <td>Assembly;C;C++;Matlab;SQL;Bash/Shell</td>\n",
       "      <td>SQL Server;PostgreSQL;Oracle;IBM Db2</td>\n",
       "      <td>PostgreSQL;Oracle;IBM Db2</td>\n",
       "      <td>Arduino;Windows Desktop or Server</td>\n",
       "      <td>Arduino;Windows Desktop or Server</td>\n",
       "      <td>NaN</td>\n",
       "      <td>NaN</td>\n",
       "      <td>NaN</td>\n",
       "      <td>NaN</td>\n",
       "      <td>Windows</td>\n",
       "      <td>NaN</td>\n",
       "      <td>NaN</td>\n",
       "      <td>Notepad++;Visual Studio;Visual Studio Code</td>\n",
       "      <td>NaN</td>\n",
       "    </tr>\n",
       "  </tbody>\n",
       "</table>\n",
       "</div>"
      ],
      "text/plain": [
       "   year         YearsCode YearsCodePro  \\\n",
       "0  2018         3-5 years    3-5 years   \n",
       "1  2018  30 or more years  18-20 years   \n",
       "2  2018       24-26 years    6-8 years   \n",
       "3  2018       18-20 years  12-14 years   \n",
       "4  2018         6-8 years    0-2 years   \n",
       "\n",
       "                                             DevType  \\\n",
       "0                               Full-stack developer   \n",
       "1  Database administrator;DevOps specialist;Full-...   \n",
       "2           Engineering manager;Full-stack developer   \n",
       "3                               Full-stack developer   \n",
       "4  Data or business analyst;Desktop or enterprise...   \n",
       "\n",
       "                             LanguageHaveWorkedWith  \\\n",
       "0                        JavaScript;Python;HTML;CSS   \n",
       "1                      JavaScript;Python;Bash/Shell   \n",
       "2                                               NaN   \n",
       "3  C#;JavaScript;SQL;TypeScript;HTML;CSS;Bash/Shell   \n",
       "4                C;C++;Java;Matlab;R;SQL;Bash/Shell   \n",
       "\n",
       "                             LanguageWantToWorkWith  \\\n",
       "0                        JavaScript;Python;HTML;CSS   \n",
       "1                                         Go;Python   \n",
       "2                                               NaN   \n",
       "3  C#;JavaScript;SQL;TypeScript;HTML;CSS;Bash/Shell   \n",
       "4              Assembly;C;C++;Matlab;SQL;Bash/Shell   \n",
       "\n",
       "                              DatabaseHaveWorkedWith  \\\n",
       "0  Redis;SQL Server;MySQL;PostgreSQL;Amazon RDS/A...   \n",
       "1                         Redis;PostgreSQL;Memcached   \n",
       "2                                                NaN   \n",
       "3  SQL Server;Microsoft Azure (Tables, CosmosDB, ...   \n",
       "4               SQL Server;PostgreSQL;Oracle;IBM Db2   \n",
       "\n",
       "                              DatabaseWantToWorkWith  \\\n",
       "0  Redis;SQL Server;MySQL;PostgreSQL;Amazon RDS/A...   \n",
       "1                                         PostgreSQL   \n",
       "2                                                NaN   \n",
       "3  SQL Server;Microsoft Azure (Tables, CosmosDB, ...   \n",
       "4                          PostgreSQL;Oracle;IBM Db2   \n",
       "\n",
       "              PlatformHaveWorkedWith             PlatformWantToWorkWith  \\\n",
       "0           AWS;Azure;Linux;Firebase           AWS;Azure;Linux;Firebase   \n",
       "1                              Linux                              Linux   \n",
       "2                                NaN                                NaN   \n",
       "3                              Azure                              Azure   \n",
       "4  Arduino;Windows Desktop or Server  Arduino;Windows Desktop or Server   \n",
       "\n",
       "  WebframeHaveWorkedWith   WebframeWantToWorkWith ToolsTechHaveWorkedWith  \\\n",
       "0           Django;React             Django;React                     NaN   \n",
       "1                 Django                    React                     NaN   \n",
       "2                    NaN                      NaN                     NaN   \n",
       "3                    NaN  Angular;.NET Core;React                     NaN   \n",
       "4                    NaN                      NaN                     NaN   \n",
       "\n",
       "  ToolsTechWantToWorkWith OperatingSystem OpSysProfessional use  \\\n",
       "0                     NaN     Linux-based                   NaN   \n",
       "1                     NaN     Linux-based                   NaN   \n",
       "2                     NaN             NaN                   NaN   \n",
       "3                     NaN         Windows                   NaN   \n",
       "4                     NaN         Windows                   NaN   \n",
       "\n",
       "  OpSysPersonal use                NEWCollabToolsHaveWorkedWith  \\\n",
       "0               NaN               Komodo;Vim;Visual Studio Code   \n",
       "1               NaN          IPython / Jupyter;Sublime Text;Vim   \n",
       "2               NaN                                         NaN   \n",
       "3               NaN            Visual Studio;Visual Studio Code   \n",
       "4               NaN  Notepad++;Visual Studio;Visual Studio Code   \n",
       "\n",
       "  NEWCollabToolsWantToWorkWith  \n",
       "0                          NaN  \n",
       "1                          NaN  \n",
       "2                          NaN  \n",
       "3                          NaN  \n",
       "4                          NaN  "
      ]
     },
     "execution_count": 11,
     "metadata": {},
     "output_type": "execute_result"
    }
   ],
   "source": [
    "df.head()"
   ]
  },
  {
   "cell_type": "code",
   "execution_count": 12,
   "id": "7c7ed52c",
   "metadata": {},
   "outputs": [
    {
     "data": {
      "text/plain": [
       "year\n",
       "2018    47235\n",
       "2019    23861\n",
       "2020    22182\n",
       "2021    21732\n",
       "2022    19724\n",
       "Name: WebframeHaveWorkedWith, dtype: int64"
      ]
     },
     "execution_count": 12,
     "metadata": {},
     "output_type": "execute_result"
    }
   ],
   "source": [
    "df.groupby('year')['WebframeHaveWorkedWith'].apply(lambda x: x.isna().sum())"
   ]
  },
  {
   "cell_type": "code",
   "execution_count": 122,
   "id": "47d5ad4e",
   "metadata": {},
   "outputs": [],
   "source": [
    "# there are missing values in WebframeHaveWorkedWith column after grouping, i want to remove these missing rows\n",
    "web = df[['WebframeHaveWorkedWith', 'year']]\n",
    "web = web.dropna(subset=['WebframeHaveWorkedWith'])"
   ]
  },
  {
   "cell_type": "code",
   "execution_count": 123,
   "id": "a189f1c9",
   "metadata": {},
   "outputs": [],
   "source": [
    "# split the values in the column by semicolons, resulting in a column of lists. Then, use df.explode('WebframeHaveWorkedWith') \n",
    "# to explode the lists into separate rows, duplicating the other columns as necessary.\n",
    "web['WebframeHaveWorkedWith'] = web['WebframeHaveWorkedWith'].str.split(';')\n",
    "web = web.explode('WebframeHaveWorkedWith')"
   ]
  },
  {
   "cell_type": "code",
   "execution_count": 127,
   "id": "057d2e56",
   "metadata": {},
   "outputs": [
    {
     "data": {
      "text/html": [
       "<div>\n",
       "<style scoped>\n",
       "    .dataframe tbody tr th:only-of-type {\n",
       "        vertical-align: middle;\n",
       "    }\n",
       "\n",
       "    .dataframe tbody tr th {\n",
       "        vertical-align: top;\n",
       "    }\n",
       "\n",
       "    .dataframe thead th {\n",
       "        text-align: right;\n",
       "    }\n",
       "</style>\n",
       "<table border=\"1\" class=\"dataframe\">\n",
       "  <thead>\n",
       "    <tr style=\"text-align: right;\">\n",
       "      <th></th>\n",
       "      <th>WebframeHaveWorkedWith</th>\n",
       "      <th>year</th>\n",
       "    </tr>\n",
       "  </thead>\n",
       "  <tbody>\n",
       "    <tr>\n",
       "      <th>0</th>\n",
       "      <td>Django</td>\n",
       "      <td>2018</td>\n",
       "    </tr>\n",
       "    <tr>\n",
       "      <th>0</th>\n",
       "      <td>React</td>\n",
       "      <td>2018</td>\n",
       "    </tr>\n",
       "    <tr>\n",
       "      <th>1</th>\n",
       "      <td>Django</td>\n",
       "      <td>2018</td>\n",
       "    </tr>\n",
       "    <tr>\n",
       "      <th>5</th>\n",
       "      <td>Angular</td>\n",
       "      <td>2018</td>\n",
       "    </tr>\n",
       "    <tr>\n",
       "      <th>5</th>\n",
       "      <td>Node.js</td>\n",
       "      <td>2018</td>\n",
       "    </tr>\n",
       "    <tr>\n",
       "      <th>...</th>\n",
       "      <td>...</td>\n",
       "      <td>...</td>\n",
       "    </tr>\n",
       "    <tr>\n",
       "      <th>408905</th>\n",
       "      <td>ASP.NET Core</td>\n",
       "      <td>2022</td>\n",
       "    </tr>\n",
       "    <tr>\n",
       "      <th>408905</th>\n",
       "      <td>Blazor</td>\n",
       "      <td>2022</td>\n",
       "    </tr>\n",
       "    <tr>\n",
       "      <th>408905</th>\n",
       "      <td>Node.js</td>\n",
       "      <td>2022</td>\n",
       "    </tr>\n",
       "    <tr>\n",
       "      <th>408905</th>\n",
       "      <td>React.js</td>\n",
       "      <td>2022</td>\n",
       "    </tr>\n",
       "    <tr>\n",
       "      <th>408905</th>\n",
       "      <td>Svelte</td>\n",
       "      <td>2022</td>\n",
       "    </tr>\n",
       "  </tbody>\n",
       "</table>\n",
       "<p>717352 rows × 2 columns</p>\n",
       "</div>"
      ],
      "text/plain": [
       "       WebframeHaveWorkedWith  year\n",
       "0                      Django  2018\n",
       "0                       React  2018\n",
       "1                      Django  2018\n",
       "5                     Angular  2018\n",
       "5                     Node.js  2018\n",
       "...                       ...   ...\n",
       "408905          ASP.NET Core   2022\n",
       "408905                 Blazor  2022\n",
       "408905                Node.js  2022\n",
       "408905               React.js  2022\n",
       "408905                 Svelte  2022\n",
       "\n",
       "[717352 rows x 2 columns]"
      ]
     },
     "execution_count": 127,
     "metadata": {},
     "output_type": "execute_result"
    }
   ],
   "source": [
    "web"
   ]
  },
  {
   "cell_type": "code",
   "execution_count": 126,
   "id": "57c052f3",
   "metadata": {
    "scrolled": true
   },
   "outputs": [
    {
     "data": {
      "text/plain": [
       "array(['Django', 'React', 'Angular', 'Node.js', 'Hadoop', 'Spark',\n",
       "       'Spring', '.NET Core', 'Cordova', 'Xamarin', 'TensorFlow',\n",
       "       'Torch/PyTorch', 'Flask', 'Express', 'jQuery', 'React.js',\n",
       "       'Ruby on Rails', 'Other(s):', 'Angular/Angular.js', 'ASP.NET',\n",
       "       'Vue.js', 'Laravel', 'Drupal', 'ASP.NET Core', 'Angular.js',\n",
       "       'Gatsby', 'Symfony', 'FastAPI', 'ASP.NET Core ', 'Svelte',\n",
       "       'Next.js', 'Phoenix', 'Nuxt.js', 'Blazor', 'Fastify', 'Deno',\n",
       "       'Play Framework'], dtype=object)"
      ]
     },
     "execution_count": 126,
     "metadata": {},
     "output_type": "execute_result"
    }
   ],
   "source": [
    "web['WebframeHaveWorkedWith'].unique()"
   ]
  },
  {
   "cell_type": "code",
   "execution_count": 129,
   "id": "f01fe79c",
   "metadata": {},
   "outputs": [
    {
     "ename": "NameError",
     "evalue": "name 'React' is not defined",
     "output_type": "error",
     "traceback": [
      "\u001b[0;31m---------------------------------------------------------------------------\u001b[0m",
      "\u001b[0;31mNameError\u001b[0m                                 Traceback (most recent call last)",
      "Cell \u001b[0;32mIn[129], line 2\u001b[0m\n\u001b[1;32m      1\u001b[0m \u001b[38;5;66;03m# here i want to clean up the data a bit to make it align across the years\u001b[39;00m\n\u001b[0;32m----> 2\u001b[0m web\u001b[38;5;241m.\u001b[39mloc[web[\u001b[38;5;124m'\u001b[39m\u001b[38;5;124mWebframeHaveWorkedWith\u001b[39m\u001b[38;5;124m'\u001b[39m]\u001b[38;5;241m==\u001b[39m\u001b[38;5;124m'\u001b[39m\u001b[38;5;124mReact\u001b[39m\u001b[38;5;124m'\u001b[39m, \u001b[38;5;124m'\u001b[39m\u001b[38;5;124mWebframeHaveWorkedWith\u001b[39m\u001b[38;5;124m'\u001b[39m] \u001b[38;5;241m=\u001b[39m \u001b[43mReact\u001b[49m\u001b[38;5;241m.\u001b[39mjs\n",
      "\u001b[0;31mNameError\u001b[0m: name 'React' is not defined"
     ]
    }
   ],
   "source": [
    "# here i want to clean up the data a bit to make it align across the years\n",
    "web.loc[web['WebframeHaveWorkedWith']=='React', 'WebframeHaveWorkedWith'] = React.js"
   ]
  },
  {
   "cell_type": "code",
   "execution_count": 32,
   "id": "d327cc2d",
   "metadata": {},
   "outputs": [],
   "source": [
    "web_counts = web['WebframeHaveWorkedWith'].value_counts()"
   ]
  },
  {
   "cell_type": "code",
   "execution_count": 33,
   "id": "23d83cb7",
   "metadata": {},
   "outputs": [
    {
     "data": {
      "text/plain": [
       "WebframeHaveWorkedWith\n",
       "jQuery      86592\n",
       "React.js    83617\n",
       "Angular     55249\n",
       "Node.js     51331\n",
       "Express     49050\n",
       "ASP.NET     44014\n",
       "Vue.js      39225\n",
       "Django      38434\n",
       "Spring      35495\n",
       "Flask       31867\n",
       "Name: count, dtype: int64"
      ]
     },
     "execution_count": 33,
     "metadata": {},
     "output_type": "execute_result"
    }
   ],
   "source": [
    "web_counts.head(10)"
   ]
  },
  {
   "cell_type": "markdown",
   "id": "fadb01bd",
   "metadata": {},
   "source": [
    "It is shown that overall the most popular web framework is jQuery, alongside with React.js, Angular, nodejs and express. \n",
    "\n",
    "Next I will pick up the 10 most popular web frameworks and analyze their yearly usage trend."
   ]
  },
  {
   "cell_type": "code",
   "execution_count": 104,
   "id": "17d7b275",
   "metadata": {},
   "outputs": [],
   "source": [
    "web_counts = web.groupby(['year', 'WebframeHaveWorkedWith']).value_counts()"
   ]
  },
  {
   "cell_type": "code",
   "execution_count": 105,
   "id": "5a88a0c1",
   "metadata": {},
   "outputs": [],
   "source": [
    "# Reshape the result for plotting\n",
    "web_counts = web_counts.unstack(fill_value=0)"
   ]
  },
  {
   "cell_type": "code",
   "execution_count": 107,
   "id": "1de1774d",
   "metadata": {},
   "outputs": [],
   "source": [
    "web_counts = web_counts[['jQuery', 'React.js', 'Angular', 'Node.js', 'Express', 'ASP.NET', 'Vue.js', 'Django', 'Spring', 'Flask']]"
   ]
  },
  {
   "cell_type": "code",
   "execution_count": 116,
   "id": "27fcb29a",
   "metadata": {},
   "outputs": [
    {
     "data": {
      "text/html": [
       "<div>\n",
       "<style scoped>\n",
       "    .dataframe tbody tr th:only-of-type {\n",
       "        vertical-align: middle;\n",
       "    }\n",
       "\n",
       "    .dataframe tbody tr th {\n",
       "        vertical-align: top;\n",
       "    }\n",
       "\n",
       "    .dataframe thead th {\n",
       "        text-align: right;\n",
       "    }\n",
       "</style>\n",
       "<table border=\"1\" class=\"dataframe\">\n",
       "  <thead>\n",
       "    <tr style=\"text-align: right;\">\n",
       "      <th>WebframeHaveWorkedWith</th>\n",
       "      <th>jQuery</th>\n",
       "      <th>React.js</th>\n",
       "      <th>Angular</th>\n",
       "      <th>Node.js</th>\n",
       "      <th>Express</th>\n",
       "      <th>ASP.NET</th>\n",
       "      <th>Vue.js</th>\n",
       "      <th>Django</th>\n",
       "      <th>Spring</th>\n",
       "      <th>Flask</th>\n",
       "    </tr>\n",
       "    <tr>\n",
       "      <th>year</th>\n",
       "      <th></th>\n",
       "      <th></th>\n",
       "      <th></th>\n",
       "      <th></th>\n",
       "      <th></th>\n",
       "      <th></th>\n",
       "      <th></th>\n",
       "      <th></th>\n",
       "      <th></th>\n",
       "      <th></th>\n",
       "    </tr>\n",
       "  </thead>\n",
       "  <tbody>\n",
       "    <tr>\n",
       "      <th>2018</th>\n",
       "      <td>0</td>\n",
       "      <td>0</td>\n",
       "      <td>19023</td>\n",
       "      <td>25598</td>\n",
       "      <td>0</td>\n",
       "      <td>0</td>\n",
       "      <td>0</td>\n",
       "      <td>6723</td>\n",
       "      <td>9079</td>\n",
       "      <td>0</td>\n",
       "    </tr>\n",
       "    <tr>\n",
       "      <th>2019</th>\n",
       "      <td>30981</td>\n",
       "      <td>19877</td>\n",
       "      <td>0</td>\n",
       "      <td>0</td>\n",
       "      <td>12522</td>\n",
       "      <td>16699</td>\n",
       "      <td>9671</td>\n",
       "      <td>8249</td>\n",
       "      <td>10298</td>\n",
       "      <td>7694</td>\n",
       "    </tr>\n",
       "    <tr>\n",
       "      <th>2020</th>\n",
       "      <td>18316</td>\n",
       "      <td>15167</td>\n",
       "      <td>10617</td>\n",
       "      <td>0</td>\n",
       "      <td>8961</td>\n",
       "      <td>9258</td>\n",
       "      <td>7322</td>\n",
       "      <td>6014</td>\n",
       "      <td>6941</td>\n",
       "      <td>6005</td>\n",
       "    </tr>\n",
       "    <tr>\n",
       "      <th>2021</th>\n",
       "      <td>21693</td>\n",
       "      <td>25296</td>\n",
       "      <td>14471</td>\n",
       "      <td>0</td>\n",
       "      <td>15010</td>\n",
       "      <td>9918</td>\n",
       "      <td>11954</td>\n",
       "      <td>9446</td>\n",
       "      <td>9177</td>\n",
       "      <td>10174</td>\n",
       "    </tr>\n",
       "    <tr>\n",
       "      <th>2022</th>\n",
       "      <td>15602</td>\n",
       "      <td>23277</td>\n",
       "      <td>11138</td>\n",
       "      <td>25733</td>\n",
       "      <td>12557</td>\n",
       "      <td>8139</td>\n",
       "      <td>10278</td>\n",
       "      <td>8002</td>\n",
       "      <td>0</td>\n",
       "      <td>7994</td>\n",
       "    </tr>\n",
       "  </tbody>\n",
       "</table>\n",
       "</div>"
      ],
      "text/plain": [
       "WebframeHaveWorkedWith  jQuery  React.js  Angular  Node.js  Express  ASP.NET  \\\n",
       "year                                                                           \n",
       "2018                         0         0    19023    25598        0        0   \n",
       "2019                     30981     19877        0        0    12522    16699   \n",
       "2020                     18316     15167    10617        0     8961     9258   \n",
       "2021                     21693     25296    14471        0    15010     9918   \n",
       "2022                     15602     23277    11138    25733    12557     8139   \n",
       "\n",
       "WebframeHaveWorkedWith  Vue.js  Django  Spring  Flask  \n",
       "year                                                   \n",
       "2018                         0    6723    9079      0  \n",
       "2019                      9671    8249   10298   7694  \n",
       "2020                      7322    6014    6941   6005  \n",
       "2021                     11954    9446    9177  10174  \n",
       "2022                     10278    8002       0   7994  "
      ]
     },
     "execution_count": 116,
     "metadata": {},
     "output_type": "execute_result"
    }
   ],
   "source": [
    "web_counts"
   ]
  },
  {
   "cell_type": "code",
   "execution_count": 118,
   "id": "5beac2c4",
   "metadata": {},
   "outputs": [
    {
     "data": {
      "image/png": "[encoded data removed]",
      "text/plain": [
       "<Figure size 640x480 with 1 Axes>"
      ]
     },
     "metadata": {},
     "output_type": "display_data"
    }
   ],
   "source": [
    "# Plot the grouped value counts using a line chart\n",
    "web_counts.T.plot(marker='o')\n",
    "\n",
    "# Add labels and title\n",
    "plt.xlabel('Group')\n",
    "plt.ylabel('Count')\n",
    "plt.title('Value Counts by Group')\n",
    "\n",
    "# Show the plot\n",
    "plt.show()\n",
    "\n",
    "\n",
    "\n"
   ]
  },
  {
   "cell_type": "code",
   "execution_count": null,
   "id": "a8277acf",
   "metadata": {},
   "outputs": [],
   "source": []
  },
  {
   "cell_type": "code",
   "execution_count": null,
   "id": "df6e4dd3",
   "metadata": {},
   "outputs": [],
   "source": []
  },
  {
   "cell_type": "code",
   "execution_count": null,
   "id": "242f4068",
   "metadata": {},
   "outputs": [],
   "source": []
  }
 ],
 "metadata": {
  "kernelspec": {
   "display_name": "Python 3 (ipykernel)",
   "language": "python",
   "name": "python3"
  },
  "language_info": {
   "codemirror_mode": {
    "name": "ipython",
    "version": 3
   },
   "file_extension": ".py",
   "mimetype": "text/x-python",
   "name": "python",
   "nbconvert_exporter": "python",
   "pygments_lexer": "ipython3",
   "version": "3.8.10"
  }
 },
 "nbformat": 4,
 "nbformat_minor": 5
}
