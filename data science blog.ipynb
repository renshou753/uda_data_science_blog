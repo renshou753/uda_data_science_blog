{
 "cells": [
  {
   "cell_type": "markdown",
   "id": "d4ce66f3",
   "metadata": {},
   "source": [
    "# Writing a Data Scientist Blog Post"
   ]
  },
  {
   "cell_type": "markdown",
   "id": "80c744d8",
   "metadata": {},
   "source": [
    "### Business understanding\n",
    "\n",
    "As the technology landscape evolves rapidly, it is crucial to understand the preferences and trends among developers. In this blog post, we dive into the annual Stack Overflow survey results from 2018 to 2022 to uncover valuable insights. Our analysis focuses on three key questions: the most popular web frameworks, the most desired programming languages, and the preferred tools and technologies for web developers.\n",
    "\n",
    "The datasets I will pick up are the stack overflow surveys ranged for 5 years from 2018 to 2022. By doing this, I could analyze the historical data overtime and hopefully be able to predict the trend for the upcoming years."
   ]
  },
  {
   "cell_type": "markdown",
   "id": "ffe8ec84",
   "metadata": {},
   "source": [
    "The key motivations of this analysis is to answer these questions:\n",
    "\n",
    "1. Over a 5 years span, what are the most popular web frameworks used by the developers, which framework is the most desired one for the developers to wotk with.\n",
    "\n",
    "2. Similarly, I want to know over a 5 years span, which programming language is the most desired one for the developers to work with.\n",
    "\n",
    "3. For the web developers, what are the tools/technologies the developers want to work with."
   ]
  },
  {
   "cell_type": "markdown",
   "id": "6158604e",
   "metadata": {},
   "source": [
    "### Data Understanding\n",
    "\n",
    "#### Collect initial data\n"
   ]
  },
  {
   "cell_type": "code",
   "execution_count": 1,
   "id": "48b988de",
   "metadata": {},
   "outputs": [],
   "source": [
    "# import dependencies\n",
    "\n",
    "import os\n",
    "import zipfile\n",
    "\n",
    "import pandas as pd\n",
    "import numpy as np\n",
    "import matplotlib.pyplot as plt\n",
    "import plotly.express as px\n",
    "\n",
    "from typing import List"
   ]
  },
  {
   "cell_type": "code",
   "execution_count": 2,
   "id": "be049716",
   "metadata": {},
   "outputs": [],
   "source": [
    "base_dir = os.path.abspath(os.getcwd())"
   ]
  },
  {
   "cell_type": "code",
   "execution_count": 3,
   "id": "920be8d2",
   "metadata": {},
   "outputs": [
    {
     "data": {
      "text/plain": [
       "'/home/tony/projects/uda_data_science_blog'"
      ]
     },
     "execution_count": 3,
     "metadata": {},
     "output_type": "execute_result"
    }
   ],
   "source": [
    "base_dir"
   ]
  },
  {
   "cell_type": "code",
   "execution_count": 5,
   "id": "57f7419f",
   "metadata": {},
   "outputs": [],
   "source": [
    "zip_list = ['survey_results_public_2018.zip', 'survey_results_public_2019.zip', 'survey_results_public_2020.zip', 'survey_results_public_2021.zip', 'survey_results_public_2022.zip']\n",
    "\n",
    "def process_csv_files(base_dir:str, zip_list:List):\n",
    "    \"\"\"\n",
    "    Description: This function can be used to read the zip file in the filepath (data)\n",
    "    to unzip all the csv files into data folder for further processing.\n",
    "\n",
    "    Arguments:\n",
    "        base_dir: base dir path. \n",
    "        zip_list: to be processed zip files. \n",
    "\n",
    "    Returns:\n",
    "        None\n",
    "    \"\"\"\n",
    "    \n",
    "    # Path to the zip file\n",
    "    zip_out_path = os.path.join(base_dir, 'data')\n",
    "\n",
    "    for file in zip_list:\n",
    "        zip_path = os.path.join(base_dir, f'data/{file}')\n",
    "\n",
    "        # Extract the zip file\n",
    "        with zipfile.ZipFile(zip_path, 'r') as zip_ref:\n",
    "            zip_ref.extractall(zip_out_path)\n",
    "            \n",
    "process_csv_files(base_dir, zip_list)"
   ]
  },
  {
   "cell_type": "code",
   "execution_count": 6,
   "id": "58075959",
   "metadata": {
    "scrolled": true
   },
   "outputs": [
    {
     "name": "stderr",
     "output_type": "stream",
     "text": [
      "/tmp/ipykernel_21606/1687846786.py:1: DtypeWarning: Columns (8,12,13,14,15,16,50,51,52,53,55,56,57,58,59,60,61,62,63,64,65,66,67,68,69,70,71,72,73,74,75,76,77,78,79,80,81,82,83,84,85,93,94,95,96,97,98,99,100,101,102,103,104,105,106,107,108,109,110,111,112,113,114,115,116,117,118,119,120,121,122,123,124,125,126,127,128) have mixed types. Specify dtype option on import or set low_memory=False.\n",
      "  df_2018 = pd.read_csv(os.path.join(base_dir, 'data/survey_results_public_2018.csv'))\n"
     ]
    }
   ],
   "source": [
    "df_2018 = pd.read_csv(os.path.join(base_dir, 'data/survey_results_public_2018.csv'))\n",
    "df_2019 = pd.read_csv(os.path.join(base_dir, 'data/survey_results_public_2019.csv'))\n",
    "df_2020 = pd.read_csv(os.path.join(base_dir, 'data/survey_results_public_2020.csv'))\n",
    "df_2021 = pd.read_csv(os.path.join(base_dir, 'data/survey_results_public_2021.csv'))\n",
    "df_2022 = pd.read_csv(os.path.join(base_dir, 'data/survey_results_public_2022.csv'))"
   ]
  },
  {
   "cell_type": "markdown",
   "id": "693ad816",
   "metadata": {},
   "source": [
    "#### Describe data\n",
    "\n",
    "Examine data format, number of records, or field identities.\n",
    "\n",
    "#### Explore data\n",
    "\n",
    "Dig deeper into the data. Query it, visualize it, and identify relationships among the data."
   ]
  },
  {
   "cell_type": "code",
   "execution_count": 7,
   "id": "b3759e25",
   "metadata": {
    "scrolled": true
   },
   "outputs": [
    {
     "name": "stdout",
     "output_type": "stream",
     "text": [
      "(98855, 129)\n",
      "(88883, 85)\n",
      "(64461, 61)\n",
      "(83439, 48)\n",
      "(73268, 79)\n"
     ]
    }
   ],
   "source": [
    "# to understand how many rows, cols are there for each table\n",
    "for t in [df_2018, df_2019, df_2020, df_2021, df_2022]:\n",
    "    print(t.shape)"
   ]
  },
  {
   "cell_type": "markdown",
   "id": "6947391c",
   "metadata": {},
   "source": [
    "### Data Preparation\n",
    "\n",
    "Select, clean, construct, integrate and format data"
   ]
  },
  {
   "cell_type": "code",
   "execution_count": 8,
   "id": "1b19824a",
   "metadata": {},
   "outputs": [],
   "source": [
    "# add year col to each df\n",
    "df_2018['year'] = 2018\n",
    "df_2019['year'] = 2019\n",
    "df_2020['year'] = 2020\n",
    "df_2021['year'] = 2021\n",
    "df_2022['year'] = 2022"
   ]
  },
  {
   "cell_type": "code",
   "execution_count": 9,
   "id": "d5ed1550",
   "metadata": {},
   "outputs": [],
   "source": [
    "# translation mapping to change col names for cross year consistency\n",
    "col_mappings = {\n",
    "    'YearsCoding': 'YearsCode',\n",
    "    'YearsCodingProf': 'YearsCodePro',\n",
    "    'LanguageWorkedWith': 'LanguageHaveWorkedWith',\n",
    "    'LanguageDesireNextYear': 'LanguageWantToWorkWith',\n",
    "    'DatabaseWorkedWith': 'DatabaseHaveWorkedWith',\n",
    "    'DatabaseDesireNextYear': 'DatabaseWantToWorkWith',\n",
    "    'PlatformWorkedWith': 'PlatformHaveWorkedWith',\n",
    "    'PlatformDesireNextYear': 'PlatformWantToWorkWith',\n",
    "    'FrameworkWorkedWith': 'WebframeHaveWorkedWith',\n",
    "    'WebframeWorkedWith': 'WebframeHaveWorkedWith',\n",
    "    'WebFrameWorkedWith': 'WebframeHaveWorkedWith',\n",
    "    'FrameworkDesireNextYear': 'WebframeWantToWorkWith',\n",
    "    'WebFrameDesireNextYear': 'WebframeWantToWorkWith',\n",
    "    'WebframeDesireNextYear': 'WebframeWantToWorkWith',\n",
    "    'IDE': 'NEWCollabToolsHaveWorkedWith',\n",
    "    'DevEnviron': 'NEWCollabToolsHaveWorkedWith',\n",
    "    'OpSys': 'OperatingSystem',\n",
    "}\n"
   ]
  },
  {
   "cell_type": "code",
   "execution_count": 10,
   "id": "9de0e420",
   "metadata": {},
   "outputs": [],
   "source": [
    "# rename col names based on mapping\n",
    "dfs = [df_2018, df_2019, df_2020, df_2021, df_2022]\n",
    "\n",
    "def rename_df_columns(mapping: dict, dfs: List):\n",
    "    \"\"\"\n",
    "    Description: This function can be used to translate the given data frame column names based on a pre-defined mapping dict\n",
    "\n",
    "    Arguments:\n",
    "        mapping: col name translation mapping. \n",
    "        dfs: a list of pandas dataframe. \n",
    "\n",
    "    Returns:\n",
    "        None\n",
    "    \"\"\"\n",
    "    for t in dfs:\n",
    "        t.rename(columns=mapping, inplace=True)\n",
    "        \n",
    "rename_df_columns(col_mappings, dfs)"
   ]
  },
  {
   "cell_type": "code",
   "execution_count": 11,
   "id": "46b6bf22",
   "metadata": {},
   "outputs": [],
   "source": [
    "## concatenate tables with the same col names\n",
    "df = pd.concat([df_2018, df_2019, df_2020, df_2021, df_2022], axis=0)\n",
    "df.reset_index(drop=True, inplace=True)"
   ]
  },
  {
   "cell_type": "code",
   "execution_count": 12,
   "id": "5455b446",
   "metadata": {},
   "outputs": [],
   "source": [
    "# only to keep necessary cols to answer my questions\n",
    "select_cols = ['year', 'YearsCode', 'YearsCodePro', 'DevType', 'LanguageHaveWorkedWith', 'LanguageWantToWorkWith', 'DatabaseHaveWorkedWith', 'DatabaseWantToWorkWith', 'PlatformHaveWorkedWith', 'PlatformWantToWorkWith', 'WebframeHaveWorkedWith', 'WebframeWantToWorkWith', 'ToolsTechHaveWorkedWith', 'ToolsTechWantToWorkWith', 'OperatingSystem', 'OpSysProfessional use', 'OpSysPersonal use', 'NEWCollabToolsHaveWorkedWith', 'NEWCollabToolsWantToWorkWith']\n",
    "df = df[select_cols]\n"
   ]
  },
  {
   "cell_type": "code",
   "execution_count": 13,
   "id": "d7a97888",
   "metadata": {
    "scrolled": false
   },
   "outputs": [
    {
     "data": {
      "text/html": [
       "<div>\n",
       "<style scoped>\n",
       "    .dataframe tbody tr th:only-of-type {\n",
       "        vertical-align: middle;\n",
       "    }\n",
       "\n",
       "    .dataframe tbody tr th {\n",
       "        vertical-align: top;\n",
       "    }\n",
       "\n",
       "    .dataframe thead th {\n",
       "        text-align: right;\n",
       "    }\n",
       "</style>\n",
       "<table border=\"1\" class=\"dataframe\">\n",
       "  <thead>\n",
       "    <tr style=\"text-align: right;\">\n",
       "      <th></th>\n",
       "      <th>year</th>\n",
       "      <th>YearsCode</th>\n",
       "      <th>YearsCodePro</th>\n",
       "      <th>DevType</th>\n",
       "      <th>LanguageHaveWorkedWith</th>\n",
       "      <th>LanguageWantToWorkWith</th>\n",
       "      <th>DatabaseHaveWorkedWith</th>\n",
       "      <th>DatabaseWantToWorkWith</th>\n",
       "      <th>PlatformHaveWorkedWith</th>\n",
       "      <th>PlatformWantToWorkWith</th>\n",
       "      <th>WebframeHaveWorkedWith</th>\n",
       "      <th>WebframeWantToWorkWith</th>\n",
       "      <th>ToolsTechHaveWorkedWith</th>\n",
       "      <th>ToolsTechWantToWorkWith</th>\n",
       "      <th>OperatingSystem</th>\n",
       "      <th>OpSysProfessional use</th>\n",
       "      <th>OpSysPersonal use</th>\n",
       "      <th>NEWCollabToolsHaveWorkedWith</th>\n",
       "      <th>NEWCollabToolsWantToWorkWith</th>\n",
       "    </tr>\n",
       "  </thead>\n",
       "  <tbody>\n",
       "    <tr>\n",
       "      <th>0</th>\n",
       "      <td>2018</td>\n",
       "      <td>3-5 years</td>\n",
       "      <td>3-5 years</td>\n",
       "      <td>Full-stack developer</td>\n",
       "      <td>JavaScript;Python;HTML;CSS</td>\n",
       "      <td>JavaScript;Python;HTML;CSS</td>\n",
       "      <td>Redis;SQL Server;MySQL;PostgreSQL;Amazon RDS/A...</td>\n",
       "      <td>Redis;SQL Server;MySQL;PostgreSQL;Amazon RDS/A...</td>\n",
       "      <td>AWS;Azure;Linux;Firebase</td>\n",
       "      <td>AWS;Azure;Linux;Firebase</td>\n",
       "      <td>Django;React</td>\n",
       "      <td>Django;React</td>\n",
       "      <td>NaN</td>\n",
       "      <td>NaN</td>\n",
       "      <td>Linux-based</td>\n",
       "      <td>NaN</td>\n",
       "      <td>NaN</td>\n",
       "      <td>Komodo;Vim;Visual Studio Code</td>\n",
       "      <td>NaN</td>\n",
       "    </tr>\n",
       "    <tr>\n",
       "      <th>1</th>\n",
       "      <td>2018</td>\n",
       "      <td>30 or more years</td>\n",
       "      <td>18-20 years</td>\n",
       "      <td>Database administrator;DevOps specialist;Full-...</td>\n",
       "      <td>JavaScript;Python;Bash/Shell</td>\n",
       "      <td>Go;Python</td>\n",
       "      <td>Redis;PostgreSQL;Memcached</td>\n",
       "      <td>PostgreSQL</td>\n",
       "      <td>Linux</td>\n",
       "      <td>Linux</td>\n",
       "      <td>Django</td>\n",
       "      <td>React</td>\n",
       "      <td>NaN</td>\n",
       "      <td>NaN</td>\n",
       "      <td>Linux-based</td>\n",
       "      <td>NaN</td>\n",
       "      <td>NaN</td>\n",
       "      <td>IPython / Jupyter;Sublime Text;Vim</td>\n",
       "      <td>NaN</td>\n",
       "    </tr>\n",
       "    <tr>\n",
       "      <th>2</th>\n",
       "      <td>2018</td>\n",
       "      <td>24-26 years</td>\n",
       "      <td>6-8 years</td>\n",
       "      <td>Engineering manager;Full-stack developer</td>\n",
       "      <td>NaN</td>\n",
       "      <td>NaN</td>\n",
       "      <td>NaN</td>\n",
       "      <td>NaN</td>\n",
       "      <td>NaN</td>\n",
       "      <td>NaN</td>\n",
       "      <td>NaN</td>\n",
       "      <td>NaN</td>\n",
       "      <td>NaN</td>\n",
       "      <td>NaN</td>\n",
       "      <td>NaN</td>\n",
       "      <td>NaN</td>\n",
       "      <td>NaN</td>\n",
       "      <td>NaN</td>\n",
       "      <td>NaN</td>\n",
       "    </tr>\n",
       "    <tr>\n",
       "      <th>3</th>\n",
       "      <td>2018</td>\n",
       "      <td>18-20 years</td>\n",
       "      <td>12-14 years</td>\n",
       "      <td>Full-stack developer</td>\n",
       "      <td>C#;JavaScript;SQL;TypeScript;HTML;CSS;Bash/Shell</td>\n",
       "      <td>C#;JavaScript;SQL;TypeScript;HTML;CSS;Bash/Shell</td>\n",
       "      <td>SQL Server;Microsoft Azure (Tables, CosmosDB, ...</td>\n",
       "      <td>SQL Server;Microsoft Azure (Tables, CosmosDB, ...</td>\n",
       "      <td>Azure</td>\n",
       "      <td>Azure</td>\n",
       "      <td>NaN</td>\n",
       "      <td>Angular;.NET Core;React</td>\n",
       "      <td>NaN</td>\n",
       "      <td>NaN</td>\n",
       "      <td>Windows</td>\n",
       "      <td>NaN</td>\n",
       "      <td>NaN</td>\n",
       "      <td>Visual Studio;Visual Studio Code</td>\n",
       "      <td>NaN</td>\n",
       "    </tr>\n",
       "    <tr>\n",
       "      <th>4</th>\n",
       "      <td>2018</td>\n",
       "      <td>6-8 years</td>\n",
       "      <td>0-2 years</td>\n",
       "      <td>Data or business analyst;Desktop or enterprise...</td>\n",
       "      <td>C;C++;Java;Matlab;R;SQL;Bash/Shell</td>\n",
       "      <td>Assembly;C;C++;Matlab;SQL;Bash/Shell</td>\n",
       "      <td>SQL Server;PostgreSQL;Oracle;IBM Db2</td>\n",
       "      <td>PostgreSQL;Oracle;IBM Db2</td>\n",
       "      <td>Arduino;Windows Desktop or Server</td>\n",
       "      <td>Arduino;Windows Desktop or Server</td>\n",
       "      <td>NaN</td>\n",
       "      <td>NaN</td>\n",
       "      <td>NaN</td>\n",
       "      <td>NaN</td>\n",
       "      <td>Windows</td>\n",
       "      <td>NaN</td>\n",
       "      <td>NaN</td>\n",
       "      <td>Notepad++;Visual Studio;Visual Studio Code</td>\n",
       "      <td>NaN</td>\n",
       "    </tr>\n",
       "  </tbody>\n",
       "</table>\n",
       "</div>"
      ],
      "text/plain": [
       "   year         YearsCode YearsCodePro  \\\n",
       "0  2018         3-5 years    3-5 years   \n",
       "1  2018  30 or more years  18-20 years   \n",
       "2  2018       24-26 years    6-8 years   \n",
       "3  2018       18-20 years  12-14 years   \n",
       "4  2018         6-8 years    0-2 years   \n",
       "\n",
       "                                             DevType  \\\n",
       "0                               Full-stack developer   \n",
       "1  Database administrator;DevOps specialist;Full-...   \n",
       "2           Engineering manager;Full-stack developer   \n",
       "3                               Full-stack developer   \n",
       "4  Data or business analyst;Desktop or enterprise...   \n",
       "\n",
       "                             LanguageHaveWorkedWith  \\\n",
       "0                        JavaScript;Python;HTML;CSS   \n",
       "1                      JavaScript;Python;Bash/Shell   \n",
       "2                                               NaN   \n",
       "3  C#;JavaScript;SQL;TypeScript;HTML;CSS;Bash/Shell   \n",
       "4                C;C++;Java;Matlab;R;SQL;Bash/Shell   \n",
       "\n",
       "                             LanguageWantToWorkWith  \\\n",
       "0                        JavaScript;Python;HTML;CSS   \n",
       "1                                         Go;Python   \n",
       "2                                               NaN   \n",
       "3  C#;JavaScript;SQL;TypeScript;HTML;CSS;Bash/Shell   \n",
       "4              Assembly;C;C++;Matlab;SQL;Bash/Shell   \n",
       "\n",
       "                              DatabaseHaveWorkedWith  \\\n",
       "0  Redis;SQL Server;MySQL;PostgreSQL;Amazon RDS/A...   \n",
       "1                         Redis;PostgreSQL;Memcached   \n",
       "2                                                NaN   \n",
       "3  SQL Server;Microsoft Azure (Tables, CosmosDB, ...   \n",
       "4               SQL Server;PostgreSQL;Oracle;IBM Db2   \n",
       "\n",
       "                              DatabaseWantToWorkWith  \\\n",
       "0  Redis;SQL Server;MySQL;PostgreSQL;Amazon RDS/A...   \n",
       "1                                         PostgreSQL   \n",
       "2                                                NaN   \n",
       "3  SQL Server;Microsoft Azure (Tables, CosmosDB, ...   \n",
       "4                          PostgreSQL;Oracle;IBM Db2   \n",
       "\n",
       "              PlatformHaveWorkedWith             PlatformWantToWorkWith  \\\n",
       "0           AWS;Azure;Linux;Firebase           AWS;Azure;Linux;Firebase   \n",
       "1                              Linux                              Linux   \n",
       "2                                NaN                                NaN   \n",
       "3                              Azure                              Azure   \n",
       "4  Arduino;Windows Desktop or Server  Arduino;Windows Desktop or Server   \n",
       "\n",
       "  WebframeHaveWorkedWith   WebframeWantToWorkWith ToolsTechHaveWorkedWith  \\\n",
       "0           Django;React             Django;React                     NaN   \n",
       "1                 Django                    React                     NaN   \n",
       "2                    NaN                      NaN                     NaN   \n",
       "3                    NaN  Angular;.NET Core;React                     NaN   \n",
       "4                    NaN                      NaN                     NaN   \n",
       "\n",
       "  ToolsTechWantToWorkWith OperatingSystem OpSysProfessional use  \\\n",
       "0                     NaN     Linux-based                   NaN   \n",
       "1                     NaN     Linux-based                   NaN   \n",
       "2                     NaN             NaN                   NaN   \n",
       "3                     NaN         Windows                   NaN   \n",
       "4                     NaN         Windows                   NaN   \n",
       "\n",
       "  OpSysPersonal use                NEWCollabToolsHaveWorkedWith  \\\n",
       "0               NaN               Komodo;Vim;Visual Studio Code   \n",
       "1               NaN          IPython / Jupyter;Sublime Text;Vim   \n",
       "2               NaN                                         NaN   \n",
       "3               NaN            Visual Studio;Visual Studio Code   \n",
       "4               NaN  Notepad++;Visual Studio;Visual Studio Code   \n",
       "\n",
       "  NEWCollabToolsWantToWorkWith  \n",
       "0                          NaN  \n",
       "1                          NaN  \n",
       "2                          NaN  \n",
       "3                          NaN  \n",
       "4                          NaN  "
      ]
     },
     "execution_count": 13,
     "metadata": {},
     "output_type": "execute_result"
    }
   ],
   "source": [
    "df.head()"
   ]
  },
  {
   "cell_type": "markdown",
   "id": "7d37d0b8",
   "metadata": {},
   "source": [
    "##### 1. Over a 5 years span, what are the most popular web frameworks used by the developers, which framework is the most desired one for the developers to learn."
   ]
  },
  {
   "cell_type": "code",
   "execution_count": 14,
   "id": "7c7ed52c",
   "metadata": {},
   "outputs": [
    {
     "data": {
      "text/plain": [
       "year\n",
       "2018    47235\n",
       "2019    23861\n",
       "2020    22182\n",
       "2021    21732\n",
       "2022    19724\n",
       "Name: WebframeHaveWorkedWith, dtype: int64"
      ]
     },
     "execution_count": 14,
     "metadata": {},
     "output_type": "execute_result"
    }
   ],
   "source": [
    "df.groupby('year')['WebframeHaveWorkedWith'].apply(lambda x: x.isna().sum())"
   ]
  },
  {
   "cell_type": "code",
   "execution_count": 15,
   "id": "47d5ad4e",
   "metadata": {},
   "outputs": [],
   "source": [
    "# there are missing values in WebframeHaveWorkedWith column after grouping, i want to remove these missing rows\n",
    "web = df[['WebframeHaveWorkedWith', 'year']]\n",
    "web = web.dropna(subset=['WebframeHaveWorkedWith'])"
   ]
  },
  {
   "cell_type": "code",
   "execution_count": 16,
   "id": "a189f1c9",
   "metadata": {},
   "outputs": [],
   "source": [
    "# split the values in the column by semicolons, resulting in a column of lists. Then, use df.explode('WebframeHaveWorkedWith') \n",
    "# to explode the lists into separate rows, duplicating the other columns as necessary.\n",
    "web['WebframeHaveWorkedWith'] = web['WebframeHaveWorkedWith'].str.split(';')\n",
    "web = web.explode('WebframeHaveWorkedWith')"
   ]
  },
  {
   "cell_type": "code",
   "execution_count": 17,
   "id": "a3258ec7",
   "metadata": {},
   "outputs": [
    {
     "data": {
      "text/html": [
       "<div>\n",
       "<style scoped>\n",
       "    .dataframe tbody tr th:only-of-type {\n",
       "        vertical-align: middle;\n",
       "    }\n",
       "\n",
       "    .dataframe tbody tr th {\n",
       "        vertical-align: top;\n",
       "    }\n",
       "\n",
       "    .dataframe thead th {\n",
       "        text-align: right;\n",
       "    }\n",
       "</style>\n",
       "<table border=\"1\" class=\"dataframe\">\n",
       "  <thead>\n",
       "    <tr style=\"text-align: right;\">\n",
       "      <th></th>\n",
       "      <th>WebframeHaveWorkedWith</th>\n",
       "      <th>year</th>\n",
       "    </tr>\n",
       "  </thead>\n",
       "  <tbody>\n",
       "    <tr>\n",
       "      <th>0</th>\n",
       "      <td>Django</td>\n",
       "      <td>2018</td>\n",
       "    </tr>\n",
       "    <tr>\n",
       "      <th>0</th>\n",
       "      <td>React</td>\n",
       "      <td>2018</td>\n",
       "    </tr>\n",
       "    <tr>\n",
       "      <th>1</th>\n",
       "      <td>Django</td>\n",
       "      <td>2018</td>\n",
       "    </tr>\n",
       "    <tr>\n",
       "      <th>5</th>\n",
       "      <td>Angular</td>\n",
       "      <td>2018</td>\n",
       "    </tr>\n",
       "    <tr>\n",
       "      <th>5</th>\n",
       "      <td>Node.js</td>\n",
       "      <td>2018</td>\n",
       "    </tr>\n",
       "    <tr>\n",
       "      <th>...</th>\n",
       "      <td>...</td>\n",
       "      <td>...</td>\n",
       "    </tr>\n",
       "    <tr>\n",
       "      <th>408905</th>\n",
       "      <td>ASP.NET Core</td>\n",
       "      <td>2022</td>\n",
       "    </tr>\n",
       "    <tr>\n",
       "      <th>408905</th>\n",
       "      <td>Blazor</td>\n",
       "      <td>2022</td>\n",
       "    </tr>\n",
       "    <tr>\n",
       "      <th>408905</th>\n",
       "      <td>Node.js</td>\n",
       "      <td>2022</td>\n",
       "    </tr>\n",
       "    <tr>\n",
       "      <th>408905</th>\n",
       "      <td>React.js</td>\n",
       "      <td>2022</td>\n",
       "    </tr>\n",
       "    <tr>\n",
       "      <th>408905</th>\n",
       "      <td>Svelte</td>\n",
       "      <td>2022</td>\n",
       "    </tr>\n",
       "  </tbody>\n",
       "</table>\n",
       "<p>717352 rows × 2 columns</p>\n",
       "</div>"
      ],
      "text/plain": [
       "       WebframeHaveWorkedWith  year\n",
       "0                      Django  2018\n",
       "0                       React  2018\n",
       "1                      Django  2018\n",
       "5                     Angular  2018\n",
       "5                     Node.js  2018\n",
       "...                       ...   ...\n",
       "408905          ASP.NET Core   2022\n",
       "408905                 Blazor  2022\n",
       "408905                Node.js  2022\n",
       "408905               React.js  2022\n",
       "408905                 Svelte  2022\n",
       "\n",
       "[717352 rows x 2 columns]"
      ]
     },
     "execution_count": 17,
     "metadata": {},
     "output_type": "execute_result"
    }
   ],
   "source": [
    "web"
   ]
  },
  {
   "cell_type": "code",
   "execution_count": 18,
   "id": "8dc46334",
   "metadata": {
    "scrolled": true
   },
   "outputs": [
    {
     "data": {
      "text/plain": [
       "array(['Django', 'React', 'Angular', 'Node.js', 'Hadoop', 'Spark',\n",
       "       'Spring', '.NET Core', 'Cordova', 'Xamarin', 'TensorFlow',\n",
       "       'Torch/PyTorch', 'Flask', 'Express', 'jQuery', 'React.js',\n",
       "       'Ruby on Rails', 'Other(s):', 'Angular/Angular.js', 'ASP.NET',\n",
       "       'Vue.js', 'Laravel', 'Drupal', 'ASP.NET Core', 'Angular.js',\n",
       "       'Gatsby', 'Symfony', 'FastAPI', 'ASP.NET Core ', 'Svelte',\n",
       "       'Next.js', 'Phoenix', 'Nuxt.js', 'Blazor', 'Fastify', 'Deno',\n",
       "       'Play Framework'], dtype=object)"
      ]
     },
     "execution_count": 18,
     "metadata": {},
     "output_type": "execute_result"
    }
   ],
   "source": [
    "web['WebframeHaveWorkedWith'].unique()"
   ]
  },
  {
   "cell_type": "code",
   "execution_count": 19,
   "id": "f5224645",
   "metadata": {},
   "outputs": [],
   "source": [
    "# here i want to clean up the data a bit to make it align across the years\n",
    "web.loc[web['WebframeHaveWorkedWith']=='React', 'WebframeHaveWorkedWith'] = 'React.js'\n",
    "web.loc[web['WebframeHaveWorkedWith']=='Angular/Angular.js', 'WebframeHaveWorkedWith'] = 'Angular'\n",
    "web.loc[web['WebframeHaveWorkedWith']=='Angular.js', 'WebframeHaveWorkedWith'] = 'Angular'\n",
    "web.loc[web['WebframeHaveWorkedWith']=='ASP.NET Core ', 'WebframeHaveWorkedWith'] = 'ASP.NET Core'\n",
    "\n",
    "# I want to remove node.js since it is more of a run time than web framework \n",
    "# also i want to remove all the 2018 data since many web framework weren't properly surveryed in 2018\n",
    "web = web[web['WebframeHaveWorkedWith'] != 'Node.js']\n",
    "web = web[web['year'] > 2018]\n"
   ]
  },
  {
   "cell_type": "code",
   "execution_count": 20,
   "id": "d327cc2d",
   "metadata": {},
   "outputs": [],
   "source": [
    "web_counts = web['WebframeHaveWorkedWith'].value_counts()"
   ]
  },
  {
   "cell_type": "code",
   "execution_count": 21,
   "id": "ef557a7b",
   "metadata": {},
   "outputs": [
    {
     "data": {
      "text/plain": [
       "WebframeHaveWorkedWith\n",
       "jQuery          86592\n",
       "React.js        83617\n",
       "Angular         74738\n",
       "Express         49050\n",
       "ASP.NET         44014\n",
       "Vue.js          39225\n",
       "Flask           31867\n",
       "Django          31711\n",
       "ASP.NET Core    29641\n",
       "Spring          26416\n",
       "Name: count, dtype: int64"
      ]
     },
     "execution_count": 21,
     "metadata": {},
     "output_type": "execute_result"
    }
   ],
   "source": [
    "web_counts.head(10)"
   ]
  },
  {
   "cell_type": "markdown",
   "id": "6acd4587",
   "metadata": {},
   "source": [
    "It is shown that overall the most popular web framework is jQuery, alongside with React.js, Angular, express and ASP.NET. \n",
    "\n",
    "Next I will pick up the 10 most popular web frameworks and analyze their yearly usage trend."
   ]
  },
  {
   "cell_type": "code",
   "execution_count": 105,
   "id": "17d7b275",
   "metadata": {},
   "outputs": [],
   "source": [
    "web_counts = web.groupby(['year', 'WebframeHaveWorkedWith']).value_counts()"
   ]
  },
  {
   "cell_type": "code",
   "execution_count": 106,
   "id": "5a88a0c1",
   "metadata": {},
   "outputs": [],
   "source": [
    "# Reshape the result for plotting\n",
    "web_counts = web_counts.unstack(fill_value=0)"
   ]
  },
  {
   "cell_type": "code",
   "execution_count": 107,
   "id": "4d61ef84",
   "metadata": {},
   "outputs": [
    {
     "data": {
      "text/plain": [
       "[154879, 116056, 167218, 146699]"
      ]
     },
     "execution_count": 107,
     "metadata": {},
     "output_type": "execute_result"
    }
   ],
   "source": [
    "# Calculate the sum of all rows\n",
    "sum_all_cols = web_counts.sum(axis=1).tolist()\n",
    "\n",
    "sum_all_cols"
   ]
  },
  {
   "cell_type": "code",
   "execution_count": 108,
   "id": "1de1774d",
   "metadata": {},
   "outputs": [],
   "source": [
    "# only to include necessary frameworks for analysis\n",
    "web_counts = web_counts[['jQuery', 'React.js', 'Angular', 'Express', 'ASP.NET', 'Vue.js', 'Django', 'Spring', 'Flask', 'ASP.NET Core']]"
   ]
  },
  {
   "cell_type": "code",
   "execution_count": 109,
   "id": "4e831b91",
   "metadata": {
    "scrolled": true
   },
   "outputs": [
    {
     "data": {
      "text/html": [
       "<div>\n",
       "<style scoped>\n",
       "    .dataframe tbody tr th:only-of-type {\n",
       "        vertical-align: middle;\n",
       "    }\n",
       "\n",
       "    .dataframe tbody tr th {\n",
       "        vertical-align: top;\n",
       "    }\n",
       "\n",
       "    .dataframe thead th {\n",
       "        text-align: right;\n",
       "    }\n",
       "</style>\n",
       "<table border=\"1\" class=\"dataframe\">\n",
       "  <thead>\n",
       "    <tr style=\"text-align: right;\">\n",
       "      <th>WebframeHaveWorkedWith</th>\n",
       "      <th>jQuery</th>\n",
       "      <th>React.js</th>\n",
       "      <th>Angular</th>\n",
       "      <th>Express</th>\n",
       "      <th>ASP.NET</th>\n",
       "      <th>Vue.js</th>\n",
       "      <th>Django</th>\n",
       "      <th>Spring</th>\n",
       "      <th>Flask</th>\n",
       "      <th>ASP.NET Core</th>\n",
       "    </tr>\n",
       "    <tr>\n",
       "      <th>year</th>\n",
       "      <th></th>\n",
       "      <th></th>\n",
       "      <th></th>\n",
       "      <th></th>\n",
       "      <th></th>\n",
       "      <th></th>\n",
       "      <th></th>\n",
       "      <th></th>\n",
       "      <th></th>\n",
       "      <th></th>\n",
       "    </tr>\n",
       "  </thead>\n",
       "  <tbody>\n",
       "    <tr>\n",
       "      <th>2019</th>\n",
       "      <td>30981</td>\n",
       "      <td>19877</td>\n",
       "      <td>19532</td>\n",
       "      <td>12522</td>\n",
       "      <td>16699</td>\n",
       "      <td>9671</td>\n",
       "      <td>8249</td>\n",
       "      <td>10298</td>\n",
       "      <td>7694</td>\n",
       "      <td>0</td>\n",
       "    </tr>\n",
       "    <tr>\n",
       "      <th>2020</th>\n",
       "      <td>18316</td>\n",
       "      <td>15167</td>\n",
       "      <td>17443</td>\n",
       "      <td>8961</td>\n",
       "      <td>9258</td>\n",
       "      <td>7322</td>\n",
       "      <td>6014</td>\n",
       "      <td>6941</td>\n",
       "      <td>6005</td>\n",
       "      <td>8082</td>\n",
       "    </tr>\n",
       "    <tr>\n",
       "      <th>2021</th>\n",
       "      <td>21693</td>\n",
       "      <td>25296</td>\n",
       "      <td>21713</td>\n",
       "      <td>15010</td>\n",
       "      <td>9918</td>\n",
       "      <td>11954</td>\n",
       "      <td>9446</td>\n",
       "      <td>9177</td>\n",
       "      <td>10174</td>\n",
       "      <td>11404</td>\n",
       "    </tr>\n",
       "    <tr>\n",
       "      <th>2022</th>\n",
       "      <td>15602</td>\n",
       "      <td>23277</td>\n",
       "      <td>16050</td>\n",
       "      <td>12557</td>\n",
       "      <td>8139</td>\n",
       "      <td>10278</td>\n",
       "      <td>8002</td>\n",
       "      <td>0</td>\n",
       "      <td>7994</td>\n",
       "      <td>10155</td>\n",
       "    </tr>\n",
       "  </tbody>\n",
       "</table>\n",
       "</div>"
      ],
      "text/plain": [
       "WebframeHaveWorkedWith  jQuery  React.js  Angular  Express  ASP.NET  Vue.js  \\\n",
       "year                                                                          \n",
       "2019                     30981     19877    19532    12522    16699    9671   \n",
       "2020                     18316     15167    17443     8961     9258    7322   \n",
       "2021                     21693     25296    21713    15010     9918   11954   \n",
       "2022                     15602     23277    16050    12557     8139   10278   \n",
       "\n",
       "WebframeHaveWorkedWith  Django  Spring  Flask  ASP.NET Core  \n",
       "year                                                         \n",
       "2019                      8249   10298   7694             0  \n",
       "2020                      6014    6941   6005          8082  \n",
       "2021                      9446    9177  10174         11404  \n",
       "2022                      8002       0   7994         10155  "
      ]
     },
     "execution_count": 109,
     "metadata": {},
     "output_type": "execute_result"
    }
   ],
   "source": [
    "web_counts"
   ]
  },
  {
   "cell_type": "markdown",
   "id": "d9feed32",
   "metadata": {},
   "source": [
    "### Descriptive analysis"
   ]
  },
  {
   "cell_type": "code",
   "execution_count": 110,
   "id": "d6f5da50",
   "metadata": {},
   "outputs": [],
   "source": [
    "# next i will devide the count by the total number to get the percentile usage rate\n",
    "# Divide each row by the corresponding divisor\n",
    "web_counts.reset_index(inplace=True, drop=True)\n",
    "web_percent = web_counts.apply(lambda row: row / sum_all_cols[row.name], axis=1)\n",
    "web_percent['year'] = [2019, 2020, 2021, 2022]\n",
    "\n",
    "# Set column 'year' as the index\n",
    "web_percent = web_percent.set_index('year')"
   ]
  },
  {
   "cell_type": "code",
   "execution_count": 111,
   "id": "5796be1f",
   "metadata": {},
   "outputs": [],
   "source": [
    "def convert_df_to_percentage(df: pd.DataFrame) -> pd.DataFrame:\n",
    "    \"\"\"\n",
    "    Description: This function can be used to convert a pandas df to percentage format\n",
    "\n",
    "    Arguments:\n",
    "        df: pandas df. \n",
    "\n",
    "    Returns:\n",
    "        df: pandas df. \n",
    "    \"\"\"\n",
    "    # Format numeric columns as percentages\n",
    "    df_percent = df.applymap(lambda x: '{:.2%}'.format(x))\n",
    "    return df_percent\n",
    "\n",
    "df_percent = convert_df_to_percentage(web_percent)"
   ]
  },
  {
   "cell_type": "code",
   "execution_count": 112,
   "id": "0d98de6f",
   "metadata": {},
   "outputs": [
    {
     "data": {
      "text/html": [
       "<div>\n",
       "<style scoped>\n",
       "    .dataframe tbody tr th:only-of-type {\n",
       "        vertical-align: middle;\n",
       "    }\n",
       "\n",
       "    .dataframe tbody tr th {\n",
       "        vertical-align: top;\n",
       "    }\n",
       "\n",
       "    .dataframe thead th {\n",
       "        text-align: right;\n",
       "    }\n",
       "</style>\n",
       "<table border=\"1\" class=\"dataframe\">\n",
       "  <thead>\n",
       "    <tr style=\"text-align: right;\">\n",
       "      <th>WebframeHaveWorkedWith</th>\n",
       "      <th>jQuery</th>\n",
       "      <th>React.js</th>\n",
       "      <th>Angular</th>\n",
       "      <th>Express</th>\n",
       "      <th>ASP.NET</th>\n",
       "      <th>Vue.js</th>\n",
       "      <th>Django</th>\n",
       "      <th>Spring</th>\n",
       "      <th>Flask</th>\n",
       "      <th>ASP.NET Core</th>\n",
       "    </tr>\n",
       "    <tr>\n",
       "      <th>year</th>\n",
       "      <th></th>\n",
       "      <th></th>\n",
       "      <th></th>\n",
       "      <th></th>\n",
       "      <th></th>\n",
       "      <th></th>\n",
       "      <th></th>\n",
       "      <th></th>\n",
       "      <th></th>\n",
       "      <th></th>\n",
       "    </tr>\n",
       "  </thead>\n",
       "  <tbody>\n",
       "    <tr>\n",
       "      <th>2019</th>\n",
       "      <td>20.00%</td>\n",
       "      <td>12.83%</td>\n",
       "      <td>12.61%</td>\n",
       "      <td>8.09%</td>\n",
       "      <td>10.78%</td>\n",
       "      <td>6.24%</td>\n",
       "      <td>5.33%</td>\n",
       "      <td>6.65%</td>\n",
       "      <td>4.97%</td>\n",
       "      <td>0.00%</td>\n",
       "    </tr>\n",
       "    <tr>\n",
       "      <th>2020</th>\n",
       "      <td>15.78%</td>\n",
       "      <td>13.07%</td>\n",
       "      <td>15.03%</td>\n",
       "      <td>7.72%</td>\n",
       "      <td>7.98%</td>\n",
       "      <td>6.31%</td>\n",
       "      <td>5.18%</td>\n",
       "      <td>5.98%</td>\n",
       "      <td>5.17%</td>\n",
       "      <td>6.96%</td>\n",
       "    </tr>\n",
       "    <tr>\n",
       "      <th>2021</th>\n",
       "      <td>12.97%</td>\n",
       "      <td>15.13%</td>\n",
       "      <td>12.98%</td>\n",
       "      <td>8.98%</td>\n",
       "      <td>5.93%</td>\n",
       "      <td>7.15%</td>\n",
       "      <td>5.65%</td>\n",
       "      <td>5.49%</td>\n",
       "      <td>6.08%</td>\n",
       "      <td>6.82%</td>\n",
       "    </tr>\n",
       "    <tr>\n",
       "      <th>2022</th>\n",
       "      <td>10.64%</td>\n",
       "      <td>15.87%</td>\n",
       "      <td>10.94%</td>\n",
       "      <td>8.56%</td>\n",
       "      <td>5.55%</td>\n",
       "      <td>7.01%</td>\n",
       "      <td>5.45%</td>\n",
       "      <td>0.00%</td>\n",
       "      <td>5.45%</td>\n",
       "      <td>6.92%</td>\n",
       "    </tr>\n",
       "  </tbody>\n",
       "</table>\n",
       "</div>"
      ],
      "text/plain": [
       "WebframeHaveWorkedWith  jQuery React.js Angular Express ASP.NET Vue.js Django  \\\n",
       "year                                                                            \n",
       "2019                    20.00%   12.83%  12.61%   8.09%  10.78%  6.24%  5.33%   \n",
       "2020                    15.78%   13.07%  15.03%   7.72%   7.98%  6.31%  5.18%   \n",
       "2021                    12.97%   15.13%  12.98%   8.98%   5.93%  7.15%  5.65%   \n",
       "2022                    10.64%   15.87%  10.94%   8.56%   5.55%  7.01%  5.45%   \n",
       "\n",
       "WebframeHaveWorkedWith Spring  Flask ASP.NET Core  \n",
       "year                                               \n",
       "2019                    6.65%  4.97%        0.00%  \n",
       "2020                    5.98%  5.17%        6.96%  \n",
       "2021                    5.49%  6.08%        6.82%  \n",
       "2022                    0.00%  5.45%        6.92%  "
      ]
     },
     "execution_count": 112,
     "metadata": {},
     "output_type": "execute_result"
    }
   ],
   "source": [
    "df_percent"
   ]
  },
  {
   "cell_type": "code",
   "execution_count": 70,
   "id": "5beac2c4",
   "metadata": {},
   "outputs": [
    {
     "data": {
      "application/vnd.plotly.v1+json": {
       "config": {
        "plotlyServerURL": "https://plot.ly"
       },
       "data": [
        {
         "hovertemplate": "WebframeHaveWorkedWith=jQuery<br>year=%{x}<br>value=%{y}<extra></extra>",
         "legendgroup": "jQuery",
         "line": {
          "color": "#636efa",
          "dash": "solid"
         },
         "marker": {
          "symbol": "circle"
         },
         "mode": "lines",
         "name": "jQuery",
         "orientation": "v",
         "showlegend": true,
         "type": "scatter",
         "x": [
          2019,
          2020,
          2021,
          2022
         ],
         "xaxis": "x",
         "y": [
          0.20003357459694343,
          0.15782036258358034,
          0.1297288569412384,
          0.10635382654278489
         ],
         "yaxis": "y"
        },
        {
         "hovertemplate": "WebframeHaveWorkedWith=React.js<br>year=%{x}<br>value=%{y}<extra></extra>",
         "legendgroup": "React.js",
         "line": {
          "color": "#EF553B",
          "dash": "solid"
         },
         "marker": {
          "symbol": "circle"
         },
         "mode": "lines",
         "name": "React.js",
         "orientation": "v",
         "showlegend": true,
         "type": "scatter",
         "x": [
          2019,
          2020,
          2021,
          2022
         ],
         "xaxis": "x",
         "y": [
          0.1283388968162243,
          0.13068690976769834,
          0.1512755803801026,
          0.1586718382538395
         ],
         "yaxis": "y"
        },
        {
         "hovertemplate": "WebframeHaveWorkedWith=Angular<br>year=%{x}<br>value=%{y}<extra></extra>",
         "legendgroup": "Angular",
         "line": {
          "color": "#00cc96",
          "dash": "solid"
         },
         "marker": {
          "symbol": "circle"
         },
         "mode": "lines",
         "name": "Angular",
         "orientation": "v",
         "showlegend": true,
         "type": "scatter",
         "x": [
          2019,
          2020,
          2021,
          2022
         ],
         "xaxis": "x",
         "y": [
          0.1261113514420935,
          0.15029813193630662,
          0.1298484612900525,
          0.10940769875731941
         ],
         "yaxis": "y"
        },
        {
         "hovertemplate": "WebframeHaveWorkedWith=Express<br>year=%{x}<br>value=%{y}<extra></extra>",
         "legendgroup": "Express",
         "line": {
          "color": "#ab63fa",
          "dash": "solid"
         },
         "marker": {
          "symbol": "circle"
         },
         "mode": "lines",
         "name": "Express",
         "orientation": "v",
         "showlegend": true,
         "type": "scatter",
         "x": [
          2019,
          2020,
          2021,
          2022
         ],
         "xaxis": "x",
         "y": [
          0.08085021210105954,
          0.07721272489143172,
          0.08976306378499922,
          0.08559703883462055
         ],
         "yaxis": "y"
        },
        {
         "hovertemplate": "WebframeHaveWorkedWith=ASP.NET<br>year=%{x}<br>value=%{y}<extra></extra>",
         "legendgroup": "ASP.NET",
         "line": {
          "color": "#FFA15A",
          "dash": "solid"
         },
         "marker": {
          "symbol": "circle"
         },
         "mode": "lines",
         "name": "ASP.NET",
         "orientation": "v",
         "showlegend": true,
         "type": "scatter",
         "x": [
          2019,
          2020,
          2021,
          2022
         ],
         "xaxis": "x",
         "y": [
          0.10781965276118777,
          0.07977183428689598,
          0.05931179657692354,
          0.05548095079039394
         ],
         "yaxis": "y"
        },
        {
         "hovertemplate": "WebframeHaveWorkedWith=Vue.js<br>year=%{x}<br>value=%{y}<extra></extra>",
         "legendgroup": "Vue.js",
         "line": {
          "color": "#19d3f3",
          "dash": "solid"
         },
         "marker": {
          "symbol": "circle"
         },
         "mode": "lines",
         "name": "Vue.js",
         "orientation": "v",
         "showlegend": true,
         "type": "scatter",
         "x": [
          2019,
          2020,
          2021,
          2022
         ],
         "xaxis": "x",
         "y": [
          0.062442293661503494,
          0.06309023230164748,
          0.07148751928620124,
          0.07006182727898623
         ],
         "yaxis": "y"
        },
        {
         "hovertemplate": "WebframeHaveWorkedWith=Django<br>year=%{x}<br>value=%{y}<extra></extra>",
         "legendgroup": "Django",
         "line": {
          "color": "#FF6692",
          "dash": "solid"
         },
         "marker": {
          "symbol": "circle"
         },
         "mode": "lines",
         "name": "Django",
         "orientation": "v",
         "showlegend": true,
         "type": "scatter",
         "x": [
          2019,
          2020,
          2021,
          2022
         ],
         "xaxis": "x",
         "y": [
          0.0532609327281297,
          0.05181981112566347,
          0.05648913394491024,
          0.0545470657605028
         ],
         "yaxis": "y"
        },
        {
         "hovertemplate": "WebframeHaveWorkedWith=Spring<br>year=%{x}<br>value=%{y}<extra></extra>",
         "legendgroup": "Spring",
         "line": {
          "color": "#B6E880",
          "dash": "solid"
         },
         "marker": {
          "symbol": "circle"
         },
         "mode": "lines",
         "name": "Spring",
         "orientation": "v",
         "showlegend": true,
         "type": "scatter",
         "x": [
          2019,
          2020,
          2021,
          2022
         ],
         "xaxis": "x",
         "y": [
          0.06649061525448899,
          0.05980733439029434,
          0.05488045545336028,
          0
         ],
         "yaxis": "y"
        },
        {
         "hovertemplate": "WebframeHaveWorkedWith=Flask<br>year=%{x}<br>value=%{y}<extra></extra>",
         "legendgroup": "Flask",
         "line": {
          "color": "#FF97FF",
          "dash": "solid"
         },
         "marker": {
          "symbol": "circle"
         },
         "mode": "lines",
         "name": "Flask",
         "orientation": "v",
         "showlegend": true,
         "type": "scatter",
         "x": [
          2019,
          2020,
          2021,
          2022
         ],
         "xaxis": "x",
         "y": [
          0.04967749016974542,
          0.05174226235610395,
          0.06084273224174431,
          0.0544925323281004
         ],
         "yaxis": "y"
        },
        {
         "hovertemplate": "WebframeHaveWorkedWith=ASP.NET Core<br>year=%{x}<br>value=%{y}<extra></extra>",
         "legendgroup": "ASP.NET Core",
         "line": {
          "color": "#FECB52",
          "dash": "solid"
         },
         "marker": {
          "symbol": "circle"
         },
         "mode": "lines",
         "name": "ASP.NET Core",
         "orientation": "v",
         "showlegend": true,
         "type": "scatter",
         "x": [
          2019,
          2020,
          2021,
          2022
         ],
         "xaxis": "x",
         "y": [
          0,
          0.06963879506445164,
          0.06819839969381286,
          0.06922337575579929
         ],
         "yaxis": "y"
        }
       ],
       "layout": {
        "legend": {
         "title": {
          "text": "WebframeHaveWorkedWith"
         },
         "tracegroupgap": 0
        },
        "template": {
         "data": {
          "bar": [
           {
            "error_x": {
             "color": "#2a3f5f"
            },
            "error_y": {
             "color": "#2a3f5f"
            },
            "marker": {
             "line": {
              "color": "#E5ECF6",
              "width": 0.5
             },
             "pattern": {
              "fillmode": "overlay",
              "size": 10,
              "solidity": 0.2
             }
            },
            "type": "bar"
           }
          ],
          "barpolar": [
           {
            "marker": {
             "line": {
              "color": "#E5ECF6",
              "width": 0.5
             },
             "pattern": {
              "fillmode": "overlay",
              "size": 10,
              "solidity": 0.2
             }
            },
            "type": "barpolar"
           }
          ],
          "carpet": [
           {
            "aaxis": {
             "endlinecolor": "#2a3f5f",
             "gridcolor": "white",
             "linecolor": "white",
             "minorgridcolor": "white",
             "startlinecolor": "#2a3f5f"
            },
            "baxis": {
             "endlinecolor": "#2a3f5f",
             "gridcolor": "white",
             "linecolor": "white",
             "minorgridcolor": "white",
             "startlinecolor": "#2a3f5f"
            },
            "type": "carpet"
           }
          ],
          "choropleth": [
           {
            "colorbar": {
             "outlinewidth": 0,
             "ticks": ""
            },
            "type": "choropleth"
           }
          ],
          "contour": [
           {
            "colorbar": {
             "outlinewidth": 0,
             "ticks": ""
            },
            "colorscale": [
             [
              0,
              "#0d0887"
             ],
             [
              0.1111111111111111,
              "#46039f"
             ],
             [
              0.2222222222222222,
              "#7201a8"
             ],
             [
              0.3333333333333333,
              "#9c179e"
             ],
             [
              0.4444444444444444,
              "#bd3786"
             ],
             [
              0.5555555555555556,
              "#d8576b"
             ],
             [
              0.6666666666666666,
              "#ed7953"
             ],
             [
              0.7777777777777778,
              "#fb9f3a"
             ],
             [
              0.8888888888888888,
              "#fdca26"
             ],
             [
              1,
              "#f0f921"
             ]
            ],
            "type": "contour"
           }
          ],
          "contourcarpet": [
           {
            "colorbar": {
             "outlinewidth": 0,
             "ticks": ""
            },
            "type": "contourcarpet"
           }
          ],
          "heatmap": [
           {
            "colorbar": {
             "outlinewidth": 0,
             "ticks": ""
            },
            "colorscale": [
             [
              0,
              "#0d0887"
             ],
             [
              0.1111111111111111,
              "#46039f"
             ],
             [
              0.2222222222222222,
              "#7201a8"
             ],
             [
              0.3333333333333333,
              "#9c179e"
             ],
             [
              0.4444444444444444,
              "#bd3786"
             ],
             [
              0.5555555555555556,
              "#d8576b"
             ],
             [
              0.6666666666666666,
              "#ed7953"
             ],
             [
              0.7777777777777778,
              "#fb9f3a"
             ],
             [
              0.8888888888888888,
              "#fdca26"
             ],
             [
              1,
              "#f0f921"
             ]
            ],
            "type": "heatmap"
           }
          ],
          "heatmapgl": [
           {
            "colorbar": {
             "outlinewidth": 0,
             "ticks": ""
            },
            "colorscale": [
             [
              0,
              "#0d0887"
             ],
             [
              0.1111111111111111,
              "#46039f"
             ],
             [
              0.2222222222222222,
              "#7201a8"
             ],
             [
              0.3333333333333333,
              "#9c179e"
             ],
             [
              0.4444444444444444,
              "#bd3786"
             ],
             [
              0.5555555555555556,
              "#d8576b"
             ],
             [
              0.6666666666666666,
              "#ed7953"
             ],
             [
              0.7777777777777778,
              "#fb9f3a"
             ],
             [
              0.8888888888888888,
              "#fdca26"
             ],
             [
              1,
              "#f0f921"
             ]
            ],
            "type": "heatmapgl"
           }
          ],
          "histogram": [
           {
            "marker": {
             "pattern": {
              "fillmode": "overlay",
              "size": 10,
              "solidity": 0.2
             }
            },
            "type": "histogram"
           }
          ],
          "histogram2d": [
           {
            "colorbar": {
             "outlinewidth": 0,
             "ticks": ""
            },
            "colorscale": [
             [
              0,
              "#0d0887"
             ],
             [
              0.1111111111111111,
              "#46039f"
             ],
             [
              0.2222222222222222,
              "#7201a8"
             ],
             [
              0.3333333333333333,
              "#9c179e"
             ],
             [
              0.4444444444444444,
              "#bd3786"
             ],
             [
              0.5555555555555556,
              "#d8576b"
             ],
             [
              0.6666666666666666,
              "#ed7953"
             ],
             [
              0.7777777777777778,
              "#fb9f3a"
             ],
             [
              0.8888888888888888,
              "#fdca26"
             ],
             [
              1,
              "#f0f921"
             ]
            ],
            "type": "histogram2d"
           }
          ],
          "histogram2dcontour": [
           {
            "colorbar": {
             "outlinewidth": 0,
             "ticks": ""
            },
            "colorscale": [
             [
              0,
              "#0d0887"
             ],
             [
              0.1111111111111111,
              "#46039f"
             ],
             [
              0.2222222222222222,
              "#7201a8"
             ],
             [
              0.3333333333333333,
              "#9c179e"
             ],
             [
              0.4444444444444444,
              "#bd3786"
             ],
             [
              0.5555555555555556,
              "#d8576b"
             ],
             [
              0.6666666666666666,
              "#ed7953"
             ],
             [
              0.7777777777777778,
              "#fb9f3a"
             ],
             [
              0.8888888888888888,
              "#fdca26"
             ],
             [
              1,
              "#f0f921"
             ]
            ],
            "type": "histogram2dcontour"
           }
          ],
          "mesh3d": [
           {
            "colorbar": {
             "outlinewidth": 0,
             "ticks": ""
            },
            "type": "mesh3d"
           }
          ],
          "parcoords": [
           {
            "line": {
             "colorbar": {
              "outlinewidth": 0,
              "ticks": ""
             }
            },
            "type": "parcoords"
           }
          ],
          "pie": [
           {
            "automargin": true,
            "type": "pie"
           }
          ],
          "scatter": [
           {
            "fillpattern": {
             "fillmode": "overlay",
             "size": 10,
             "solidity": 0.2
            },
            "type": "scatter"
           }
          ],
          "scatter3d": [
           {
            "line": {
             "colorbar": {
              "outlinewidth": 0,
              "ticks": ""
             }
            },
            "marker": {
             "colorbar": {
              "outlinewidth": 0,
              "ticks": ""
             }
            },
            "type": "scatter3d"
           }
          ],
          "scattercarpet": [
           {
            "marker": {
             "colorbar": {
              "outlinewidth": 0,
              "ticks": ""
             }
            },
            "type": "scattercarpet"
           }
          ],
          "scattergeo": [
           {
            "marker": {
             "colorbar": {
              "outlinewidth": 0,
              "ticks": ""
             }
            },
            "type": "scattergeo"
           }
          ],
          "scattergl": [
           {
            "marker": {
             "colorbar": {
              "outlinewidth": 0,
              "ticks": ""
             }
            },
            "type": "scattergl"
           }
          ],
          "scattermapbox": [
           {
            "marker": {
             "colorbar": {
              "outlinewidth": 0,
              "ticks": ""
             }
            },
            "type": "scattermapbox"
           }
          ],
          "scatterpolar": [
           {
            "marker": {
             "colorbar": {
              "outlinewidth": 0,
              "ticks": ""
             }
            },
            "type": "scatterpolar"
           }
          ],
          "scatterpolargl": [
           {
            "marker": {
             "colorbar": {
              "outlinewidth": 0,
              "ticks": ""
             }
            },
            "type": "scatterpolargl"
           }
          ],
          "scatterternary": [
           {
            "marker": {
             "colorbar": {
              "outlinewidth": 0,
              "ticks": ""
             }
            },
            "type": "scatterternary"
           }
          ],
          "surface": [
           {
            "colorbar": {
             "outlinewidth": 0,
             "ticks": ""
            },
            "colorscale": [
             [
              0,
              "#0d0887"
             ],
             [
              0.1111111111111111,
              "#46039f"
             ],
             [
              0.2222222222222222,
              "#7201a8"
             ],
             [
              0.3333333333333333,
              "#9c179e"
             ],
             [
              0.4444444444444444,
              "#bd3786"
             ],
             [
              0.5555555555555556,
              "#d8576b"
             ],
             [
              0.6666666666666666,
              "#ed7953"
             ],
             [
              0.7777777777777778,
              "#fb9f3a"
             ],
             [
              0.8888888888888888,
              "#fdca26"
             ],
             [
              1,
              "#f0f921"
             ]
            ],
            "type": "surface"
           }
          ],
          "table": [
           {
            "cells": {
             "fill": {
              "color": "#EBF0F8"
             },
             "line": {
              "color": "white"
             }
            },
            "header": {
             "fill": {
              "color": "#C8D4E3"
             },
             "line": {
              "color": "white"
             }
            },
            "type": "table"
           }
          ]
         },
         "layout": {
          "annotationdefaults": {
           "arrowcolor": "#2a3f5f",
           "arrowhead": 0,
           "arrowwidth": 1
          },
          "autotypenumbers": "strict",
          "coloraxis": {
           "colorbar": {
            "outlinewidth": 0,
            "ticks": ""
           }
          },
          "colorscale": {
           "diverging": [
            [
             0,
             "#8e0152"
            ],
            [
             0.1,
             "#c51b7d"
            ],
            [
             0.2,
             "#de77ae"
            ],
            [
             0.3,
             "#f1b6da"
            ],
            [
             0.4,
             "#fde0ef"
            ],
            [
             0.5,
             "#f7f7f7"
            ],
            [
             0.6,
             "#e6f5d0"
            ],
            [
             0.7,
             "#b8e186"
            ],
            [
             0.8,
             "#7fbc41"
            ],
            [
             0.9,
             "#4d9221"
            ],
            [
             1,
             "#276419"
            ]
           ],
           "sequential": [
            [
             0,
             "#0d0887"
            ],
            [
             0.1111111111111111,
             "#46039f"
            ],
            [
             0.2222222222222222,
             "#7201a8"
            ],
            [
             0.3333333333333333,
             "#9c179e"
            ],
            [
             0.4444444444444444,
             "#bd3786"
            ],
            [
             0.5555555555555556,
             "#d8576b"
            ],
            [
             0.6666666666666666,
             "#ed7953"
            ],
            [
             0.7777777777777778,
             "#fb9f3a"
            ],
            [
             0.8888888888888888,
             "#fdca26"
            ],
            [
             1,
             "#f0f921"
            ]
           ],
           "sequentialminus": [
            [
             0,
             "#0d0887"
            ],
            [
             0.1111111111111111,
             "#46039f"
            ],
            [
             0.2222222222222222,
             "#7201a8"
            ],
            [
             0.3333333333333333,
             "#9c179e"
            ],
            [
             0.4444444444444444,
             "#bd3786"
            ],
            [
             0.5555555555555556,
             "#d8576b"
            ],
            [
             0.6666666666666666,
             "#ed7953"
            ],
            [
             0.7777777777777778,
             "#fb9f3a"
            ],
            [
             0.8888888888888888,
             "#fdca26"
            ],
            [
             1,
             "#f0f921"
            ]
           ]
          },
          "colorway": [
           "#636efa",
           "#EF553B",
           "#00cc96",
           "#ab63fa",
           "#FFA15A",
           "#19d3f3",
           "#FF6692",
           "#B6E880",
           "#FF97FF",
           "#FECB52"
          ],
          "font": {
           "color": "#2a3f5f"
          },
          "geo": {
           "bgcolor": "white",
           "lakecolor": "white",
           "landcolor": "#E5ECF6",
           "showlakes": true,
           "showland": true,
           "subunitcolor": "white"
          },
          "hoverlabel": {
           "align": "left"
          },
          "hovermode": "closest",
          "mapbox": {
           "style": "light"
          },
          "paper_bgcolor": "white",
          "plot_bgcolor": "#E5ECF6",
          "polar": {
           "angularaxis": {
            "gridcolor": "white",
            "linecolor": "white",
            "ticks": ""
           },
           "bgcolor": "#E5ECF6",
           "radialaxis": {
            "gridcolor": "white",
            "linecolor": "white",
            "ticks": ""
           }
          },
          "scene": {
           "xaxis": {
            "backgroundcolor": "#E5ECF6",
            "gridcolor": "white",
            "gridwidth": 2,
            "linecolor": "white",
            "showbackground": true,
            "ticks": "",
            "zerolinecolor": "white"
           },
           "yaxis": {
            "backgroundcolor": "#E5ECF6",
            "gridcolor": "white",
            "gridwidth": 2,
            "linecolor": "white",
            "showbackground": true,
            "ticks": "",
            "zerolinecolor": "white"
           },
           "zaxis": {
            "backgroundcolor": "#E5ECF6",
            "gridcolor": "white",
            "gridwidth": 2,
            "linecolor": "white",
            "showbackground": true,
            "ticks": "",
            "zerolinecolor": "white"
           }
          },
          "shapedefaults": {
           "line": {
            "color": "#2a3f5f"
           }
          },
          "ternary": {
           "aaxis": {
            "gridcolor": "white",
            "linecolor": "white",
            "ticks": ""
           },
           "baxis": {
            "gridcolor": "white",
            "linecolor": "white",
            "ticks": ""
           },
           "bgcolor": "#E5ECF6",
           "caxis": {
            "gridcolor": "white",
            "linecolor": "white",
            "ticks": ""
           }
          },
          "title": {
           "x": 0.05
          },
          "xaxis": {
           "automargin": true,
           "gridcolor": "white",
           "linecolor": "white",
           "ticks": "",
           "title": {
            "standoff": 15
           },
           "zerolinecolor": "white",
           "zerolinewidth": 2
          },
          "yaxis": {
           "automargin": true,
           "gridcolor": "white",
           "linecolor": "white",
           "ticks": "",
           "title": {
            "standoff": 15
           },
           "zerolinecolor": "white",
           "zerolinewidth": 2
          }
         }
        },
        "title": {
         "text": "Yearly Trend for framework usage"
        },
        "xaxis": {
         "anchor": "y",
         "domain": [
          0,
          1
         ],
         "dtick": 1,
         "tickmode": "linear",
         "title": {
          "text": "Year"
         }
        },
        "yaxis": {
         "anchor": "x",
         "domain": [
          0,
          1
         ],
         "title": {
          "text": "Rate"
         }
        }
       }
      },
      "text/html": [
       "<div>                            <div id=\"0d241048-5ec0-4981-b0f4-5ff4fc9320c6\" class=\"plotly-graph-div\" style=\"height:525px; width:100%;\"></div>            <script type=\"text/javascript\">                require([\"plotly\"], function(Plotly) {                    window.PLOTLYENV=window.PLOTLYENV || {};                                    if (document.getElementById(\"0d241048-5ec0-4981-b0f4-5ff4fc9320c6\")) {                    Plotly.newPlot(                        \"0d241048-5ec0-4981-b0f4-5ff4fc9320c6\",                        [{\"hovertemplate\":\"WebframeHaveWorkedWith=jQuery\\u003cbr\\u003eyear=%{x}\\u003cbr\\u003evalue=%{y}\\u003cextra\\u003e\\u003c\\u002fextra\\u003e\",\"legendgroup\":\"jQuery\",\"line\":{\"color\":\"#636efa\",\"dash\":\"solid\"},\"marker\":{\"symbol\":\"circle\"},\"mode\":\"lines\",\"name\":\"jQuery\",\"orientation\":\"v\",\"showlegend\":true,\"x\":[2019,2020,2021,2022],\"xaxis\":\"x\",\"y\":[0.20003357459694343,0.15782036258358034,0.1297288569412384,0.10635382654278489],\"yaxis\":\"y\",\"type\":\"scatter\"},{\"hovertemplate\":\"WebframeHaveWorkedWith=React.js\\u003cbr\\u003eyear=%{x}\\u003cbr\\u003evalue=%{y}\\u003cextra\\u003e\\u003c\\u002fextra\\u003e\",\"legendgroup\":\"React.js\",\"line\":{\"color\":\"#EF553B\",\"dash\":\"solid\"},\"marker\":{\"symbol\":\"circle\"},\"mode\":\"lines\",\"name\":\"React.js\",\"orientation\":\"v\",\"showlegend\":true,\"x\":[2019,2020,2021,2022],\"xaxis\":\"x\",\"y\":[0.1283388968162243,0.13068690976769834,0.1512755803801026,0.1586718382538395],\"yaxis\":\"y\",\"type\":\"scatter\"},{\"hovertemplate\":\"WebframeHaveWorkedWith=Angular\\u003cbr\\u003eyear=%{x}\\u003cbr\\u003evalue=%{y}\\u003cextra\\u003e\\u003c\\u002fextra\\u003e\",\"legendgroup\":\"Angular\",\"line\":{\"color\":\"#00cc96\",\"dash\":\"solid\"},\"marker\":{\"symbol\":\"circle\"},\"mode\":\"lines\",\"name\":\"Angular\",\"orientation\":\"v\",\"showlegend\":true,\"x\":[2019,2020,2021,2022],\"xaxis\":\"x\",\"y\":[0.1261113514420935,0.15029813193630662,0.1298484612900525,0.10940769875731941],\"yaxis\":\"y\",\"type\":\"scatter\"},{\"hovertemplate\":\"WebframeHaveWorkedWith=Express\\u003cbr\\u003eyear=%{x}\\u003cbr\\u003evalue=%{y}\\u003cextra\\u003e\\u003c\\u002fextra\\u003e\",\"legendgroup\":\"Express\",\"line\":{\"color\":\"#ab63fa\",\"dash\":\"solid\"},\"marker\":{\"symbol\":\"circle\"},\"mode\":\"lines\",\"name\":\"Express\",\"orientation\":\"v\",\"showlegend\":true,\"x\":[2019,2020,2021,2022],\"xaxis\":\"x\",\"y\":[0.08085021210105954,0.07721272489143172,0.08976306378499922,0.08559703883462055],\"yaxis\":\"y\",\"type\":\"scatter\"},{\"hovertemplate\":\"WebframeHaveWorkedWith=ASP.NET\\u003cbr\\u003eyear=%{x}\\u003cbr\\u003evalue=%{y}\\u003cextra\\u003e\\u003c\\u002fextra\\u003e\",\"legendgroup\":\"ASP.NET\",\"line\":{\"color\":\"#FFA15A\",\"dash\":\"solid\"},\"marker\":{\"symbol\":\"circle\"},\"mode\":\"lines\",\"name\":\"ASP.NET\",\"orientation\":\"v\",\"showlegend\":true,\"x\":[2019,2020,2021,2022],\"xaxis\":\"x\",\"y\":[0.10781965276118777,0.07977183428689598,0.05931179657692354,0.05548095079039394],\"yaxis\":\"y\",\"type\":\"scatter\"},{\"hovertemplate\":\"WebframeHaveWorkedWith=Vue.js\\u003cbr\\u003eyear=%{x}\\u003cbr\\u003evalue=%{y}\\u003cextra\\u003e\\u003c\\u002fextra\\u003e\",\"legendgroup\":\"Vue.js\",\"line\":{\"color\":\"#19d3f3\",\"dash\":\"solid\"},\"marker\":{\"symbol\":\"circle\"},\"mode\":\"lines\",\"name\":\"Vue.js\",\"orientation\":\"v\",\"showlegend\":true,\"x\":[2019,2020,2021,2022],\"xaxis\":\"x\",\"y\":[0.062442293661503494,0.06309023230164748,0.07148751928620124,0.07006182727898623],\"yaxis\":\"y\",\"type\":\"scatter\"},{\"hovertemplate\":\"WebframeHaveWorkedWith=Django\\u003cbr\\u003eyear=%{x}\\u003cbr\\u003evalue=%{y}\\u003cextra\\u003e\\u003c\\u002fextra\\u003e\",\"legendgroup\":\"Django\",\"line\":{\"color\":\"#FF6692\",\"dash\":\"solid\"},\"marker\":{\"symbol\":\"circle\"},\"mode\":\"lines\",\"name\":\"Django\",\"orientation\":\"v\",\"showlegend\":true,\"x\":[2019,2020,2021,2022],\"xaxis\":\"x\",\"y\":[0.0532609327281297,0.05181981112566347,0.05648913394491024,0.0545470657605028],\"yaxis\":\"y\",\"type\":\"scatter\"},{\"hovertemplate\":\"WebframeHaveWorkedWith=Spring\\u003cbr\\u003eyear=%{x}\\u003cbr\\u003evalue=%{y}\\u003cextra\\u003e\\u003c\\u002fextra\\u003e\",\"legendgroup\":\"Spring\",\"line\":{\"color\":\"#B6E880\",\"dash\":\"solid\"},\"marker\":{\"symbol\":\"circle\"},\"mode\":\"lines\",\"name\":\"Spring\",\"orientation\":\"v\",\"showlegend\":true,\"x\":[2019,2020,2021,2022],\"xaxis\":\"x\",\"y\":[0.06649061525448899,0.05980733439029434,0.05488045545336028,0.0],\"yaxis\":\"y\",\"type\":\"scatter\"},{\"hovertemplate\":\"WebframeHaveWorkedWith=Flask\\u003cbr\\u003eyear=%{x}\\u003cbr\\u003evalue=%{y}\\u003cextra\\u003e\\u003c\\u002fextra\\u003e\",\"legendgroup\":\"Flask\",\"line\":{\"color\":\"#FF97FF\",\"dash\":\"solid\"},\"marker\":{\"symbol\":\"circle\"},\"mode\":\"lines\",\"name\":\"Flask\",\"orientation\":\"v\",\"showlegend\":true,\"x\":[2019,2020,2021,2022],\"xaxis\":\"x\",\"y\":[0.04967749016974542,0.05174226235610395,0.06084273224174431,0.0544925323281004],\"yaxis\":\"y\",\"type\":\"scatter\"},{\"hovertemplate\":\"WebframeHaveWorkedWith=ASP.NET Core\\u003cbr\\u003eyear=%{x}\\u003cbr\\u003evalue=%{y}\\u003cextra\\u003e\\u003c\\u002fextra\\u003e\",\"legendgroup\":\"ASP.NET Core\",\"line\":{\"color\":\"#FECB52\",\"dash\":\"solid\"},\"marker\":{\"symbol\":\"circle\"},\"mode\":\"lines\",\"name\":\"ASP.NET Core\",\"orientation\":\"v\",\"showlegend\":true,\"x\":[2019,2020,2021,2022],\"xaxis\":\"x\",\"y\":[0.0,0.06963879506445164,0.06819839969381286,0.06922337575579929],\"yaxis\":\"y\",\"type\":\"scatter\"}],                        {\"template\":{\"data\":{\"histogram2dcontour\":[{\"type\":\"histogram2dcontour\",\"colorbar\":{\"outlinewidth\":0,\"ticks\":\"\"},\"colorscale\":[[0.0,\"#0d0887\"],[0.1111111111111111,\"#46039f\"],[0.2222222222222222,\"#7201a8\"],[0.3333333333333333,\"#9c179e\"],[0.4444444444444444,\"#bd3786\"],[0.5555555555555556,\"#d8576b\"],[0.6666666666666666,\"#ed7953\"],[0.7777777777777778,\"#fb9f3a\"],[0.8888888888888888,\"#fdca26\"],[1.0,\"#f0f921\"]]}],\"choropleth\":[{\"type\":\"choropleth\",\"colorbar\":{\"outlinewidth\":0,\"ticks\":\"\"}}],\"histogram2d\":[{\"type\":\"histogram2d\",\"colorbar\":{\"outlinewidth\":0,\"ticks\":\"\"},\"colorscale\":[[0.0,\"#0d0887\"],[0.1111111111111111,\"#46039f\"],[0.2222222222222222,\"#7201a8\"],[0.3333333333333333,\"#9c179e\"],[0.4444444444444444,\"#bd3786\"],[0.5555555555555556,\"#d8576b\"],[0.6666666666666666,\"#ed7953\"],[0.7777777777777778,\"#fb9f3a\"],[0.8888888888888888,\"#fdca26\"],[1.0,\"#f0f921\"]]}],\"heatmap\":[{\"type\":\"heatmap\",\"colorbar\":{\"outlinewidth\":0,\"ticks\":\"\"},\"colorscale\":[[0.0,\"#0d0887\"],[0.1111111111111111,\"#46039f\"],[0.2222222222222222,\"#7201a8\"],[0.3333333333333333,\"#9c179e\"],[0.4444444444444444,\"#bd3786\"],[0.5555555555555556,\"#d8576b\"],[0.6666666666666666,\"#ed7953\"],[0.7777777777777778,\"#fb9f3a\"],[0.8888888888888888,\"#fdca26\"],[1.0,\"#f0f921\"]]}],\"heatmapgl\":[{\"type\":\"heatmapgl\",\"colorbar\":{\"outlinewidth\":0,\"ticks\":\"\"},\"colorscale\":[[0.0,\"#0d0887\"],[0.1111111111111111,\"#46039f\"],[0.2222222222222222,\"#7201a8\"],[0.3333333333333333,\"#9c179e\"],[0.4444444444444444,\"#bd3786\"],[0.5555555555555556,\"#d8576b\"],[0.6666666666666666,\"#ed7953\"],[0.7777777777777778,\"#fb9f3a\"],[0.8888888888888888,\"#fdca26\"],[1.0,\"#f0f921\"]]}],\"contourcarpet\":[{\"type\":\"contourcarpet\",\"colorbar\":{\"outlinewidth\":0,\"ticks\":\"\"}}],\"contour\":[{\"type\":\"contour\",\"colorbar\":{\"outlinewidth\":0,\"ticks\":\"\"},\"colorscale\":[[0.0,\"#0d0887\"],[0.1111111111111111,\"#46039f\"],[0.2222222222222222,\"#7201a8\"],[0.3333333333333333,\"#9c179e\"],[0.4444444444444444,\"#bd3786\"],[0.5555555555555556,\"#d8576b\"],[0.6666666666666666,\"#ed7953\"],[0.7777777777777778,\"#fb9f3a\"],[0.8888888888888888,\"#fdca26\"],[1.0,\"#f0f921\"]]}],\"surface\":[{\"type\":\"surface\",\"colorbar\":{\"outlinewidth\":0,\"ticks\":\"\"},\"colorscale\":[[0.0,\"#0d0887\"],[0.1111111111111111,\"#46039f\"],[0.2222222222222222,\"#7201a8\"],[0.3333333333333333,\"#9c179e\"],[0.4444444444444444,\"#bd3786\"],[0.5555555555555556,\"#d8576b\"],[0.6666666666666666,\"#ed7953\"],[0.7777777777777778,\"#fb9f3a\"],[0.8888888888888888,\"#fdca26\"],[1.0,\"#f0f921\"]]}],\"mesh3d\":[{\"type\":\"mesh3d\",\"colorbar\":{\"outlinewidth\":0,\"ticks\":\"\"}}],\"scatter\":[{\"fillpattern\":{\"fillmode\":\"overlay\",\"size\":10,\"solidity\":0.2},\"type\":\"scatter\"}],\"parcoords\":[{\"type\":\"parcoords\",\"line\":{\"colorbar\":{\"outlinewidth\":0,\"ticks\":\"\"}}}],\"scatterpolargl\":[{\"type\":\"scatterpolargl\",\"marker\":{\"colorbar\":{\"outlinewidth\":0,\"ticks\":\"\"}}}],\"bar\":[{\"error_x\":{\"color\":\"#2a3f5f\"},\"error_y\":{\"color\":\"#2a3f5f\"},\"marker\":{\"line\":{\"color\":\"#E5ECF6\",\"width\":0.5},\"pattern\":{\"fillmode\":\"overlay\",\"size\":10,\"solidity\":0.2}},\"type\":\"bar\"}],\"scattergeo\":[{\"type\":\"scattergeo\",\"marker\":{\"colorbar\":{\"outlinewidth\":0,\"ticks\":\"\"}}}],\"scatterpolar\":[{\"type\":\"scatterpolar\",\"marker\":{\"colorbar\":{\"outlinewidth\":0,\"ticks\":\"\"}}}],\"histogram\":[{\"marker\":{\"pattern\":{\"fillmode\":\"overlay\",\"size\":10,\"solidity\":0.2}},\"type\":\"histogram\"}],\"scattergl\":[{\"type\":\"scattergl\",\"marker\":{\"colorbar\":{\"outlinewidth\":0,\"ticks\":\"\"}}}],\"scatter3d\":[{\"type\":\"scatter3d\",\"line\":{\"colorbar\":{\"outlinewidth\":0,\"ticks\":\"\"}},\"marker\":{\"colorbar\":{\"outlinewidth\":0,\"ticks\":\"\"}}}],\"scattermapbox\":[{\"type\":\"scattermapbox\",\"marker\":{\"colorbar\":{\"outlinewidth\":0,\"ticks\":\"\"}}}],\"scatterternary\":[{\"type\":\"scatterternary\",\"marker\":{\"colorbar\":{\"outlinewidth\":0,\"ticks\":\"\"}}}],\"scattercarpet\":[{\"type\":\"scattercarpet\",\"marker\":{\"colorbar\":{\"outlinewidth\":0,\"ticks\":\"\"}}}],\"carpet\":[{\"aaxis\":{\"endlinecolor\":\"#2a3f5f\",\"gridcolor\":\"white\",\"linecolor\":\"white\",\"minorgridcolor\":\"white\",\"startlinecolor\":\"#2a3f5f\"},\"baxis\":{\"endlinecolor\":\"#2a3f5f\",\"gridcolor\":\"white\",\"linecolor\":\"white\",\"minorgridcolor\":\"white\",\"startlinecolor\":\"#2a3f5f\"},\"type\":\"carpet\"}],\"table\":[{\"cells\":{\"fill\":{\"color\":\"#EBF0F8\"},\"line\":{\"color\":\"white\"}},\"header\":{\"fill\":{\"color\":\"#C8D4E3\"},\"line\":{\"color\":\"white\"}},\"type\":\"table\"}],\"barpolar\":[{\"marker\":{\"line\":{\"color\":\"#E5ECF6\",\"width\":0.5},\"pattern\":{\"fillmode\":\"overlay\",\"size\":10,\"solidity\":0.2}},\"type\":\"barpolar\"}],\"pie\":[{\"automargin\":true,\"type\":\"pie\"}]},\"layout\":{\"autotypenumbers\":\"strict\",\"colorway\":[\"#636efa\",\"#EF553B\",\"#00cc96\",\"#ab63fa\",\"#FFA15A\",\"#19d3f3\",\"#FF6692\",\"#B6E880\",\"#FF97FF\",\"#FECB52\"],\"font\":{\"color\":\"#2a3f5f\"},\"hovermode\":\"closest\",\"hoverlabel\":{\"align\":\"left\"},\"paper_bgcolor\":\"white\",\"plot_bgcolor\":\"#E5ECF6\",\"polar\":{\"bgcolor\":\"#E5ECF6\",\"angularaxis\":{\"gridcolor\":\"white\",\"linecolor\":\"white\",\"ticks\":\"\"},\"radialaxis\":{\"gridcolor\":\"white\",\"linecolor\":\"white\",\"ticks\":\"\"}},\"ternary\":{\"bgcolor\":\"#E5ECF6\",\"aaxis\":{\"gridcolor\":\"white\",\"linecolor\":\"white\",\"ticks\":\"\"},\"baxis\":{\"gridcolor\":\"white\",\"linecolor\":\"white\",\"ticks\":\"\"},\"caxis\":{\"gridcolor\":\"white\",\"linecolor\":\"white\",\"ticks\":\"\"}},\"coloraxis\":{\"colorbar\":{\"outlinewidth\":0,\"ticks\":\"\"}},\"colorscale\":{\"sequential\":[[0.0,\"#0d0887\"],[0.1111111111111111,\"#46039f\"],[0.2222222222222222,\"#7201a8\"],[0.3333333333333333,\"#9c179e\"],[0.4444444444444444,\"#bd3786\"],[0.5555555555555556,\"#d8576b\"],[0.6666666666666666,\"#ed7953\"],[0.7777777777777778,\"#fb9f3a\"],[0.8888888888888888,\"#fdca26\"],[1.0,\"#f0f921\"]],\"sequentialminus\":[[0.0,\"#0d0887\"],[0.1111111111111111,\"#46039f\"],[0.2222222222222222,\"#7201a8\"],[0.3333333333333333,\"#9c179e\"],[0.4444444444444444,\"#bd3786\"],[0.5555555555555556,\"#d8576b\"],[0.6666666666666666,\"#ed7953\"],[0.7777777777777778,\"#fb9f3a\"],[0.8888888888888888,\"#fdca26\"],[1.0,\"#f0f921\"]],\"diverging\":[[0,\"#8e0152\"],[0.1,\"#c51b7d\"],[0.2,\"#de77ae\"],[0.3,\"#f1b6da\"],[0.4,\"#fde0ef\"],[0.5,\"#f7f7f7\"],[0.6,\"#e6f5d0\"],[0.7,\"#b8e186\"],[0.8,\"#7fbc41\"],[0.9,\"#4d9221\"],[1,\"#276419\"]]},\"xaxis\":{\"gridcolor\":\"white\",\"linecolor\":\"white\",\"ticks\":\"\",\"title\":{\"standoff\":15},\"zerolinecolor\":\"white\",\"automargin\":true,\"zerolinewidth\":2},\"yaxis\":{\"gridcolor\":\"white\",\"linecolor\":\"white\",\"ticks\":\"\",\"title\":{\"standoff\":15},\"zerolinecolor\":\"white\",\"automargin\":true,\"zerolinewidth\":2},\"scene\":{\"xaxis\":{\"backgroundcolor\":\"#E5ECF6\",\"gridcolor\":\"white\",\"linecolor\":\"white\",\"showbackground\":true,\"ticks\":\"\",\"zerolinecolor\":\"white\",\"gridwidth\":2},\"yaxis\":{\"backgroundcolor\":\"#E5ECF6\",\"gridcolor\":\"white\",\"linecolor\":\"white\",\"showbackground\":true,\"ticks\":\"\",\"zerolinecolor\":\"white\",\"gridwidth\":2},\"zaxis\":{\"backgroundcolor\":\"#E5ECF6\",\"gridcolor\":\"white\",\"linecolor\":\"white\",\"showbackground\":true,\"ticks\":\"\",\"zerolinecolor\":\"white\",\"gridwidth\":2}},\"shapedefaults\":{\"line\":{\"color\":\"#2a3f5f\"}},\"annotationdefaults\":{\"arrowcolor\":\"#2a3f5f\",\"arrowhead\":0,\"arrowwidth\":1},\"geo\":{\"bgcolor\":\"white\",\"landcolor\":\"#E5ECF6\",\"subunitcolor\":\"white\",\"showland\":true,\"showlakes\":true,\"lakecolor\":\"white\"},\"title\":{\"x\":0.05},\"mapbox\":{\"style\":\"light\"}}},\"xaxis\":{\"anchor\":\"y\",\"domain\":[0.0,1.0],\"title\":{\"text\":\"Year\"},\"tickmode\":\"linear\",\"dtick\":1},\"yaxis\":{\"anchor\":\"x\",\"domain\":[0.0,1.0],\"title\":{\"text\":\"Rate\"}},\"legend\":{\"title\":{\"text\":\"WebframeHaveWorkedWith\"},\"tracegroupgap\":0},\"title\":{\"text\":\"Yearly Trend for framework usage\"}},                        {\"responsive\": true}                    ).then(function(){\n",
       "                            \n",
       "var gd = document.getElementById('0d241048-5ec0-4981-b0f4-5ff4fc9320c6');\n",
       "var x = new MutationObserver(function (mutations, observer) {{\n",
       "        var display = window.getComputedStyle(gd).display;\n",
       "        if (!display || display === 'none') {{\n",
       "            console.log([gd, 'removed!']);\n",
       "            Plotly.purge(gd);\n",
       "            observer.disconnect();\n",
       "        }}\n",
       "}});\n",
       "\n",
       "// Listen for the removal of the full notebook cells\n",
       "var notebookContainer = gd.closest('#notebook-container');\n",
       "if (notebookContainer) {{\n",
       "    x.observe(notebookContainer, {childList: true});\n",
       "}}\n",
       "\n",
       "// Listen for the clearing of the current output cell\n",
       "var outputEl = gd.closest('.output');\n",
       "if (outputEl) {{\n",
       "    x.observe(outputEl, {childList: true});\n",
       "}}\n",
       "\n",
       "                        })                };                });            </script>        </div>"
      ]
     },
     "metadata": {},
     "output_type": "display_data"
    }
   ],
   "source": [
    "# Plot the interactive line chart using Plotly\n",
    "def plot_line_chart(df: pd.DataFrame, title: str):\n",
    "    \"\"\"\n",
    "    Description: This function can be used to plot a line chart for a given dataframe\n",
    "\n",
    "    Arguments:\n",
    "        df: pandas df. \n",
    "        title: title for the line chart. \n",
    "\n",
    "    Returns:\n",
    "        None\n",
    "    \"\"\"\n",
    "    fig = px.line(df, x=df.index, y=df.columns, title=title)\n",
    "\n",
    "    # Set x-axis tickmode and dtick\n",
    "    fig.update_layout(xaxis=dict(tickmode='linear', dtick=1))\n",
    "\n",
    "    # Add labels to x-axis and y-axis\n",
    "    fig.update_layout(xaxis_title='Year', yaxis_title='Rate')\n",
    "\n",
    "    # Show the plot\n",
    "    fig.show()\n",
    "    \n",
    "plot_line_chart(web_percent, 'Yearly Trend for framework usage')"
   ]
  },
  {
   "cell_type": "markdown",
   "id": "6916882a",
   "metadata": {},
   "source": [
    "#### Evaluation for Q1a\n",
    "\n",
    "It is seen that although jQuery has been the most popular web framework over a four year's span, its popularity has been declined by half from 20% to 10.64%. Perhaps in a near future jQuery would just disappear from the most popular web framework list all together.\n",
    "\n",
    "For front end SPA frameworks like React, Angular and Vue, it is shown that React has a relatively health adoption rate where the framework usage rate has been increased by 3%.\n"
   ]
  },
  {
   "cell_type": "markdown",
   "id": "38877871",
   "metadata": {},
   "source": [
    "Next I will try to analyze the most desired web frameworks."
   ]
  },
  {
   "cell_type": "code",
   "execution_count": 130,
   "id": "ded8813e",
   "metadata": {},
   "outputs": [],
   "source": [
    "# there are missing values in WebframeHaveWorkedWith column after grouping, i want to remove these missing rows\n",
    "desired = df[['WebframeWantToWorkWith', 'year']]\n",
    "desired = desired.dropna(subset=['WebframeWantToWorkWith'])"
   ]
  },
  {
   "cell_type": "code",
   "execution_count": 131,
   "id": "1efaca05",
   "metadata": {},
   "outputs": [],
   "source": [
    "# split the values in the column by semicolons, resulting in a column of lists. Then, use df.explode('WebframeHaveWorkedWith') \n",
    "# to explode the lists into separate rows, duplicating the other columns as necessary.\n",
    "desired['WebframeWantToWorkWith'] = desired['WebframeWantToWorkWith'].str.split(';')\n",
    "desired = desired.explode('WebframeWantToWorkWith')"
   ]
  },
  {
   "cell_type": "code",
   "execution_count": 132,
   "id": "ec269921",
   "metadata": {},
   "outputs": [
    {
     "data": {
      "text/html": [
       "<div>\n",
       "<style scoped>\n",
       "    .dataframe tbody tr th:only-of-type {\n",
       "        vertical-align: middle;\n",
       "    }\n",
       "\n",
       "    .dataframe tbody tr th {\n",
       "        vertical-align: top;\n",
       "    }\n",
       "\n",
       "    .dataframe thead th {\n",
       "        text-align: right;\n",
       "    }\n",
       "</style>\n",
       "<table border=\"1\" class=\"dataframe\">\n",
       "  <thead>\n",
       "    <tr style=\"text-align: right;\">\n",
       "      <th></th>\n",
       "      <th>WebframeWantToWorkWith</th>\n",
       "      <th>year</th>\n",
       "    </tr>\n",
       "  </thead>\n",
       "  <tbody>\n",
       "    <tr>\n",
       "      <th>0</th>\n",
       "      <td>Django</td>\n",
       "      <td>2018</td>\n",
       "    </tr>\n",
       "    <tr>\n",
       "      <th>0</th>\n",
       "      <td>React</td>\n",
       "      <td>2018</td>\n",
       "    </tr>\n",
       "    <tr>\n",
       "      <th>1</th>\n",
       "      <td>React</td>\n",
       "      <td>2018</td>\n",
       "    </tr>\n",
       "    <tr>\n",
       "      <th>3</th>\n",
       "      <td>Angular</td>\n",
       "      <td>2018</td>\n",
       "    </tr>\n",
       "    <tr>\n",
       "      <th>3</th>\n",
       "      <td>.NET Core</td>\n",
       "      <td>2018</td>\n",
       "    </tr>\n",
       "    <tr>\n",
       "      <th>...</th>\n",
       "      <td>...</td>\n",
       "      <td>...</td>\n",
       "    </tr>\n",
       "    <tr>\n",
       "      <th>408903</th>\n",
       "      <td>React.js</td>\n",
       "      <td>2022</td>\n",
       "    </tr>\n",
       "    <tr>\n",
       "      <th>408903</th>\n",
       "      <td>Svelte</td>\n",
       "      <td>2022</td>\n",
       "    </tr>\n",
       "    <tr>\n",
       "      <th>408905</th>\n",
       "      <td>ASP.NET Core</td>\n",
       "      <td>2022</td>\n",
       "    </tr>\n",
       "    <tr>\n",
       "      <th>408905</th>\n",
       "      <td>Node.js</td>\n",
       "      <td>2022</td>\n",
       "    </tr>\n",
       "    <tr>\n",
       "      <th>408905</th>\n",
       "      <td>Svelte</td>\n",
       "      <td>2022</td>\n",
       "    </tr>\n",
       "  </tbody>\n",
       "</table>\n",
       "<p>712756 rows × 2 columns</p>\n",
       "</div>"
      ],
      "text/plain": [
       "       WebframeWantToWorkWith  year\n",
       "0                      Django  2018\n",
       "0                       React  2018\n",
       "1                       React  2018\n",
       "3                     Angular  2018\n",
       "3                   .NET Core  2018\n",
       "...                       ...   ...\n",
       "408903               React.js  2022\n",
       "408903                 Svelte  2022\n",
       "408905          ASP.NET Core   2022\n",
       "408905                Node.js  2022\n",
       "408905                 Svelte  2022\n",
       "\n",
       "[712756 rows x 2 columns]"
      ]
     },
     "execution_count": 132,
     "metadata": {},
     "output_type": "execute_result"
    }
   ],
   "source": [
    "desired"
   ]
  },
  {
   "cell_type": "code",
   "execution_count": 133,
   "id": "c9f3fea5",
   "metadata": {},
   "outputs": [
    {
     "data": {
      "text/plain": [
       "array(['Django', 'React', 'Angular', '.NET Core', 'Node.js', 'TensorFlow',\n",
       "       'Hadoop', 'Spark', 'Spring', 'Cordova', 'Xamarin', 'Torch/PyTorch',\n",
       "       'Flask', 'jQuery', 'Other(s):', 'React.js', 'Express', 'Vue.js',\n",
       "       'Ruby on Rails', 'Angular/Angular.js', 'ASP.NET', 'Drupal',\n",
       "       'Laravel', 'ASP.NET Core', 'Angular.js', 'Gatsby', 'Symfony',\n",
       "       'FastAPI', 'ASP.NET Core ', 'Svelte', 'Blazor', 'Next.js',\n",
       "       'Nuxt.js', 'Phoenix', 'Deno', 'Fastify', 'Play Framework'],\n",
       "      dtype=object)"
      ]
     },
     "execution_count": 133,
     "metadata": {},
     "output_type": "execute_result"
    }
   ],
   "source": [
    "desired['WebframeWantToWorkWith'].unique()"
   ]
  },
  {
   "cell_type": "code",
   "execution_count": 134,
   "id": "80954722",
   "metadata": {},
   "outputs": [],
   "source": [
    "# here i want to clean up the data a bit to make it align across the years\n",
    "desired.loc[desired['WebframeWantToWorkWith']=='React', 'WebframeWantToWorkWith'] = 'React.js'\n",
    "desired.loc[desired['WebframeWantToWorkWith']=='Angular/Angular.js', 'WebframeWantToWorkWith'] = 'Angular'\n",
    "desired.loc[desired['WebframeWantToWorkWith']=='Angular.js', 'WebframeWantToWorkWith'] = 'Angular'\n",
    "desired.loc[desired['WebframeWantToWorkWith']=='ASP.NET Core ', 'WebframeWantToWorkWith'] = 'ASP.NET Core'\n",
    " \n",
    "# i want to remove all the 2018 data since many web framework weren't properly surveryed in 2018\n",
    "desired = desired[desired['year'] > 2018]"
   ]
  },
  {
   "cell_type": "code",
   "execution_count": 135,
   "id": "6bfbc88a",
   "metadata": {},
   "outputs": [],
   "source": [
    "desired_counts = desired['WebframeWantToWorkWith'].value_counts()"
   ]
  },
  {
   "cell_type": "code",
   "execution_count": 136,
   "id": "2f95df73",
   "metadata": {},
   "outputs": [
    {
     "data": {
      "text/plain": [
       "WebframeWantToWorkWith\n",
       "React.js        97230\n",
       "Angular         62986\n",
       "Vue.js          61376\n",
       "Express         41438\n",
       "jQuery          39724\n",
       "Django          35907\n",
       "ASP.NET Core    28366\n",
       "Flask           27291\n",
       "ASP.NET         26649\n",
       "Spring          23316\n",
       "Name: count, dtype: int64"
      ]
     },
     "execution_count": 136,
     "metadata": {},
     "output_type": "execute_result"
    }
   ],
   "source": [
    "desired_counts.head(10)"
   ]
  },
  {
   "cell_type": "code",
   "execution_count": 137,
   "id": "5cd3d0d3",
   "metadata": {},
   "outputs": [],
   "source": [
    "desired_counts = desired.groupby(['year', 'WebframeWantToWorkWith']).value_counts()"
   ]
  },
  {
   "cell_type": "code",
   "execution_count": 138,
   "id": "52a7a635",
   "metadata": {},
   "outputs": [],
   "source": [
    "# Reshape the result for plotting\n",
    "desired_counts = desired_counts.unstack(fill_value=0)"
   ]
  },
  {
   "cell_type": "code",
   "execution_count": 139,
   "id": "d7a918a0",
   "metadata": {},
   "outputs": [
    {
     "data": {
      "text/plain": [
       "[160483, 114185, 140053, 154777]"
      ]
     },
     "execution_count": 139,
     "metadata": {},
     "output_type": "execute_result"
    }
   ],
   "source": [
    "# Calculate the sum of all rows\n",
    "sum_all_cols = desired_counts.sum(axis=1).tolist()\n",
    "\n",
    "sum_all_cols"
   ]
  },
  {
   "cell_type": "code",
   "execution_count": 140,
   "id": "37902af5",
   "metadata": {},
   "outputs": [],
   "source": [
    "desired_counts = desired_counts[['jQuery', 'React.js', 'Angular', 'Express', 'Vue.js', 'Django', 'Spring', 'Flask', 'ASP.NET Core', 'Svelte', 'FastAPI', 'Next.js', 'Nuxt.js']]"
   ]
  },
  {
   "cell_type": "code",
   "execution_count": 141,
   "id": "bbf2fd75",
   "metadata": {},
   "outputs": [],
   "source": [
    "# next i will devide the count by the total number to get the percentage\n",
    "# Divide each row by the corresponding divisor\n",
    "desired_counts.reset_index(inplace=True, drop=True)\n",
    "desired_percentage = desired_counts.apply(lambda row: row / sum_all_cols[row.name], axis=1)\n",
    "desired_percentage['year'] = [2019, 2020, 2021, 2022]\n",
    "\n",
    "# Set column 'year' as the index\n",
    "desired_percentage = desired_percentage.set_index('year')"
   ]
  },
  {
   "cell_type": "code",
   "execution_count": 142,
   "id": "c44fb26f",
   "metadata": {},
   "outputs": [
    {
     "data": {
      "text/html": [
       "<div>\n",
       "<style scoped>\n",
       "    .dataframe tbody tr th:only-of-type {\n",
       "        vertical-align: middle;\n",
       "    }\n",
       "\n",
       "    .dataframe tbody tr th {\n",
       "        vertical-align: top;\n",
       "    }\n",
       "\n",
       "    .dataframe thead th {\n",
       "        text-align: right;\n",
       "    }\n",
       "</style>\n",
       "<table border=\"1\" class=\"dataframe\">\n",
       "  <thead>\n",
       "    <tr style=\"text-align: right;\">\n",
       "      <th>WebframeWantToWorkWith</th>\n",
       "      <th>jQuery</th>\n",
       "      <th>React.js</th>\n",
       "      <th>Angular</th>\n",
       "      <th>Express</th>\n",
       "      <th>Vue.js</th>\n",
       "      <th>Django</th>\n",
       "      <th>Spring</th>\n",
       "      <th>Flask</th>\n",
       "      <th>ASP.NET Core</th>\n",
       "      <th>Svelte</th>\n",
       "      <th>FastAPI</th>\n",
       "      <th>Next.js</th>\n",
       "      <th>Nuxt.js</th>\n",
       "    </tr>\n",
       "    <tr>\n",
       "      <th>year</th>\n",
       "      <th></th>\n",
       "      <th></th>\n",
       "      <th></th>\n",
       "      <th></th>\n",
       "      <th></th>\n",
       "      <th></th>\n",
       "      <th></th>\n",
       "      <th></th>\n",
       "      <th></th>\n",
       "      <th></th>\n",
       "      <th></th>\n",
       "      <th></th>\n",
       "      <th></th>\n",
       "    </tr>\n",
       "  </thead>\n",
       "  <tbody>\n",
       "    <tr>\n",
       "      <th>2019</th>\n",
       "      <td>10.54%</td>\n",
       "      <td>18.40%</td>\n",
       "      <td>12.23%</td>\n",
       "      <td>7.53%</td>\n",
       "      <td>12.33%</td>\n",
       "      <td>7.08%</td>\n",
       "      <td>6.14%</td>\n",
       "      <td>5.09%</td>\n",
       "      <td>0.00%</td>\n",
       "      <td>0.00%</td>\n",
       "      <td>0.00%</td>\n",
       "      <td>0.00%</td>\n",
       "      <td>0.00%</td>\n",
       "    </tr>\n",
       "    <tr>\n",
       "      <th>2020</th>\n",
       "      <td>7.34%</td>\n",
       "      <td>17.58%</td>\n",
       "      <td>14.33%</td>\n",
       "      <td>7.12%</td>\n",
       "      <td>11.51%</td>\n",
       "      <td>7.21%</td>\n",
       "      <td>5.47%</td>\n",
       "      <td>5.34%</td>\n",
       "      <td>7.90%</td>\n",
       "      <td>0.00%</td>\n",
       "      <td>0.00%</td>\n",
       "      <td>0.00%</td>\n",
       "      <td>0.00%</td>\n",
       "    </tr>\n",
       "    <tr>\n",
       "      <th>2021</th>\n",
       "      <td>6.06%</td>\n",
       "      <td>18.36%</td>\n",
       "      <td>11.30%</td>\n",
       "      <td>8.49%</td>\n",
       "      <td>11.27%</td>\n",
       "      <td>6.51%</td>\n",
       "      <td>5.16%</td>\n",
       "      <td>5.42%</td>\n",
       "      <td>7.46%</td>\n",
       "      <td>3.74%</td>\n",
       "      <td>2.85%</td>\n",
       "      <td>0.00%</td>\n",
       "      <td>0.00%</td>\n",
       "    </tr>\n",
       "    <tr>\n",
       "      <th>2022</th>\n",
       "      <td>3.84%</td>\n",
       "      <td>14.16%</td>\n",
       "      <td>7.22%</td>\n",
       "      <td>6.03%</td>\n",
       "      <td>8.18%</td>\n",
       "      <td>4.65%</td>\n",
       "      <td>0.00%</td>\n",
       "      <td>3.51%</td>\n",
       "      <td>5.75%</td>\n",
       "      <td>4.36%</td>\n",
       "      <td>2.95%</td>\n",
       "      <td>6.69%</td>\n",
       "      <td>2.46%</td>\n",
       "    </tr>\n",
       "  </tbody>\n",
       "</table>\n",
       "</div>"
      ],
      "text/plain": [
       "WebframeWantToWorkWith  jQuery React.js Angular Express  Vue.js Django Spring  \\\n",
       "year                                                                            \n",
       "2019                    10.54%   18.40%  12.23%   7.53%  12.33%  7.08%  6.14%   \n",
       "2020                     7.34%   17.58%  14.33%   7.12%  11.51%  7.21%  5.47%   \n",
       "2021                     6.06%   18.36%  11.30%   8.49%  11.27%  6.51%  5.16%   \n",
       "2022                     3.84%   14.16%   7.22%   6.03%   8.18%  4.65%  0.00%   \n",
       "\n",
       "WebframeWantToWorkWith  Flask ASP.NET Core Svelte FastAPI Next.js Nuxt.js  \n",
       "year                                                                       \n",
       "2019                    5.09%        0.00%  0.00%   0.00%   0.00%   0.00%  \n",
       "2020                    5.34%        7.90%  0.00%   0.00%   0.00%   0.00%  \n",
       "2021                    5.42%        7.46%  3.74%   2.85%   0.00%   0.00%  \n",
       "2022                    3.51%        5.75%  4.36%   2.95%   6.69%   2.46%  "
      ]
     },
     "execution_count": 142,
     "metadata": {},
     "output_type": "execute_result"
    }
   ],
   "source": [
    "# Format numeric columns as percentages\n",
    "desired_percentage_format = convert_df_to_percentage(desired_percentage)\n",
    "desired_percentage_format"
   ]
  },
  {
   "cell_type": "code",
   "execution_count": 143,
   "id": "cb1a3372",
   "metadata": {},
   "outputs": [
    {
     "data": {
      "application/vnd.plotly.v1+json": {
       "config": {
        "plotlyServerURL": "https://plot.ly"
       },
       "data": [
        {
         "hovertemplate": "WebframeWantToWorkWith=jQuery<br>year=%{x}<br>value=%{y}<extra></extra>",
         "legendgroup": "jQuery",
         "line": {
          "color": "#636efa",
          "dash": "solid"
         },
         "marker": {
          "symbol": "circle"
         },
         "mode": "lines",
         "name": "jQuery",
         "orientation": "v",
         "showlegend": true,
         "type": "scatter",
         "x": [
          2019,
          2020,
          2021,
          2022
         ],
         "xaxis": "x",
         "y": [
          0.10541926559199417,
          0.07340719008626352,
          0.0605984877153649,
          0.03835841242561879
         ],
         "yaxis": "y"
        },
        {
         "hovertemplate": "WebframeWantToWorkWith=React.js<br>year=%{x}<br>value=%{y}<extra></extra>",
         "legendgroup": "React.js",
         "line": {
          "color": "#EF553B",
          "dash": "solid"
         },
         "marker": {
          "symbol": "circle"
         },
         "mode": "lines",
         "name": "React.js",
         "orientation": "v",
         "showlegend": true,
         "type": "scatter",
         "x": [
          2019,
          2020,
          2021,
          2022
         ],
         "xaxis": "x",
         "y": [
          0.18401325997146115,
          0.17577615273459737,
          0.18363048274581764,
          0.14155850029397132
         ],
         "yaxis": "y"
        },
        {
         "hovertemplate": "WebframeWantToWorkWith=Angular<br>year=%{x}<br>value=%{y}<extra></extra>",
         "legendgroup": "Angular",
         "line": {
          "color": "#00cc96",
          "dash": "solid"
         },
         "marker": {
          "symbol": "circle"
         },
         "mode": "lines",
         "name": "Angular",
         "orientation": "v",
         "showlegend": true,
         "type": "scatter",
         "x": [
          2019,
          2020,
          2021,
          2022
         ],
         "xaxis": "x",
         "y": [
          0.12226840226067559,
          0.14330253535928536,
          0.11300007854169493,
          0.07220064996737241
         ],
         "yaxis": "y"
        },
        {
         "hovertemplate": "WebframeWantToWorkWith=Express<br>year=%{x}<br>value=%{y}<extra></extra>",
         "legendgroup": "Express",
         "line": {
          "color": "#ab63fa",
          "dash": "solid"
         },
         "marker": {
          "symbol": "circle"
         },
         "mode": "lines",
         "name": "Express",
         "orientation": "v",
         "showlegend": true,
         "type": "scatter",
         "x": [
          2019,
          2020,
          2021,
          2022
         ],
         "xaxis": "x",
         "y": [
          0.07534754459973954,
          0.07118272978061917,
          0.08486073129458134,
          0.06029965692577063
         ],
         "yaxis": "y"
        },
        {
         "hovertemplate": "WebframeWantToWorkWith=Vue.js<br>year=%{x}<br>value=%{y}<extra></extra>",
         "legendgroup": "Vue.js",
         "line": {
          "color": "#FFA15A",
          "dash": "solid"
         },
         "marker": {
          "symbol": "circle"
         },
         "mode": "lines",
         "name": "Vue.js",
         "orientation": "v",
         "showlegend": true,
         "type": "scatter",
         "x": [
          2019,
          2020,
          2021,
          2022
         ],
         "xaxis": "x",
         "y": [
          0.12327785497529334,
          0.11509392652274818,
          0.11270019207014488,
          0.08183386420462989
         ],
         "yaxis": "y"
        },
        {
         "hovertemplate": "WebframeWantToWorkWith=Django<br>year=%{x}<br>value=%{y}<extra></extra>",
         "legendgroup": "Django",
         "line": {
          "color": "#19d3f3",
          "dash": "solid"
         },
         "marker": {
          "symbol": "circle"
         },
         "mode": "lines",
         "name": "Django",
         "orientation": "v",
         "showlegend": true,
         "type": "scatter",
         "x": [
          2019,
          2020,
          2021,
          2022
         ],
         "xaxis": "x",
         "y": [
          0.07077385143597764,
          0.07213732101414372,
          0.06506108401819312,
          0.046518539576293635
         ],
         "yaxis": "y"
        },
        {
         "hovertemplate": "WebframeWantToWorkWith=Spring<br>year=%{x}<br>value=%{y}<extra></extra>",
         "legendgroup": "Spring",
         "line": {
          "color": "#FF6692",
          "dash": "solid"
         },
         "marker": {
          "symbol": "circle"
         },
         "mode": "lines",
         "name": "Spring",
         "orientation": "v",
         "showlegend": true,
         "type": "scatter",
         "x": [
          2019,
          2020,
          2021,
          2022
         ],
         "xaxis": "x",
         "y": [
          0.061352292766212,
          0.05465691640758418,
          0.05161617387703227,
          0
         ],
         "yaxis": "y"
        },
        {
         "hovertemplate": "WebframeWantToWorkWith=Flask<br>year=%{x}<br>value=%{y}<extra></extra>",
         "legendgroup": "Flask",
         "line": {
          "color": "#B6E880",
          "dash": "solid"
         },
         "marker": {
          "symbol": "circle"
         },
         "mode": "lines",
         "name": "Flask",
         "orientation": "v",
         "showlegend": true,
         "type": "scatter",
         "x": [
          2019,
          2020,
          2021,
          2022
         ],
         "xaxis": "x",
         "y": [
          0.05086520067546095,
          0.053395805053203134,
          0.054222330117883945,
          0.03512795828837618
         ],
         "yaxis": "y"
        },
        {
         "hovertemplate": "WebframeWantToWorkWith=ASP.NET Core<br>year=%{x}<br>value=%{y}<extra></extra>",
         "legendgroup": "ASP.NET Core",
         "line": {
          "color": "#FF97FF",
          "dash": "solid"
         },
         "marker": {
          "symbol": "circle"
         },
         "mode": "lines",
         "name": "ASP.NET Core",
         "orientation": "v",
         "showlegend": true,
         "type": "scatter",
         "x": [
          2019,
          2020,
          2021,
          2022
         ],
         "xaxis": "x",
         "y": [
          0,
          0.07897709856811315,
          0.07464317079962586,
          0.05746331819327161
         ],
         "yaxis": "y"
        },
        {
         "hovertemplate": "WebframeWantToWorkWith=Svelte<br>year=%{x}<br>value=%{y}<extra></extra>",
         "legendgroup": "Svelte",
         "line": {
          "color": "#FECB52",
          "dash": "solid"
         },
         "marker": {
          "symbol": "circle"
         },
         "mode": "lines",
         "name": "Svelte",
         "orientation": "v",
         "showlegend": true,
         "type": "scatter",
         "x": [
          2019,
          2020,
          2021,
          2022
         ],
         "xaxis": "x",
         "y": [
          0,
          0,
          0.03737870663248913,
          0.043552982678304916
         ],
         "yaxis": "y"
        },
        {
         "hovertemplate": "WebframeWantToWorkWith=FastAPI<br>year=%{x}<br>value=%{y}<extra></extra>",
         "legendgroup": "FastAPI",
         "line": {
          "color": "#636efa",
          "dash": "solid"
         },
         "marker": {
          "symbol": "circle"
         },
         "mode": "lines",
         "name": "FastAPI",
         "orientation": "v",
         "showlegend": true,
         "type": "scatter",
         "x": [
          2019,
          2020,
          2021,
          2022
         ],
         "xaxis": "x",
         "y": [
          0,
          0,
          0.0284820746431708,
          0.029532811722671973
         ],
         "yaxis": "y"
        },
        {
         "hovertemplate": "WebframeWantToWorkWith=Next.js<br>year=%{x}<br>value=%{y}<extra></extra>",
         "legendgroup": "Next.js",
         "line": {
          "color": "#EF553B",
          "dash": "solid"
         },
         "marker": {
          "symbol": "circle"
         },
         "mode": "lines",
         "name": "Next.js",
         "orientation": "v",
         "showlegend": true,
         "type": "scatter",
         "x": [
          2019,
          2020,
          2021,
          2022
         ],
         "xaxis": "x",
         "y": [
          0,
          0,
          0,
          0.06685747882437314
         ],
         "yaxis": "y"
        },
        {
         "hovertemplate": "WebframeWantToWorkWith=Nuxt.js<br>year=%{x}<br>value=%{y}<extra></extra>",
         "legendgroup": "Nuxt.js",
         "line": {
          "color": "#00cc96",
          "dash": "solid"
         },
         "marker": {
          "symbol": "circle"
         },
         "mode": "lines",
         "name": "Nuxt.js",
         "orientation": "v",
         "showlegend": true,
         "type": "scatter",
         "x": [
          2019,
          2020,
          2021,
          2022
         ],
         "xaxis": "x",
         "y": [
          0,
          0,
          0,
          0.02458375598441629
         ],
         "yaxis": "y"
        }
       ],
       "layout": {
        "legend": {
         "title": {
          "text": "WebframeWantToWorkWith"
         },
         "tracegroupgap": 0
        },
        "template": {
         "data": {
          "bar": [
           {
            "error_x": {
             "color": "#2a3f5f"
            },
            "error_y": {
             "color": "#2a3f5f"
            },
            "marker": {
             "line": {
              "color": "#E5ECF6",
              "width": 0.5
             },
             "pattern": {
              "fillmode": "overlay",
              "size": 10,
              "solidity": 0.2
             }
            },
            "type": "bar"
           }
          ],
          "barpolar": [
           {
            "marker": {
             "line": {
              "color": "#E5ECF6",
              "width": 0.5
             },
             "pattern": {
              "fillmode": "overlay",
              "size": 10,
              "solidity": 0.2
             }
            },
            "type": "barpolar"
           }
          ],
          "carpet": [
           {
            "aaxis": {
             "endlinecolor": "#2a3f5f",
             "gridcolor": "white",
             "linecolor": "white",
             "minorgridcolor": "white",
             "startlinecolor": "#2a3f5f"
            },
            "baxis": {
             "endlinecolor": "#2a3f5f",
             "gridcolor": "white",
             "linecolor": "white",
             "minorgridcolor": "white",
             "startlinecolor": "#2a3f5f"
            },
            "type": "carpet"
           }
          ],
          "choropleth": [
           {
            "colorbar": {
             "outlinewidth": 0,
             "ticks": ""
            },
            "type": "choropleth"
           }
          ],
          "contour": [
           {
            "colorbar": {
             "outlinewidth": 0,
             "ticks": ""
            },
            "colorscale": [
             [
              0,
              "#0d0887"
             ],
             [
              0.1111111111111111,
              "#46039f"
             ],
             [
              0.2222222222222222,
              "#7201a8"
             ],
             [
              0.3333333333333333,
              "#9c179e"
             ],
             [
              0.4444444444444444,
              "#bd3786"
             ],
             [
              0.5555555555555556,
              "#d8576b"
             ],
             [
              0.6666666666666666,
              "#ed7953"
             ],
             [
              0.7777777777777778,
              "#fb9f3a"
             ],
             [
              0.8888888888888888,
              "#fdca26"
             ],
             [
              1,
              "#f0f921"
             ]
            ],
            "type": "contour"
           }
          ],
          "contourcarpet": [
           {
            "colorbar": {
             "outlinewidth": 0,
             "ticks": ""
            },
            "type": "contourcarpet"
           }
          ],
          "heatmap": [
           {
            "colorbar": {
             "outlinewidth": 0,
             "ticks": ""
            },
            "colorscale": [
             [
              0,
              "#0d0887"
             ],
             [
              0.1111111111111111,
              "#46039f"
             ],
             [
              0.2222222222222222,
              "#7201a8"
             ],
             [
              0.3333333333333333,
              "#9c179e"
             ],
             [
              0.4444444444444444,
              "#bd3786"
             ],
             [
              0.5555555555555556,
              "#d8576b"
             ],
             [
              0.6666666666666666,
              "#ed7953"
             ],
             [
              0.7777777777777778,
              "#fb9f3a"
             ],
             [
              0.8888888888888888,
              "#fdca26"
             ],
             [
              1,
              "#f0f921"
             ]
            ],
            "type": "heatmap"
           }
          ],
          "heatmapgl": [
           {
            "colorbar": {
             "outlinewidth": 0,
             "ticks": ""
            },
            "colorscale": [
             [
              0,
              "#0d0887"
             ],
             [
              0.1111111111111111,
              "#46039f"
             ],
             [
              0.2222222222222222,
              "#7201a8"
             ],
             [
              0.3333333333333333,
              "#9c179e"
             ],
             [
              0.4444444444444444,
              "#bd3786"
             ],
             [
              0.5555555555555556,
              "#d8576b"
             ],
             [
              0.6666666666666666,
              "#ed7953"
             ],
             [
              0.7777777777777778,
              "#fb9f3a"
             ],
             [
              0.8888888888888888,
              "#fdca26"
             ],
             [
              1,
              "#f0f921"
             ]
            ],
            "type": "heatmapgl"
           }
          ],
          "histogram": [
           {
            "marker": {
             "pattern": {
              "fillmode": "overlay",
              "size": 10,
              "solidity": 0.2
             }
            },
            "type": "histogram"
           }
          ],
          "histogram2d": [
           {
            "colorbar": {
             "outlinewidth": 0,
             "ticks": ""
            },
            "colorscale": [
             [
              0,
              "#0d0887"
             ],
             [
              0.1111111111111111,
              "#46039f"
             ],
             [
              0.2222222222222222,
              "#7201a8"
             ],
             [
              0.3333333333333333,
              "#9c179e"
             ],
             [
              0.4444444444444444,
              "#bd3786"
             ],
             [
              0.5555555555555556,
              "#d8576b"
             ],
             [
              0.6666666666666666,
              "#ed7953"
             ],
             [
              0.7777777777777778,
              "#fb9f3a"
             ],
             [
              0.8888888888888888,
              "#fdca26"
             ],
             [
              1,
              "#f0f921"
             ]
            ],
            "type": "histogram2d"
           }
          ],
          "histogram2dcontour": [
           {
            "colorbar": {
             "outlinewidth": 0,
             "ticks": ""
            },
            "colorscale": [
             [
              0,
              "#0d0887"
             ],
             [
              0.1111111111111111,
              "#46039f"
             ],
             [
              0.2222222222222222,
              "#7201a8"
             ],
             [
              0.3333333333333333,
              "#9c179e"
             ],
             [
              0.4444444444444444,
              "#bd3786"
             ],
             [
              0.5555555555555556,
              "#d8576b"
             ],
             [
              0.6666666666666666,
              "#ed7953"
             ],
             [
              0.7777777777777778,
              "#fb9f3a"
             ],
             [
              0.8888888888888888,
              "#fdca26"
             ],
             [
              1,
              "#f0f921"
             ]
            ],
            "type": "histogram2dcontour"
           }
          ],
          "mesh3d": [
           {
            "colorbar": {
             "outlinewidth": 0,
             "ticks": ""
            },
            "type": "mesh3d"
           }
          ],
          "parcoords": [
           {
            "line": {
             "colorbar": {
              "outlinewidth": 0,
              "ticks": ""
             }
            },
            "type": "parcoords"
           }
          ],
          "pie": [
           {
            "automargin": true,
            "type": "pie"
           }
          ],
          "scatter": [
           {
            "fillpattern": {
             "fillmode": "overlay",
             "size": 10,
             "solidity": 0.2
            },
            "type": "scatter"
           }
          ],
          "scatter3d": [
           {
            "line": {
             "colorbar": {
              "outlinewidth": 0,
              "ticks": ""
             }
            },
            "marker": {
             "colorbar": {
              "outlinewidth": 0,
              "ticks": ""
             }
            },
            "type": "scatter3d"
           }
          ],
          "scattercarpet": [
           {
            "marker": {
             "colorbar": {
              "outlinewidth": 0,
              "ticks": ""
             }
            },
            "type": "scattercarpet"
           }
          ],
          "scattergeo": [
           {
            "marker": {
             "colorbar": {
              "outlinewidth": 0,
              "ticks": ""
             }
            },
            "type": "scattergeo"
           }
          ],
          "scattergl": [
           {
            "marker": {
             "colorbar": {
              "outlinewidth": 0,
              "ticks": ""
             }
            },
            "type": "scattergl"
           }
          ],
          "scattermapbox": [
           {
            "marker": {
             "colorbar": {
              "outlinewidth": 0,
              "ticks": ""
             }
            },
            "type": "scattermapbox"
           }
          ],
          "scatterpolar": [
           {
            "marker": {
             "colorbar": {
              "outlinewidth": 0,
              "ticks": ""
             }
            },
            "type": "scatterpolar"
           }
          ],
          "scatterpolargl": [
           {
            "marker": {
             "colorbar": {
              "outlinewidth": 0,
              "ticks": ""
             }
            },
            "type": "scatterpolargl"
           }
          ],
          "scatterternary": [
           {
            "marker": {
             "colorbar": {
              "outlinewidth": 0,
              "ticks": ""
             }
            },
            "type": "scatterternary"
           }
          ],
          "surface": [
           {
            "colorbar": {
             "outlinewidth": 0,
             "ticks": ""
            },
            "colorscale": [
             [
              0,
              "#0d0887"
             ],
             [
              0.1111111111111111,
              "#46039f"
             ],
             [
              0.2222222222222222,
              "#7201a8"
             ],
             [
              0.3333333333333333,
              "#9c179e"
             ],
             [
              0.4444444444444444,
              "#bd3786"
             ],
             [
              0.5555555555555556,
              "#d8576b"
             ],
             [
              0.6666666666666666,
              "#ed7953"
             ],
             [
              0.7777777777777778,
              "#fb9f3a"
             ],
             [
              0.8888888888888888,
              "#fdca26"
             ],
             [
              1,
              "#f0f921"
             ]
            ],
            "type": "surface"
           }
          ],
          "table": [
           {
            "cells": {
             "fill": {
              "color": "#EBF0F8"
             },
             "line": {
              "color": "white"
             }
            },
            "header": {
             "fill": {
              "color": "#C8D4E3"
             },
             "line": {
              "color": "white"
             }
            },
            "type": "table"
           }
          ]
         },
         "layout": {
          "annotationdefaults": {
           "arrowcolor": "#2a3f5f",
           "arrowhead": 0,
           "arrowwidth": 1
          },
          "autotypenumbers": "strict",
          "coloraxis": {
           "colorbar": {
            "outlinewidth": 0,
            "ticks": ""
           }
          },
          "colorscale": {
           "diverging": [
            [
             0,
             "#8e0152"
            ],
            [
             0.1,
             "#c51b7d"
            ],
            [
             0.2,
             "#de77ae"
            ],
            [
             0.3,
             "#f1b6da"
            ],
            [
             0.4,
             "#fde0ef"
            ],
            [
             0.5,
             "#f7f7f7"
            ],
            [
             0.6,
             "#e6f5d0"
            ],
            [
             0.7,
             "#b8e186"
            ],
            [
             0.8,
             "#7fbc41"
            ],
            [
             0.9,
             "#4d9221"
            ],
            [
             1,
             "#276419"
            ]
           ],
           "sequential": [
            [
             0,
             "#0d0887"
            ],
            [
             0.1111111111111111,
             "#46039f"
            ],
            [
             0.2222222222222222,
             "#7201a8"
            ],
            [
             0.3333333333333333,
             "#9c179e"
            ],
            [
             0.4444444444444444,
             "#bd3786"
            ],
            [
             0.5555555555555556,
             "#d8576b"
            ],
            [
             0.6666666666666666,
             "#ed7953"
            ],
            [
             0.7777777777777778,
             "#fb9f3a"
            ],
            [
             0.8888888888888888,
             "#fdca26"
            ],
            [
             1,
             "#f0f921"
            ]
           ],
           "sequentialminus": [
            [
             0,
             "#0d0887"
            ],
            [
             0.1111111111111111,
             "#46039f"
            ],
            [
             0.2222222222222222,
             "#7201a8"
            ],
            [
             0.3333333333333333,
             "#9c179e"
            ],
            [
             0.4444444444444444,
             "#bd3786"
            ],
            [
             0.5555555555555556,
             "#d8576b"
            ],
            [
             0.6666666666666666,
             "#ed7953"
            ],
            [
             0.7777777777777778,
             "#fb9f3a"
            ],
            [
             0.8888888888888888,
             "#fdca26"
            ],
            [
             1,
             "#f0f921"
            ]
           ]
          },
          "colorway": [
           "#636efa",
           "#EF553B",
           "#00cc96",
           "#ab63fa",
           "#FFA15A",
           "#19d3f3",
           "#FF6692",
           "#B6E880",
           "#FF97FF",
           "#FECB52"
          ],
          "font": {
           "color": "#2a3f5f"
          },
          "geo": {
           "bgcolor": "white",
           "lakecolor": "white",
           "landcolor": "#E5ECF6",
           "showlakes": true,
           "showland": true,
           "subunitcolor": "white"
          },
          "hoverlabel": {
           "align": "left"
          },
          "hovermode": "closest",
          "mapbox": {
           "style": "light"
          },
          "paper_bgcolor": "white",
          "plot_bgcolor": "#E5ECF6",
          "polar": {
           "angularaxis": {
            "gridcolor": "white",
            "linecolor": "white",
            "ticks": ""
           },
           "bgcolor": "#E5ECF6",
           "radialaxis": {
            "gridcolor": "white",
            "linecolor": "white",
            "ticks": ""
           }
          },
          "scene": {
           "xaxis": {
            "backgroundcolor": "#E5ECF6",
            "gridcolor": "white",
            "gridwidth": 2,
            "linecolor": "white",
            "showbackground": true,
            "ticks": "",
            "zerolinecolor": "white"
           },
           "yaxis": {
            "backgroundcolor": "#E5ECF6",
            "gridcolor": "white",
            "gridwidth": 2,
            "linecolor": "white",
            "showbackground": true,
            "ticks": "",
            "zerolinecolor": "white"
           },
           "zaxis": {
            "backgroundcolor": "#E5ECF6",
            "gridcolor": "white",
            "gridwidth": 2,
            "linecolor": "white",
            "showbackground": true,
            "ticks": "",
            "zerolinecolor": "white"
           }
          },
          "shapedefaults": {
           "line": {
            "color": "#2a3f5f"
           }
          },
          "ternary": {
           "aaxis": {
            "gridcolor": "white",
            "linecolor": "white",
            "ticks": ""
           },
           "baxis": {
            "gridcolor": "white",
            "linecolor": "white",
            "ticks": ""
           },
           "bgcolor": "#E5ECF6",
           "caxis": {
            "gridcolor": "white",
            "linecolor": "white",
            "ticks": ""
           }
          },
          "title": {
           "x": 0.05
          },
          "xaxis": {
           "automargin": true,
           "gridcolor": "white",
           "linecolor": "white",
           "ticks": "",
           "title": {
            "standoff": 15
           },
           "zerolinecolor": "white",
           "zerolinewidth": 2
          },
          "yaxis": {
           "automargin": true,
           "gridcolor": "white",
           "linecolor": "white",
           "ticks": "",
           "title": {
            "standoff": 15
           },
           "zerolinecolor": "white",
           "zerolinewidth": 2
          }
         }
        },
        "title": {
         "text": "Yearly Trend for desired Web Framework"
        },
        "xaxis": {
         "anchor": "y",
         "domain": [
          0,
          1
         ],
         "dtick": 1,
         "tickmode": "linear",
         "title": {
          "text": "Year"
         }
        },
        "yaxis": {
         "anchor": "x",
         "domain": [
          0,
          1
         ],
         "title": {
          "text": "Rate"
         }
        }
       }
      },
      "text/html": [
       "<div>                            <div id=\"eea1496e-46e5-4110-88fd-ff437b51ccb9\" class=\"plotly-graph-div\" style=\"height:525px; width:100%;\"></div>            <script type=\"text/javascript\">                require([\"plotly\"], function(Plotly) {                    window.PLOTLYENV=window.PLOTLYENV || {};                                    if (document.getElementById(\"eea1496e-46e5-4110-88fd-ff437b51ccb9\")) {                    Plotly.newPlot(                        \"eea1496e-46e5-4110-88fd-ff437b51ccb9\",                        [{\"hovertemplate\":\"WebframeWantToWorkWith=jQuery\\u003cbr\\u003eyear=%{x}\\u003cbr\\u003evalue=%{y}\\u003cextra\\u003e\\u003c\\u002fextra\\u003e\",\"legendgroup\":\"jQuery\",\"line\":{\"color\":\"#636efa\",\"dash\":\"solid\"},\"marker\":{\"symbol\":\"circle\"},\"mode\":\"lines\",\"name\":\"jQuery\",\"orientation\":\"v\",\"showlegend\":true,\"x\":[2019,2020,2021,2022],\"xaxis\":\"x\",\"y\":[0.10541926559199417,0.07340719008626352,0.0605984877153649,0.03835841242561879],\"yaxis\":\"y\",\"type\":\"scatter\"},{\"hovertemplate\":\"WebframeWantToWorkWith=React.js\\u003cbr\\u003eyear=%{x}\\u003cbr\\u003evalue=%{y}\\u003cextra\\u003e\\u003c\\u002fextra\\u003e\",\"legendgroup\":\"React.js\",\"line\":{\"color\":\"#EF553B\",\"dash\":\"solid\"},\"marker\":{\"symbol\":\"circle\"},\"mode\":\"lines\",\"name\":\"React.js\",\"orientation\":\"v\",\"showlegend\":true,\"x\":[2019,2020,2021,2022],\"xaxis\":\"x\",\"y\":[0.18401325997146115,0.17577615273459737,0.18363048274581764,0.14155850029397132],\"yaxis\":\"y\",\"type\":\"scatter\"},{\"hovertemplate\":\"WebframeWantToWorkWith=Angular\\u003cbr\\u003eyear=%{x}\\u003cbr\\u003evalue=%{y}\\u003cextra\\u003e\\u003c\\u002fextra\\u003e\",\"legendgroup\":\"Angular\",\"line\":{\"color\":\"#00cc96\",\"dash\":\"solid\"},\"marker\":{\"symbol\":\"circle\"},\"mode\":\"lines\",\"name\":\"Angular\",\"orientation\":\"v\",\"showlegend\":true,\"x\":[2019,2020,2021,2022],\"xaxis\":\"x\",\"y\":[0.12226840226067559,0.14330253535928536,0.11300007854169493,0.07220064996737241],\"yaxis\":\"y\",\"type\":\"scatter\"},{\"hovertemplate\":\"WebframeWantToWorkWith=Express\\u003cbr\\u003eyear=%{x}\\u003cbr\\u003evalue=%{y}\\u003cextra\\u003e\\u003c\\u002fextra\\u003e\",\"legendgroup\":\"Express\",\"line\":{\"color\":\"#ab63fa\",\"dash\":\"solid\"},\"marker\":{\"symbol\":\"circle\"},\"mode\":\"lines\",\"name\":\"Express\",\"orientation\":\"v\",\"showlegend\":true,\"x\":[2019,2020,2021,2022],\"xaxis\":\"x\",\"y\":[0.07534754459973954,0.07118272978061917,0.08486073129458134,0.06029965692577063],\"yaxis\":\"y\",\"type\":\"scatter\"},{\"hovertemplate\":\"WebframeWantToWorkWith=Vue.js\\u003cbr\\u003eyear=%{x}\\u003cbr\\u003evalue=%{y}\\u003cextra\\u003e\\u003c\\u002fextra\\u003e\",\"legendgroup\":\"Vue.js\",\"line\":{\"color\":\"#FFA15A\",\"dash\":\"solid\"},\"marker\":{\"symbol\":\"circle\"},\"mode\":\"lines\",\"name\":\"Vue.js\",\"orientation\":\"v\",\"showlegend\":true,\"x\":[2019,2020,2021,2022],\"xaxis\":\"x\",\"y\":[0.12327785497529334,0.11509392652274818,0.11270019207014488,0.08183386420462989],\"yaxis\":\"y\",\"type\":\"scatter\"},{\"hovertemplate\":\"WebframeWantToWorkWith=Django\\u003cbr\\u003eyear=%{x}\\u003cbr\\u003evalue=%{y}\\u003cextra\\u003e\\u003c\\u002fextra\\u003e\",\"legendgroup\":\"Django\",\"line\":{\"color\":\"#19d3f3\",\"dash\":\"solid\"},\"marker\":{\"symbol\":\"circle\"},\"mode\":\"lines\",\"name\":\"Django\",\"orientation\":\"v\",\"showlegend\":true,\"x\":[2019,2020,2021,2022],\"xaxis\":\"x\",\"y\":[0.07077385143597764,0.07213732101414372,0.06506108401819312,0.046518539576293635],\"yaxis\":\"y\",\"type\":\"scatter\"},{\"hovertemplate\":\"WebframeWantToWorkWith=Spring\\u003cbr\\u003eyear=%{x}\\u003cbr\\u003evalue=%{y}\\u003cextra\\u003e\\u003c\\u002fextra\\u003e\",\"legendgroup\":\"Spring\",\"line\":{\"color\":\"#FF6692\",\"dash\":\"solid\"},\"marker\":{\"symbol\":\"circle\"},\"mode\":\"lines\",\"name\":\"Spring\",\"orientation\":\"v\",\"showlegend\":true,\"x\":[2019,2020,2021,2022],\"xaxis\":\"x\",\"y\":[0.061352292766212,0.05465691640758418,0.05161617387703227,0.0],\"yaxis\":\"y\",\"type\":\"scatter\"},{\"hovertemplate\":\"WebframeWantToWorkWith=Flask\\u003cbr\\u003eyear=%{x}\\u003cbr\\u003evalue=%{y}\\u003cextra\\u003e\\u003c\\u002fextra\\u003e\",\"legendgroup\":\"Flask\",\"line\":{\"color\":\"#B6E880\",\"dash\":\"solid\"},\"marker\":{\"symbol\":\"circle\"},\"mode\":\"lines\",\"name\":\"Flask\",\"orientation\":\"v\",\"showlegend\":true,\"x\":[2019,2020,2021,2022],\"xaxis\":\"x\",\"y\":[0.05086520067546095,0.053395805053203134,0.054222330117883945,0.03512795828837618],\"yaxis\":\"y\",\"type\":\"scatter\"},{\"hovertemplate\":\"WebframeWantToWorkWith=ASP.NET Core\\u003cbr\\u003eyear=%{x}\\u003cbr\\u003evalue=%{y}\\u003cextra\\u003e\\u003c\\u002fextra\\u003e\",\"legendgroup\":\"ASP.NET Core\",\"line\":{\"color\":\"#FF97FF\",\"dash\":\"solid\"},\"marker\":{\"symbol\":\"circle\"},\"mode\":\"lines\",\"name\":\"ASP.NET Core\",\"orientation\":\"v\",\"showlegend\":true,\"x\":[2019,2020,2021,2022],\"xaxis\":\"x\",\"y\":[0.0,0.07897709856811315,0.07464317079962586,0.05746331819327161],\"yaxis\":\"y\",\"type\":\"scatter\"},{\"hovertemplate\":\"WebframeWantToWorkWith=Svelte\\u003cbr\\u003eyear=%{x}\\u003cbr\\u003evalue=%{y}\\u003cextra\\u003e\\u003c\\u002fextra\\u003e\",\"legendgroup\":\"Svelte\",\"line\":{\"color\":\"#FECB52\",\"dash\":\"solid\"},\"marker\":{\"symbol\":\"circle\"},\"mode\":\"lines\",\"name\":\"Svelte\",\"orientation\":\"v\",\"showlegend\":true,\"x\":[2019,2020,2021,2022],\"xaxis\":\"x\",\"y\":[0.0,0.0,0.03737870663248913,0.043552982678304916],\"yaxis\":\"y\",\"type\":\"scatter\"},{\"hovertemplate\":\"WebframeWantToWorkWith=FastAPI\\u003cbr\\u003eyear=%{x}\\u003cbr\\u003evalue=%{y}\\u003cextra\\u003e\\u003c\\u002fextra\\u003e\",\"legendgroup\":\"FastAPI\",\"line\":{\"color\":\"#636efa\",\"dash\":\"solid\"},\"marker\":{\"symbol\":\"circle\"},\"mode\":\"lines\",\"name\":\"FastAPI\",\"orientation\":\"v\",\"showlegend\":true,\"x\":[2019,2020,2021,2022],\"xaxis\":\"x\",\"y\":[0.0,0.0,0.0284820746431708,0.029532811722671973],\"yaxis\":\"y\",\"type\":\"scatter\"},{\"hovertemplate\":\"WebframeWantToWorkWith=Next.js\\u003cbr\\u003eyear=%{x}\\u003cbr\\u003evalue=%{y}\\u003cextra\\u003e\\u003c\\u002fextra\\u003e\",\"legendgroup\":\"Next.js\",\"line\":{\"color\":\"#EF553B\",\"dash\":\"solid\"},\"marker\":{\"symbol\":\"circle\"},\"mode\":\"lines\",\"name\":\"Next.js\",\"orientation\":\"v\",\"showlegend\":true,\"x\":[2019,2020,2021,2022],\"xaxis\":\"x\",\"y\":[0.0,0.0,0.0,0.06685747882437314],\"yaxis\":\"y\",\"type\":\"scatter\"},{\"hovertemplate\":\"WebframeWantToWorkWith=Nuxt.js\\u003cbr\\u003eyear=%{x}\\u003cbr\\u003evalue=%{y}\\u003cextra\\u003e\\u003c\\u002fextra\\u003e\",\"legendgroup\":\"Nuxt.js\",\"line\":{\"color\":\"#00cc96\",\"dash\":\"solid\"},\"marker\":{\"symbol\":\"circle\"},\"mode\":\"lines\",\"name\":\"Nuxt.js\",\"orientation\":\"v\",\"showlegend\":true,\"x\":[2019,2020,2021,2022],\"xaxis\":\"x\",\"y\":[0.0,0.0,0.0,0.02458375598441629],\"yaxis\":\"y\",\"type\":\"scatter\"}],                        {\"template\":{\"data\":{\"histogram2dcontour\":[{\"type\":\"histogram2dcontour\",\"colorbar\":{\"outlinewidth\":0,\"ticks\":\"\"},\"colorscale\":[[0.0,\"#0d0887\"],[0.1111111111111111,\"#46039f\"],[0.2222222222222222,\"#7201a8\"],[0.3333333333333333,\"#9c179e\"],[0.4444444444444444,\"#bd3786\"],[0.5555555555555556,\"#d8576b\"],[0.6666666666666666,\"#ed7953\"],[0.7777777777777778,\"#fb9f3a\"],[0.8888888888888888,\"#fdca26\"],[1.0,\"#f0f921\"]]}],\"choropleth\":[{\"type\":\"choropleth\",\"colorbar\":{\"outlinewidth\":0,\"ticks\":\"\"}}],\"histogram2d\":[{\"type\":\"histogram2d\",\"colorbar\":{\"outlinewidth\":0,\"ticks\":\"\"},\"colorscale\":[[0.0,\"#0d0887\"],[0.1111111111111111,\"#46039f\"],[0.2222222222222222,\"#7201a8\"],[0.3333333333333333,\"#9c179e\"],[0.4444444444444444,\"#bd3786\"],[0.5555555555555556,\"#d8576b\"],[0.6666666666666666,\"#ed7953\"],[0.7777777777777778,\"#fb9f3a\"],[0.8888888888888888,\"#fdca26\"],[1.0,\"#f0f921\"]]}],\"heatmap\":[{\"type\":\"heatmap\",\"colorbar\":{\"outlinewidth\":0,\"ticks\":\"\"},\"colorscale\":[[0.0,\"#0d0887\"],[0.1111111111111111,\"#46039f\"],[0.2222222222222222,\"#7201a8\"],[0.3333333333333333,\"#9c179e\"],[0.4444444444444444,\"#bd3786\"],[0.5555555555555556,\"#d8576b\"],[0.6666666666666666,\"#ed7953\"],[0.7777777777777778,\"#fb9f3a\"],[0.8888888888888888,\"#fdca26\"],[1.0,\"#f0f921\"]]}],\"heatmapgl\":[{\"type\":\"heatmapgl\",\"colorbar\":{\"outlinewidth\":0,\"ticks\":\"\"},\"colorscale\":[[0.0,\"#0d0887\"],[0.1111111111111111,\"#46039f\"],[0.2222222222222222,\"#7201a8\"],[0.3333333333333333,\"#9c179e\"],[0.4444444444444444,\"#bd3786\"],[0.5555555555555556,\"#d8576b\"],[0.6666666666666666,\"#ed7953\"],[0.7777777777777778,\"#fb9f3a\"],[0.8888888888888888,\"#fdca26\"],[1.0,\"#f0f921\"]]}],\"contourcarpet\":[{\"type\":\"contourcarpet\",\"colorbar\":{\"outlinewidth\":0,\"ticks\":\"\"}}],\"contour\":[{\"type\":\"contour\",\"colorbar\":{\"outlinewidth\":0,\"ticks\":\"\"},\"colorscale\":[[0.0,\"#0d0887\"],[0.1111111111111111,\"#46039f\"],[0.2222222222222222,\"#7201a8\"],[0.3333333333333333,\"#9c179e\"],[0.4444444444444444,\"#bd3786\"],[0.5555555555555556,\"#d8576b\"],[0.6666666666666666,\"#ed7953\"],[0.7777777777777778,\"#fb9f3a\"],[0.8888888888888888,\"#fdca26\"],[1.0,\"#f0f921\"]]}],\"surface\":[{\"type\":\"surface\",\"colorbar\":{\"outlinewidth\":0,\"ticks\":\"\"},\"colorscale\":[[0.0,\"#0d0887\"],[0.1111111111111111,\"#46039f\"],[0.2222222222222222,\"#7201a8\"],[0.3333333333333333,\"#9c179e\"],[0.4444444444444444,\"#bd3786\"],[0.5555555555555556,\"#d8576b\"],[0.6666666666666666,\"#ed7953\"],[0.7777777777777778,\"#fb9f3a\"],[0.8888888888888888,\"#fdca26\"],[1.0,\"#f0f921\"]]}],\"mesh3d\":[{\"type\":\"mesh3d\",\"colorbar\":{\"outlinewidth\":0,\"ticks\":\"\"}}],\"scatter\":[{\"fillpattern\":{\"fillmode\":\"overlay\",\"size\":10,\"solidity\":0.2},\"type\":\"scatter\"}],\"parcoords\":[{\"type\":\"parcoords\",\"line\":{\"colorbar\":{\"outlinewidth\":0,\"ticks\":\"\"}}}],\"scatterpolargl\":[{\"type\":\"scatterpolargl\",\"marker\":{\"colorbar\":{\"outlinewidth\":0,\"ticks\":\"\"}}}],\"bar\":[{\"error_x\":{\"color\":\"#2a3f5f\"},\"error_y\":{\"color\":\"#2a3f5f\"},\"marker\":{\"line\":{\"color\":\"#E5ECF6\",\"width\":0.5},\"pattern\":{\"fillmode\":\"overlay\",\"size\":10,\"solidity\":0.2}},\"type\":\"bar\"}],\"scattergeo\":[{\"type\":\"scattergeo\",\"marker\":{\"colorbar\":{\"outlinewidth\":0,\"ticks\":\"\"}}}],\"scatterpolar\":[{\"type\":\"scatterpolar\",\"marker\":{\"colorbar\":{\"outlinewidth\":0,\"ticks\":\"\"}}}],\"histogram\":[{\"marker\":{\"pattern\":{\"fillmode\":\"overlay\",\"size\":10,\"solidity\":0.2}},\"type\":\"histogram\"}],\"scattergl\":[{\"type\":\"scattergl\",\"marker\":{\"colorbar\":{\"outlinewidth\":0,\"ticks\":\"\"}}}],\"scatter3d\":[{\"type\":\"scatter3d\",\"line\":{\"colorbar\":{\"outlinewidth\":0,\"ticks\":\"\"}},\"marker\":{\"colorbar\":{\"outlinewidth\":0,\"ticks\":\"\"}}}],\"scattermapbox\":[{\"type\":\"scattermapbox\",\"marker\":{\"colorbar\":{\"outlinewidth\":0,\"ticks\":\"\"}}}],\"scatterternary\":[{\"type\":\"scatterternary\",\"marker\":{\"colorbar\":{\"outlinewidth\":0,\"ticks\":\"\"}}}],\"scattercarpet\":[{\"type\":\"scattercarpet\",\"marker\":{\"colorbar\":{\"outlinewidth\":0,\"ticks\":\"\"}}}],\"carpet\":[{\"aaxis\":{\"endlinecolor\":\"#2a3f5f\",\"gridcolor\":\"white\",\"linecolor\":\"white\",\"minorgridcolor\":\"white\",\"startlinecolor\":\"#2a3f5f\"},\"baxis\":{\"endlinecolor\":\"#2a3f5f\",\"gridcolor\":\"white\",\"linecolor\":\"white\",\"minorgridcolor\":\"white\",\"startlinecolor\":\"#2a3f5f\"},\"type\":\"carpet\"}],\"table\":[{\"cells\":{\"fill\":{\"color\":\"#EBF0F8\"},\"line\":{\"color\":\"white\"}},\"header\":{\"fill\":{\"color\":\"#C8D4E3\"},\"line\":{\"color\":\"white\"}},\"type\":\"table\"}],\"barpolar\":[{\"marker\":{\"line\":{\"color\":\"#E5ECF6\",\"width\":0.5},\"pattern\":{\"fillmode\":\"overlay\",\"size\":10,\"solidity\":0.2}},\"type\":\"barpolar\"}],\"pie\":[{\"automargin\":true,\"type\":\"pie\"}]},\"layout\":{\"autotypenumbers\":\"strict\",\"colorway\":[\"#636efa\",\"#EF553B\",\"#00cc96\",\"#ab63fa\",\"#FFA15A\",\"#19d3f3\",\"#FF6692\",\"#B6E880\",\"#FF97FF\",\"#FECB52\"],\"font\":{\"color\":\"#2a3f5f\"},\"hovermode\":\"closest\",\"hoverlabel\":{\"align\":\"left\"},\"paper_bgcolor\":\"white\",\"plot_bgcolor\":\"#E5ECF6\",\"polar\":{\"bgcolor\":\"#E5ECF6\",\"angularaxis\":{\"gridcolor\":\"white\",\"linecolor\":\"white\",\"ticks\":\"\"},\"radialaxis\":{\"gridcolor\":\"white\",\"linecolor\":\"white\",\"ticks\":\"\"}},\"ternary\":{\"bgcolor\":\"#E5ECF6\",\"aaxis\":{\"gridcolor\":\"white\",\"linecolor\":\"white\",\"ticks\":\"\"},\"baxis\":{\"gridcolor\":\"white\",\"linecolor\":\"white\",\"ticks\":\"\"},\"caxis\":{\"gridcolor\":\"white\",\"linecolor\":\"white\",\"ticks\":\"\"}},\"coloraxis\":{\"colorbar\":{\"outlinewidth\":0,\"ticks\":\"\"}},\"colorscale\":{\"sequential\":[[0.0,\"#0d0887\"],[0.1111111111111111,\"#46039f\"],[0.2222222222222222,\"#7201a8\"],[0.3333333333333333,\"#9c179e\"],[0.4444444444444444,\"#bd3786\"],[0.5555555555555556,\"#d8576b\"],[0.6666666666666666,\"#ed7953\"],[0.7777777777777778,\"#fb9f3a\"],[0.8888888888888888,\"#fdca26\"],[1.0,\"#f0f921\"]],\"sequentialminus\":[[0.0,\"#0d0887\"],[0.1111111111111111,\"#46039f\"],[0.2222222222222222,\"#7201a8\"],[0.3333333333333333,\"#9c179e\"],[0.4444444444444444,\"#bd3786\"],[0.5555555555555556,\"#d8576b\"],[0.6666666666666666,\"#ed7953\"],[0.7777777777777778,\"#fb9f3a\"],[0.8888888888888888,\"#fdca26\"],[1.0,\"#f0f921\"]],\"diverging\":[[0,\"#8e0152\"],[0.1,\"#c51b7d\"],[0.2,\"#de77ae\"],[0.3,\"#f1b6da\"],[0.4,\"#fde0ef\"],[0.5,\"#f7f7f7\"],[0.6,\"#e6f5d0\"],[0.7,\"#b8e186\"],[0.8,\"#7fbc41\"],[0.9,\"#4d9221\"],[1,\"#276419\"]]},\"xaxis\":{\"gridcolor\":\"white\",\"linecolor\":\"white\",\"ticks\":\"\",\"title\":{\"standoff\":15},\"zerolinecolor\":\"white\",\"automargin\":true,\"zerolinewidth\":2},\"yaxis\":{\"gridcolor\":\"white\",\"linecolor\":\"white\",\"ticks\":\"\",\"title\":{\"standoff\":15},\"zerolinecolor\":\"white\",\"automargin\":true,\"zerolinewidth\":2},\"scene\":{\"xaxis\":{\"backgroundcolor\":\"#E5ECF6\",\"gridcolor\":\"white\",\"linecolor\":\"white\",\"showbackground\":true,\"ticks\":\"\",\"zerolinecolor\":\"white\",\"gridwidth\":2},\"yaxis\":{\"backgroundcolor\":\"#E5ECF6\",\"gridcolor\":\"white\",\"linecolor\":\"white\",\"showbackground\":true,\"ticks\":\"\",\"zerolinecolor\":\"white\",\"gridwidth\":2},\"zaxis\":{\"backgroundcolor\":\"#E5ECF6\",\"gridcolor\":\"white\",\"linecolor\":\"white\",\"showbackground\":true,\"ticks\":\"\",\"zerolinecolor\":\"white\",\"gridwidth\":2}},\"shapedefaults\":{\"line\":{\"color\":\"#2a3f5f\"}},\"annotationdefaults\":{\"arrowcolor\":\"#2a3f5f\",\"arrowhead\":0,\"arrowwidth\":1},\"geo\":{\"bgcolor\":\"white\",\"landcolor\":\"#E5ECF6\",\"subunitcolor\":\"white\",\"showland\":true,\"showlakes\":true,\"lakecolor\":\"white\"},\"title\":{\"x\":0.05},\"mapbox\":{\"style\":\"light\"}}},\"xaxis\":{\"anchor\":\"y\",\"domain\":[0.0,1.0],\"title\":{\"text\":\"Year\"},\"tickmode\":\"linear\",\"dtick\":1},\"yaxis\":{\"anchor\":\"x\",\"domain\":[0.0,1.0],\"title\":{\"text\":\"Rate\"}},\"legend\":{\"title\":{\"text\":\"WebframeWantToWorkWith\"},\"tracegroupgap\":0},\"title\":{\"text\":\"Yearly Trend for desired Web Framework\"}},                        {\"responsive\": true}                    ).then(function(){\n",
       "                            \n",
       "var gd = document.getElementById('eea1496e-46e5-4110-88fd-ff437b51ccb9');\n",
       "var x = new MutationObserver(function (mutations, observer) {{\n",
       "        var display = window.getComputedStyle(gd).display;\n",
       "        if (!display || display === 'none') {{\n",
       "            console.log([gd, 'removed!']);\n",
       "            Plotly.purge(gd);\n",
       "            observer.disconnect();\n",
       "        }}\n",
       "}});\n",
       "\n",
       "// Listen for the removal of the full notebook cells\n",
       "var notebookContainer = gd.closest('#notebook-container');\n",
       "if (notebookContainer) {{\n",
       "    x.observe(notebookContainer, {childList: true});\n",
       "}}\n",
       "\n",
       "// Listen for the clearing of the current output cell\n",
       "var outputEl = gd.closest('.output');\n",
       "if (outputEl) {{\n",
       "    x.observe(outputEl, {childList: true});\n",
       "}}\n",
       "\n",
       "                        })                };                });            </script>        </div>"
      ]
     },
     "metadata": {},
     "output_type": "display_data"
    }
   ],
   "source": [
    "plot_line_chart(desired_percentage, 'Yearly Trend for desired Web Framework')"
   ]
  },
  {
   "cell_type": "markdown",
   "id": "966db112",
   "metadata": {},
   "source": [
    "#### Evaluation for Q1\n",
    "\n",
    "It is shown that all the major front end frameworks like jQuery, React, Angular and Vue have seen a slight decrease of learning rate, it could means that hype of SPA era may have passed, or it may imply that these frameworks' adoption rate have already been quite high, so there is not much room for increase.\n",
    "\n",
    "The new shinning stars in this apartment are Svelte, FastAPI, Next.js and Nuxt.js. These are all relatively new web frameworks, it seems that the developers are willing to invest more time to learn these new technologies."
   ]
  },
  {
   "cell_type": "markdown",
   "id": "a965aab5",
   "metadata": {},
   "source": [
    "##### 2. Similarly, I want to know over a 5 years span which programming language is the most desired one for the developers to work with.\n"
   ]
  },
  {
   "cell_type": "code",
   "execution_count": 118,
   "id": "ae863b27",
   "metadata": {},
   "outputs": [],
   "source": [
    "# there are missing values in WebframeHaveWorkedWith column after grouping, i want to remove these missing rows\n",
    "desired_lan = df[['LanguageWantToWorkWith', 'year']]\n",
    "desired_lan = desired_lan.dropna(subset=['LanguageWantToWorkWith'])"
   ]
  },
  {
   "cell_type": "code",
   "execution_count": 119,
   "id": "f06a4d64",
   "metadata": {},
   "outputs": [],
   "source": [
    "# split the values in the column by semicolons, resulting in a column of lists. Then, use df.explode('WebframeHaveWorkedWith') \n",
    "# to explode the lists into separate rows, duplicating the other columns as necessary.\n",
    "desired_lan['LanguageWantToWorkWith'] = desired_lan['LanguageWantToWorkWith'].str.split(';')\n",
    "desired_lan = desired_lan.explode('LanguageWantToWorkWith')"
   ]
  },
  {
   "cell_type": "code",
   "execution_count": 120,
   "id": "2453efee",
   "metadata": {},
   "outputs": [
    {
     "data": {
      "text/plain": [
       "array(['JavaScript', 'Python', 'HTML', 'CSS', 'Go', 'C#', 'SQL',\n",
       "       'TypeScript', 'Bash/Shell', 'Assembly', 'C', 'C++', 'Matlab',\n",
       "       'Java', 'Kotlin', 'Erlang', 'Rust', 'F#', 'Haskell', 'Ocaml', 'R',\n",
       "       'Swift', 'PHP', 'Scala', 'Ruby', 'Clojure', 'CoffeeScript', 'Perl',\n",
       "       'Delphi/Object Pascal', 'Groovy', 'Hack', 'VB.NET', 'Julia',\n",
       "       'Objective-C', 'VBA', 'Lua', 'Visual Basic 6', 'Cobol', 'HTML/CSS',\n",
       "       'Elixir', 'WebAssembly', 'Bash/Shell/PowerShell', 'Other(s):',\n",
       "       'Dart', 'Node.js', 'APL', 'PowerShell', 'LISP', 'Crystal',\n",
       "       'Delphi', 'COBOL', 'Solidity', 'SAS', 'OCaml', 'MATLAB', 'Fortran'],\n",
       "      dtype=object)"
      ]
     },
     "execution_count": 120,
     "metadata": {},
     "output_type": "execute_result"
    }
   ],
   "source": [
    "desired_lan['LanguageWantToWorkWith'].unique()"
   ]
  },
  {
   "cell_type": "code",
   "execution_count": 121,
   "id": "9f053949",
   "metadata": {},
   "outputs": [],
   "source": [
    "desired_counts = desired_lan['LanguageWantToWorkWith'].value_counts()"
   ]
  },
  {
   "cell_type": "code",
   "execution_count": 122,
   "id": "5aaea001",
   "metadata": {},
   "outputs": [
    {
     "data": {
      "text/plain": [
       "LanguageWantToWorkWith\n",
       "JavaScript    177951\n",
       "Python        163762\n",
       "SQL           132982\n",
       "HTML/CSS      112192\n",
       "TypeScript    110721\n",
       "C#             90222\n",
       "Java           89895\n",
       "Go             76482\n",
       "C++            69046\n",
       "Rust           61895\n",
       "Kotlin         54835\n",
       "PHP            48364\n",
       "Bash/Shell     48036\n",
       "C              45108\n",
       "Swift          35575\n",
       "Name: count, dtype: int64"
      ]
     },
     "execution_count": 122,
     "metadata": {},
     "output_type": "execute_result"
    }
   ],
   "source": [
    "desired_counts.head(15)"
   ]
  },
  {
   "cell_type": "code",
   "execution_count": 123,
   "id": "e1bbd534",
   "metadata": {},
   "outputs": [],
   "source": [
    "desired_counts = desired_lan.groupby(['year', 'LanguageWantToWorkWith']).value_counts()"
   ]
  },
  {
   "cell_type": "code",
   "execution_count": 124,
   "id": "9595eaf5",
   "metadata": {},
   "outputs": [],
   "source": [
    "# Reshape the result for plotting\n",
    "desired_counts = desired_counts.unstack(fill_value=0)"
   ]
  },
  {
   "cell_type": "code",
   "execution_count": 125,
   "id": "4eef3bc6",
   "metadata": {},
   "outputs": [
    {
     "data": {
      "text/plain": [
       "[386244, 398054, 238284, 364063, 305973]"
      ]
     },
     "execution_count": 125,
     "metadata": {},
     "output_type": "execute_result"
    }
   ],
   "source": [
    "# Calculate the sum of all rows\n",
    "sum_all_cols = desired_counts.sum(axis=1).tolist()\n",
    "\n",
    "sum_all_cols"
   ]
  },
  {
   "cell_type": "code",
   "execution_count": 126,
   "id": "d75f11dc",
   "metadata": {},
   "outputs": [],
   "source": [
    "desired_counts = desired_counts[['JavaScript', 'Python', 'SQL', 'TypeScript', 'C#', 'Java', 'Go', 'C++', 'Rust', 'Kotlin', 'PHP', 'Swift']]"
   ]
  },
  {
   "cell_type": "code",
   "execution_count": 127,
   "id": "d167e6f9",
   "metadata": {},
   "outputs": [
    {
     "data": {
      "text/html": [
       "<div>\n",
       "<style scoped>\n",
       "    .dataframe tbody tr th:only-of-type {\n",
       "        vertical-align: middle;\n",
       "    }\n",
       "\n",
       "    .dataframe tbody tr th {\n",
       "        vertical-align: top;\n",
       "    }\n",
       "\n",
       "    .dataframe thead th {\n",
       "        text-align: right;\n",
       "    }\n",
       "</style>\n",
       "<table border=\"1\" class=\"dataframe\">\n",
       "  <thead>\n",
       "    <tr style=\"text-align: right;\">\n",
       "      <th>LanguageWantToWorkWith</th>\n",
       "      <th>JavaScript</th>\n",
       "      <th>Python</th>\n",
       "      <th>SQL</th>\n",
       "      <th>TypeScript</th>\n",
       "      <th>C#</th>\n",
       "      <th>Java</th>\n",
       "      <th>Go</th>\n",
       "      <th>C++</th>\n",
       "      <th>Rust</th>\n",
       "      <th>Kotlin</th>\n",
       "      <th>PHP</th>\n",
       "      <th>Swift</th>\n",
       "    </tr>\n",
       "    <tr>\n",
       "      <th>year</th>\n",
       "      <th></th>\n",
       "      <th></th>\n",
       "      <th></th>\n",
       "      <th></th>\n",
       "      <th></th>\n",
       "      <th></th>\n",
       "      <th></th>\n",
       "      <th></th>\n",
       "      <th></th>\n",
       "      <th></th>\n",
       "      <th></th>\n",
       "      <th></th>\n",
       "    </tr>\n",
       "  </thead>\n",
       "  <tbody>\n",
       "    <tr>\n",
       "      <th>2018</th>\n",
       "      <td>38465</td>\n",
       "      <td>32795</td>\n",
       "      <td>28011</td>\n",
       "      <td>16896</td>\n",
       "      <td>20419</td>\n",
       "      <td>22556</td>\n",
       "      <td>15529</td>\n",
       "      <td>15289</td>\n",
       "      <td>7857</td>\n",
       "      <td>11992</td>\n",
       "      <td>12244</td>\n",
       "      <td>9708</td>\n",
       "    </tr>\n",
       "    <tr>\n",
       "      <th>2019</th>\n",
       "      <td>44739</td>\n",
       "      <td>40006</td>\n",
       "      <td>33566</td>\n",
       "      <td>23720</td>\n",
       "      <td>22449</td>\n",
       "      <td>23508</td>\n",
       "      <td>17060</td>\n",
       "      <td>16856</td>\n",
       "      <td>10497</td>\n",
       "      <td>13261</td>\n",
       "      <td>12837</td>\n",
       "      <td>8800</td>\n",
       "    </tr>\n",
       "    <tr>\n",
       "      <th>2020</th>\n",
       "      <td>26188</td>\n",
       "      <td>26682</td>\n",
       "      <td>19970</td>\n",
       "      <td>17150</td>\n",
       "      <td>13674</td>\n",
       "      <td>13264</td>\n",
       "      <td>12605</td>\n",
       "      <td>9756</td>\n",
       "      <td>10563</td>\n",
       "      <td>9575</td>\n",
       "      <td>7106</td>\n",
       "      <td>5643</td>\n",
       "    </tr>\n",
       "    <tr>\n",
       "      <th>2021</th>\n",
       "      <td>37008</td>\n",
       "      <td>34929</td>\n",
       "      <td>26631</td>\n",
       "      <td>26905</td>\n",
       "      <td>17999</td>\n",
       "      <td>17222</td>\n",
       "      <td>15788</td>\n",
       "      <td>15249</td>\n",
       "      <td>15865</td>\n",
       "      <td>10691</td>\n",
       "      <td>8852</td>\n",
       "      <td>6353</td>\n",
       "    </tr>\n",
       "    <tr>\n",
       "      <th>2022</th>\n",
       "      <td>31551</td>\n",
       "      <td>29350</td>\n",
       "      <td>24804</td>\n",
       "      <td>26050</td>\n",
       "      <td>15681</td>\n",
       "      <td>13345</td>\n",
       "      <td>15500</td>\n",
       "      <td>11896</td>\n",
       "      <td>17113</td>\n",
       "      <td>9316</td>\n",
       "      <td>7325</td>\n",
       "      <td>5071</td>\n",
       "    </tr>\n",
       "  </tbody>\n",
       "</table>\n",
       "</div>"
      ],
      "text/plain": [
       "LanguageWantToWorkWith  JavaScript  Python    SQL  TypeScript     C#   Java  \\\n",
       "year                                                                          \n",
       "2018                         38465   32795  28011       16896  20419  22556   \n",
       "2019                         44739   40006  33566       23720  22449  23508   \n",
       "2020                         26188   26682  19970       17150  13674  13264   \n",
       "2021                         37008   34929  26631       26905  17999  17222   \n",
       "2022                         31551   29350  24804       26050  15681  13345   \n",
       "\n",
       "LanguageWantToWorkWith     Go    C++   Rust  Kotlin    PHP  Swift  \n",
       "year                                                               \n",
       "2018                    15529  15289   7857   11992  12244   9708  \n",
       "2019                    17060  16856  10497   13261  12837   8800  \n",
       "2020                    12605   9756  10563    9575   7106   5643  \n",
       "2021                    15788  15249  15865   10691   8852   6353  \n",
       "2022                    15500  11896  17113    9316   7325   5071  "
      ]
     },
     "execution_count": 127,
     "metadata": {},
     "output_type": "execute_result"
    }
   ],
   "source": [
    "desired_counts"
   ]
  },
  {
   "cell_type": "code",
   "execution_count": 128,
   "id": "075a9f11",
   "metadata": {},
   "outputs": [],
   "source": [
    "# next i will devide the count by the total number to get the percentage\n",
    "# Divide each row by the corresponding divisor\n",
    "desired_counts.reset_index(inplace=True, drop=True)\n",
    "desired_percentage = desired_counts.apply(lambda row: row / sum_all_cols[row.name], axis=1)\n",
    "desired_percentage['year'] = [2018, 2019, 2020, 2021, 2022]\n",
    "\n",
    "# Set column 'year' as the index\n",
    "desired_percentage = desired_percentage.set_index('year')"
   ]
  },
  {
   "cell_type": "code",
   "execution_count": 129,
   "id": "376a4691",
   "metadata": {},
   "outputs": [
    {
     "data": {
      "text/html": [
       "<div>\n",
       "<style scoped>\n",
       "    .dataframe tbody tr th:only-of-type {\n",
       "        vertical-align: middle;\n",
       "    }\n",
       "\n",
       "    .dataframe tbody tr th {\n",
       "        vertical-align: top;\n",
       "    }\n",
       "\n",
       "    .dataframe thead th {\n",
       "        text-align: right;\n",
       "    }\n",
       "</style>\n",
       "<table border=\"1\" class=\"dataframe\">\n",
       "  <thead>\n",
       "    <tr style=\"text-align: right;\">\n",
       "      <th>LanguageWantToWorkWith</th>\n",
       "      <th>JavaScript</th>\n",
       "      <th>Python</th>\n",
       "      <th>SQL</th>\n",
       "      <th>TypeScript</th>\n",
       "      <th>C#</th>\n",
       "      <th>Java</th>\n",
       "      <th>Go</th>\n",
       "      <th>C++</th>\n",
       "      <th>Rust</th>\n",
       "      <th>Kotlin</th>\n",
       "      <th>PHP</th>\n",
       "      <th>Swift</th>\n",
       "    </tr>\n",
       "    <tr>\n",
       "      <th>year</th>\n",
       "      <th></th>\n",
       "      <th></th>\n",
       "      <th></th>\n",
       "      <th></th>\n",
       "      <th></th>\n",
       "      <th></th>\n",
       "      <th></th>\n",
       "      <th></th>\n",
       "      <th></th>\n",
       "      <th></th>\n",
       "      <th></th>\n",
       "      <th></th>\n",
       "    </tr>\n",
       "  </thead>\n",
       "  <tbody>\n",
       "    <tr>\n",
       "      <th>2018</th>\n",
       "      <td>9.96%</td>\n",
       "      <td>8.49%</td>\n",
       "      <td>7.25%</td>\n",
       "      <td>4.37%</td>\n",
       "      <td>5.29%</td>\n",
       "      <td>5.84%</td>\n",
       "      <td>4.02%</td>\n",
       "      <td>3.96%</td>\n",
       "      <td>2.03%</td>\n",
       "      <td>3.10%</td>\n",
       "      <td>3.17%</td>\n",
       "      <td>2.51%</td>\n",
       "    </tr>\n",
       "    <tr>\n",
       "      <th>2019</th>\n",
       "      <td>11.24%</td>\n",
       "      <td>10.05%</td>\n",
       "      <td>8.43%</td>\n",
       "      <td>5.96%</td>\n",
       "      <td>5.64%</td>\n",
       "      <td>5.91%</td>\n",
       "      <td>4.29%</td>\n",
       "      <td>4.23%</td>\n",
       "      <td>2.64%</td>\n",
       "      <td>3.33%</td>\n",
       "      <td>3.22%</td>\n",
       "      <td>2.21%</td>\n",
       "    </tr>\n",
       "    <tr>\n",
       "      <th>2020</th>\n",
       "      <td>10.99%</td>\n",
       "      <td>11.20%</td>\n",
       "      <td>8.38%</td>\n",
       "      <td>7.20%</td>\n",
       "      <td>5.74%</td>\n",
       "      <td>5.57%</td>\n",
       "      <td>5.29%</td>\n",
       "      <td>4.09%</td>\n",
       "      <td>4.43%</td>\n",
       "      <td>4.02%</td>\n",
       "      <td>2.98%</td>\n",
       "      <td>2.37%</td>\n",
       "    </tr>\n",
       "    <tr>\n",
       "      <th>2021</th>\n",
       "      <td>10.17%</td>\n",
       "      <td>9.59%</td>\n",
       "      <td>7.31%</td>\n",
       "      <td>7.39%</td>\n",
       "      <td>4.94%</td>\n",
       "      <td>4.73%</td>\n",
       "      <td>4.34%</td>\n",
       "      <td>4.19%</td>\n",
       "      <td>4.36%</td>\n",
       "      <td>2.94%</td>\n",
       "      <td>2.43%</td>\n",
       "      <td>1.75%</td>\n",
       "    </tr>\n",
       "    <tr>\n",
       "      <th>2022</th>\n",
       "      <td>10.31%</td>\n",
       "      <td>9.59%</td>\n",
       "      <td>8.11%</td>\n",
       "      <td>8.51%</td>\n",
       "      <td>5.12%</td>\n",
       "      <td>4.36%</td>\n",
       "      <td>5.07%</td>\n",
       "      <td>3.89%</td>\n",
       "      <td>5.59%</td>\n",
       "      <td>3.04%</td>\n",
       "      <td>2.39%</td>\n",
       "      <td>1.66%</td>\n",
       "    </tr>\n",
       "  </tbody>\n",
       "</table>\n",
       "</div>"
      ],
      "text/plain": [
       "LanguageWantToWorkWith JavaScript  Python    SQL TypeScript     C#   Java  \\\n",
       "year                                                                        \n",
       "2018                        9.96%   8.49%  7.25%      4.37%  5.29%  5.84%   \n",
       "2019                       11.24%  10.05%  8.43%      5.96%  5.64%  5.91%   \n",
       "2020                       10.99%  11.20%  8.38%      7.20%  5.74%  5.57%   \n",
       "2021                       10.17%   9.59%  7.31%      7.39%  4.94%  4.73%   \n",
       "2022                       10.31%   9.59%  8.11%      8.51%  5.12%  4.36%   \n",
       "\n",
       "LanguageWantToWorkWith     Go    C++   Rust Kotlin    PHP  Swift  \n",
       "year                                                              \n",
       "2018                    4.02%  3.96%  2.03%  3.10%  3.17%  2.51%  \n",
       "2019                    4.29%  4.23%  2.64%  3.33%  3.22%  2.21%  \n",
       "2020                    5.29%  4.09%  4.43%  4.02%  2.98%  2.37%  \n",
       "2021                    4.34%  4.19%  4.36%  2.94%  2.43%  1.75%  \n",
       "2022                    5.07%  3.89%  5.59%  3.04%  2.39%  1.66%  "
      ]
     },
     "execution_count": 129,
     "metadata": {},
     "output_type": "execute_result"
    }
   ],
   "source": [
    "# Format numeric columns as percentages\n",
    "desired_percentage_format = convert_df_to_percentage(desired_percentage)\n",
    "desired_percentage_format"
   ]
  },
  {
   "cell_type": "code",
   "execution_count": 102,
   "id": "c47a0d24",
   "metadata": {},
   "outputs": [
    {
     "data": {
      "application/vnd.plotly.v1+json": {
       "config": {
        "plotlyServerURL": "https://plot.ly"
       },
       "data": [
        {
         "hovertemplate": "LanguageWantToWorkWith=JavaScript<br>year=%{x}<br>value=%{y}<extra></extra>",
         "legendgroup": "JavaScript",
         "line": {
          "color": "#636efa",
          "dash": "solid"
         },
         "marker": {
          "symbol": "circle"
         },
         "mode": "lines",
         "name": "JavaScript",
         "orientation": "v",
         "showlegend": true,
         "type": "scatter",
         "x": [
          2018,
          2019,
          2020,
          2021,
          2022
         ],
         "xaxis": "x",
         "y": [
          0.0995873075051004,
          0.11239429826103996,
          0.10990246932232127,
          0.10165273592757297,
          0.10311694169093351
         ],
         "yaxis": "y"
        },
        {
         "hovertemplate": "LanguageWantToWorkWith=Python<br>year=%{x}<br>value=%{y}<extra></extra>",
         "legendgroup": "Python",
         "line": {
          "color": "#EF553B",
          "dash": "solid"
         },
         "marker": {
          "symbol": "circle"
         },
         "mode": "lines",
         "name": "Python",
         "orientation": "v",
         "showlegend": true,
         "type": "scatter",
         "x": [
          2018,
          2019,
          2020,
          2021,
          2022
         ],
         "xaxis": "x",
         "y": [
          0.08490746781827031,
          0.10050395172514281,
          0.11197562572392607,
          0.0959421858304744,
          0.09592349651766659
         ],
         "yaxis": "y"
        },
        {
         "hovertemplate": "LanguageWantToWorkWith=SQL<br>year=%{x}<br>value=%{y}<extra></extra>",
         "legendgroup": "SQL",
         "line": {
          "color": "#00cc96",
          "dash": "solid"
         },
         "marker": {
          "symbol": "circle"
         },
         "mode": "lines",
         "name": "SQL",
         "orientation": "v",
         "showlegend": true,
         "type": "scatter",
         "x": [
          2018,
          2019,
          2020,
          2021,
          2022
         ],
         "xaxis": "x",
         "y": [
          0.0725215148973188,
          0.08432524230380803,
          0.08380755736851823,
          0.07314942743426275,
          0.0810659764096832
         ],
         "yaxis": "y"
        },
        {
         "hovertemplate": "LanguageWantToWorkWith=TypeScript<br>year=%{x}<br>value=%{y}<extra></extra>",
         "legendgroup": "TypeScript",
         "line": {
          "color": "#ab63fa",
          "dash": "solid"
         },
         "marker": {
          "symbol": "circle"
         },
         "mode": "lines",
         "name": "TypeScript",
         "orientation": "v",
         "showlegend": true,
         "type": "scatter",
         "x": [
          2018,
          2019,
          2020,
          2021,
          2022
         ],
         "xaxis": "x",
         "y": [
          0.04374436884456458,
          0.0595899048872766,
          0.07197293985328432,
          0.07390204442637675,
          0.08513823115111464
         ],
         "yaxis": "y"
        },
        {
         "hovertemplate": "LanguageWantToWorkWith=C#<br>year=%{x}<br>value=%{y}<extra></extra>",
         "legendgroup": "C#",
         "line": {
          "color": "#FFA15A",
          "dash": "solid"
         },
         "marker": {
          "symbol": "circle"
         },
         "mode": "lines",
         "name": "C#",
         "orientation": "v",
         "showlegend": true,
         "type": "scatter",
         "x": [
          2018,
          2019,
          2020,
          2021,
          2022
         ],
         "xaxis": "x",
         "y": [
          0.05286554613146094,
          0.05639687077632683,
          0.0573853049302513,
          0.0494392454053282,
          0.0512496200645155
         ],
         "yaxis": "y"
        },
        {
         "hovertemplate": "LanguageWantToWorkWith=Java<br>year=%{x}<br>value=%{y}<extra></extra>",
         "legendgroup": "Java",
         "line": {
          "color": "#19d3f3",
          "dash": "solid"
         },
         "marker": {
          "symbol": "circle"
         },
         "mode": "lines",
         "name": "Java",
         "orientation": "v",
         "showlegend": true,
         "type": "scatter",
         "x": [
          2018,
          2019,
          2020,
          2021,
          2022
         ],
         "xaxis": "x",
         "y": [
          0.05839831816157662,
          0.059057313831791663,
          0.05566466905037686,
          0.04730499940944287,
          0.04361495948988963
         ],
         "yaxis": "y"
        },
        {
         "hovertemplate": "LanguageWantToWorkWith=Go<br>year=%{x}<br>value=%{y}<extra></extra>",
         "legendgroup": "Go",
         "line": {
          "color": "#FF6692",
          "dash": "solid"
         },
         "marker": {
          "symbol": "circle"
         },
         "mode": "lines",
         "name": "Go",
         "orientation": "v",
         "showlegend": true,
         "type": "scatter",
         "x": [
          2018,
          2019,
          2020,
          2021,
          2022
         ],
         "xaxis": "x",
         "y": [
          0.040205155290438166,
          0.04285850663477819,
          0.05289906162394454,
          0.04336612069889003,
          0.050658064600471286
         ],
         "yaxis": "y"
        },
        {
         "hovertemplate": "LanguageWantToWorkWith=C++<br>year=%{x}<br>value=%{y}<extra></extra>",
         "legendgroup": "C++",
         "line": {
          "color": "#B6E880",
          "dash": "solid"
         },
         "marker": {
          "symbol": "circle"
         },
         "mode": "lines",
         "name": "C++",
         "orientation": "v",
         "showlegend": true,
         "type": "scatter",
         "x": [
          2018,
          2019,
          2020,
          2021,
          2022
         ],
         "xaxis": "x",
         "y": [
          0.03958378641480515,
          0.042346013354971936,
          0.04094274059525608,
          0.04188560771075336,
          0.03887924751530364
         ],
         "yaxis": "y"
        },
        {
         "hovertemplate": "LanguageWantToWorkWith=Rust<br>year=%{x}<br>value=%{y}<extra></extra>",
         "legendgroup": "Rust",
         "line": {
          "color": "#FF97FF",
          "dash": "solid"
         },
         "marker": {
          "symbol": "circle"
         },
         "mode": "lines",
         "name": "Rust",
         "orientation": "v",
         "showlegend": true,
         "type": "scatter",
         "x": [
          2018,
          2019,
          2020,
          2021,
          2022
         ],
         "xaxis": "x",
         "y": [
          0.020342063566035976,
          0.02637079391238375,
          0.0443294556075943,
          0.04357762255433812,
          0.05592977158115259
         ],
         "yaxis": "y"
        },
        {
         "hovertemplate": "LanguageWantToWorkWith=Kotlin<br>year=%{x}<br>value=%{y}<extra></extra>",
         "legendgroup": "Kotlin",
         "line": {
          "color": "#FECB52",
          "dash": "solid"
         },
         "marker": {
          "symbol": "circle"
         },
         "mode": "lines",
         "name": "Kotlin",
         "orientation": "v",
         "showlegend": true,
         "type": "scatter",
         "x": [
          2018,
          2019,
          2020,
          2021,
          2022
         ],
         "xaxis": "x",
         "y": [
          0.031047731485796544,
          0.03331457540936657,
          0.04018314280438468,
          0.029365796579163498,
          0.030447130955999387
         ],
         "yaxis": "y"
        },
        {
         "hovertemplate": "LanguageWantToWorkWith=PHP<br>year=%{x}<br>value=%{y}<extra></extra>",
         "legendgroup": "PHP",
         "line": {
          "color": "#636efa",
          "dash": "solid"
         },
         "marker": {
          "symbol": "circle"
         },
         "mode": "lines",
         "name": "PHP",
         "orientation": "v",
         "showlegend": true,
         "type": "scatter",
         "x": [
          2018,
          2019,
          2020,
          2021,
          2022
         ],
         "xaxis": "x",
         "y": [
          0.03170016880521121,
          0.0322493932983967,
          0.029821557469238386,
          0.02431447304450054,
          0.023940020851513043
         ],
         "yaxis": "y"
        },
        {
         "hovertemplate": "LanguageWantToWorkWith=Swift<br>year=%{x}<br>value=%{y}<extra></extra>",
         "legendgroup": "Swift",
         "line": {
          "color": "#EF553B",
          "dash": "solid"
         },
         "marker": {
          "symbol": "circle"
         },
         "mode": "lines",
         "name": "Swift",
         "orientation": "v",
         "showlegend": true,
         "type": "scatter",
         "x": [
          2018,
          2019,
          2020,
          2021,
          2022
         ],
         "xaxis": "x",
         "y": [
          0.02513437101935564,
          0.02210755324654444,
          0.023681825049101074,
          0.01745027646313962,
          0.016573357779934832
         ],
         "yaxis": "y"
        }
       ],
       "layout": {
        "legend": {
         "title": {
          "text": "LanguageWantToWorkWith"
         },
         "tracegroupgap": 0
        },
        "template": {
         "data": {
          "bar": [
           {
            "error_x": {
             "color": "#2a3f5f"
            },
            "error_y": {
             "color": "#2a3f5f"
            },
            "marker": {
             "line": {
              "color": "#E5ECF6",
              "width": 0.5
             },
             "pattern": {
              "fillmode": "overlay",
              "size": 10,
              "solidity": 0.2
             }
            },
            "type": "bar"
           }
          ],
          "barpolar": [
           {
            "marker": {
             "line": {
              "color": "#E5ECF6",
              "width": 0.5
             },
             "pattern": {
              "fillmode": "overlay",
              "size": 10,
              "solidity": 0.2
             }
            },
            "type": "barpolar"
           }
          ],
          "carpet": [
           {
            "aaxis": {
             "endlinecolor": "#2a3f5f",
             "gridcolor": "white",
             "linecolor": "white",
             "minorgridcolor": "white",
             "startlinecolor": "#2a3f5f"
            },
            "baxis": {
             "endlinecolor": "#2a3f5f",
             "gridcolor": "white",
             "linecolor": "white",
             "minorgridcolor": "white",
             "startlinecolor": "#2a3f5f"
            },
            "type": "carpet"
           }
          ],
          "choropleth": [
           {
            "colorbar": {
             "outlinewidth": 0,
             "ticks": ""
            },
            "type": "choropleth"
           }
          ],
          "contour": [
           {
            "colorbar": {
             "outlinewidth": 0,
             "ticks": ""
            },
            "colorscale": [
             [
              0,
              "#0d0887"
             ],
             [
              0.1111111111111111,
              "#46039f"
             ],
             [
              0.2222222222222222,
              "#7201a8"
             ],
             [
              0.3333333333333333,
              "#9c179e"
             ],
             [
              0.4444444444444444,
              "#bd3786"
             ],
             [
              0.5555555555555556,
              "#d8576b"
             ],
             [
              0.6666666666666666,
              "#ed7953"
             ],
             [
              0.7777777777777778,
              "#fb9f3a"
             ],
             [
              0.8888888888888888,
              "#fdca26"
             ],
             [
              1,
              "#f0f921"
             ]
            ],
            "type": "contour"
           }
          ],
          "contourcarpet": [
           {
            "colorbar": {
             "outlinewidth": 0,
             "ticks": ""
            },
            "type": "contourcarpet"
           }
          ],
          "heatmap": [
           {
            "colorbar": {
             "outlinewidth": 0,
             "ticks": ""
            },
            "colorscale": [
             [
              0,
              "#0d0887"
             ],
             [
              0.1111111111111111,
              "#46039f"
             ],
             [
              0.2222222222222222,
              "#7201a8"
             ],
             [
              0.3333333333333333,
              "#9c179e"
             ],
             [
              0.4444444444444444,
              "#bd3786"
             ],
             [
              0.5555555555555556,
              "#d8576b"
             ],
             [
              0.6666666666666666,
              "#ed7953"
             ],
             [
              0.7777777777777778,
              "#fb9f3a"
             ],
             [
              0.8888888888888888,
              "#fdca26"
             ],
             [
              1,
              "#f0f921"
             ]
            ],
            "type": "heatmap"
           }
          ],
          "heatmapgl": [
           {
            "colorbar": {
             "outlinewidth": 0,
             "ticks": ""
            },
            "colorscale": [
             [
              0,
              "#0d0887"
             ],
             [
              0.1111111111111111,
              "#46039f"
             ],
             [
              0.2222222222222222,
              "#7201a8"
             ],
             [
              0.3333333333333333,
              "#9c179e"
             ],
             [
              0.4444444444444444,
              "#bd3786"
             ],
             [
              0.5555555555555556,
              "#d8576b"
             ],
             [
              0.6666666666666666,
              "#ed7953"
             ],
             [
              0.7777777777777778,
              "#fb9f3a"
             ],
             [
              0.8888888888888888,
              "#fdca26"
             ],
             [
              1,
              "#f0f921"
             ]
            ],
            "type": "heatmapgl"
           }
          ],
          "histogram": [
           {
            "marker": {
             "pattern": {
              "fillmode": "overlay",
              "size": 10,
              "solidity": 0.2
             }
            },
            "type": "histogram"
           }
          ],
          "histogram2d": [
           {
            "colorbar": {
             "outlinewidth": 0,
             "ticks": ""
            },
            "colorscale": [
             [
              0,
              "#0d0887"
             ],
             [
              0.1111111111111111,
              "#46039f"
             ],
             [
              0.2222222222222222,
              "#7201a8"
             ],
             [
              0.3333333333333333,
              "#9c179e"
             ],
             [
              0.4444444444444444,
              "#bd3786"
             ],
             [
              0.5555555555555556,
              "#d8576b"
             ],
             [
              0.6666666666666666,
              "#ed7953"
             ],
             [
              0.7777777777777778,
              "#fb9f3a"
             ],
             [
              0.8888888888888888,
              "#fdca26"
             ],
             [
              1,
              "#f0f921"
             ]
            ],
            "type": "histogram2d"
           }
          ],
          "histogram2dcontour": [
           {
            "colorbar": {
             "outlinewidth": 0,
             "ticks": ""
            },
            "colorscale": [
             [
              0,
              "#0d0887"
             ],
             [
              0.1111111111111111,
              "#46039f"
             ],
             [
              0.2222222222222222,
              "#7201a8"
             ],
             [
              0.3333333333333333,
              "#9c179e"
             ],
             [
              0.4444444444444444,
              "#bd3786"
             ],
             [
              0.5555555555555556,
              "#d8576b"
             ],
             [
              0.6666666666666666,
              "#ed7953"
             ],
             [
              0.7777777777777778,
              "#fb9f3a"
             ],
             [
              0.8888888888888888,
              "#fdca26"
             ],
             [
              1,
              "#f0f921"
             ]
            ],
            "type": "histogram2dcontour"
           }
          ],
          "mesh3d": [
           {
            "colorbar": {
             "outlinewidth": 0,
             "ticks": ""
            },
            "type": "mesh3d"
           }
          ],
          "parcoords": [
           {
            "line": {
             "colorbar": {
              "outlinewidth": 0,
              "ticks": ""
             }
            },
            "type": "parcoords"
           }
          ],
          "pie": [
           {
            "automargin": true,
            "type": "pie"
           }
          ],
          "scatter": [
           {
            "fillpattern": {
             "fillmode": "overlay",
             "size": 10,
             "solidity": 0.2
            },
            "type": "scatter"
           }
          ],
          "scatter3d": [
           {
            "line": {
             "colorbar": {
              "outlinewidth": 0,
              "ticks": ""
             }
            },
            "marker": {
             "colorbar": {
              "outlinewidth": 0,
              "ticks": ""
             }
            },
            "type": "scatter3d"
           }
          ],
          "scattercarpet": [
           {
            "marker": {
             "colorbar": {
              "outlinewidth": 0,
              "ticks": ""
             }
            },
            "type": "scattercarpet"
           }
          ],
          "scattergeo": [
           {
            "marker": {
             "colorbar": {
              "outlinewidth": 0,
              "ticks": ""
             }
            },
            "type": "scattergeo"
           }
          ],
          "scattergl": [
           {
            "marker": {
             "colorbar": {
              "outlinewidth": 0,
              "ticks": ""
             }
            },
            "type": "scattergl"
           }
          ],
          "scattermapbox": [
           {
            "marker": {
             "colorbar": {
              "outlinewidth": 0,
              "ticks": ""
             }
            },
            "type": "scattermapbox"
           }
          ],
          "scatterpolar": [
           {
            "marker": {
             "colorbar": {
              "outlinewidth": 0,
              "ticks": ""
             }
            },
            "type": "scatterpolar"
           }
          ],
          "scatterpolargl": [
           {
            "marker": {
             "colorbar": {
              "outlinewidth": 0,
              "ticks": ""
             }
            },
            "type": "scatterpolargl"
           }
          ],
          "scatterternary": [
           {
            "marker": {
             "colorbar": {
              "outlinewidth": 0,
              "ticks": ""
             }
            },
            "type": "scatterternary"
           }
          ],
          "surface": [
           {
            "colorbar": {
             "outlinewidth": 0,
             "ticks": ""
            },
            "colorscale": [
             [
              0,
              "#0d0887"
             ],
             [
              0.1111111111111111,
              "#46039f"
             ],
             [
              0.2222222222222222,
              "#7201a8"
             ],
             [
              0.3333333333333333,
              "#9c179e"
             ],
             [
              0.4444444444444444,
              "#bd3786"
             ],
             [
              0.5555555555555556,
              "#d8576b"
             ],
             [
              0.6666666666666666,
              "#ed7953"
             ],
             [
              0.7777777777777778,
              "#fb9f3a"
             ],
             [
              0.8888888888888888,
              "#fdca26"
             ],
             [
              1,
              "#f0f921"
             ]
            ],
            "type": "surface"
           }
          ],
          "table": [
           {
            "cells": {
             "fill": {
              "color": "#EBF0F8"
             },
             "line": {
              "color": "white"
             }
            },
            "header": {
             "fill": {
              "color": "#C8D4E3"
             },
             "line": {
              "color": "white"
             }
            },
            "type": "table"
           }
          ]
         },
         "layout": {
          "annotationdefaults": {
           "arrowcolor": "#2a3f5f",
           "arrowhead": 0,
           "arrowwidth": 1
          },
          "autotypenumbers": "strict",
          "coloraxis": {
           "colorbar": {
            "outlinewidth": 0,
            "ticks": ""
           }
          },
          "colorscale": {
           "diverging": [
            [
             0,
             "#8e0152"
            ],
            [
             0.1,
             "#c51b7d"
            ],
            [
             0.2,
             "#de77ae"
            ],
            [
             0.3,
             "#f1b6da"
            ],
            [
             0.4,
             "#fde0ef"
            ],
            [
             0.5,
             "#f7f7f7"
            ],
            [
             0.6,
             "#e6f5d0"
            ],
            [
             0.7,
             "#b8e186"
            ],
            [
             0.8,
             "#7fbc41"
            ],
            [
             0.9,
             "#4d9221"
            ],
            [
             1,
             "#276419"
            ]
           ],
           "sequential": [
            [
             0,
             "#0d0887"
            ],
            [
             0.1111111111111111,
             "#46039f"
            ],
            [
             0.2222222222222222,
             "#7201a8"
            ],
            [
             0.3333333333333333,
             "#9c179e"
            ],
            [
             0.4444444444444444,
             "#bd3786"
            ],
            [
             0.5555555555555556,
             "#d8576b"
            ],
            [
             0.6666666666666666,
             "#ed7953"
            ],
            [
             0.7777777777777778,
             "#fb9f3a"
            ],
            [
             0.8888888888888888,
             "#fdca26"
            ],
            [
             1,
             "#f0f921"
            ]
           ],
           "sequentialminus": [
            [
             0,
             "#0d0887"
            ],
            [
             0.1111111111111111,
             "#46039f"
            ],
            [
             0.2222222222222222,
             "#7201a8"
            ],
            [
             0.3333333333333333,
             "#9c179e"
            ],
            [
             0.4444444444444444,
             "#bd3786"
            ],
            [
             0.5555555555555556,
             "#d8576b"
            ],
            [
             0.6666666666666666,
             "#ed7953"
            ],
            [
             0.7777777777777778,
             "#fb9f3a"
            ],
            [
             0.8888888888888888,
             "#fdca26"
            ],
            [
             1,
             "#f0f921"
            ]
           ]
          },
          "colorway": [
           "#636efa",
           "#EF553B",
           "#00cc96",
           "#ab63fa",
           "#FFA15A",
           "#19d3f3",
           "#FF6692",
           "#B6E880",
           "#FF97FF",
           "#FECB52"
          ],
          "font": {
           "color": "#2a3f5f"
          },
          "geo": {
           "bgcolor": "white",
           "lakecolor": "white",
           "landcolor": "#E5ECF6",
           "showlakes": true,
           "showland": true,
           "subunitcolor": "white"
          },
          "hoverlabel": {
           "align": "left"
          },
          "hovermode": "closest",
          "mapbox": {
           "style": "light"
          },
          "paper_bgcolor": "white",
          "plot_bgcolor": "#E5ECF6",
          "polar": {
           "angularaxis": {
            "gridcolor": "white",
            "linecolor": "white",
            "ticks": ""
           },
           "bgcolor": "#E5ECF6",
           "radialaxis": {
            "gridcolor": "white",
            "linecolor": "white",
            "ticks": ""
           }
          },
          "scene": {
           "xaxis": {
            "backgroundcolor": "#E5ECF6",
            "gridcolor": "white",
            "gridwidth": 2,
            "linecolor": "white",
            "showbackground": true,
            "ticks": "",
            "zerolinecolor": "white"
           },
           "yaxis": {
            "backgroundcolor": "#E5ECF6",
            "gridcolor": "white",
            "gridwidth": 2,
            "linecolor": "white",
            "showbackground": true,
            "ticks": "",
            "zerolinecolor": "white"
           },
           "zaxis": {
            "backgroundcolor": "#E5ECF6",
            "gridcolor": "white",
            "gridwidth": 2,
            "linecolor": "white",
            "showbackground": true,
            "ticks": "",
            "zerolinecolor": "white"
           }
          },
          "shapedefaults": {
           "line": {
            "color": "#2a3f5f"
           }
          },
          "ternary": {
           "aaxis": {
            "gridcolor": "white",
            "linecolor": "white",
            "ticks": ""
           },
           "baxis": {
            "gridcolor": "white",
            "linecolor": "white",
            "ticks": ""
           },
           "bgcolor": "#E5ECF6",
           "caxis": {
            "gridcolor": "white",
            "linecolor": "white",
            "ticks": ""
           }
          },
          "title": {
           "x": 0.05
          },
          "xaxis": {
           "automargin": true,
           "gridcolor": "white",
           "linecolor": "white",
           "ticks": "",
           "title": {
            "standoff": 15
           },
           "zerolinecolor": "white",
           "zerolinewidth": 2
          },
          "yaxis": {
           "automargin": true,
           "gridcolor": "white",
           "linecolor": "white",
           "ticks": "",
           "title": {
            "standoff": 15
           },
           "zerolinecolor": "white",
           "zerolinewidth": 2
          }
         }
        },
        "title": {
         "text": "Yearly Trend for desired Programming Language"
        },
        "xaxis": {
         "anchor": "y",
         "domain": [
          0,
          1
         ],
         "dtick": 1,
         "tickmode": "linear",
         "title": {
          "text": "Year"
         }
        },
        "yaxis": {
         "anchor": "x",
         "domain": [
          0,
          1
         ],
         "title": {
          "text": "Rate"
         }
        }
       }
      },
      "text/html": [
       "<div>                            <div id=\"1d19e63c-6895-4d29-9fe0-53b02d0d1588\" class=\"plotly-graph-div\" style=\"height:525px; width:100%;\"></div>            <script type=\"text/javascript\">                require([\"plotly\"], function(Plotly) {                    window.PLOTLYENV=window.PLOTLYENV || {};                                    if (document.getElementById(\"1d19e63c-6895-4d29-9fe0-53b02d0d1588\")) {                    Plotly.newPlot(                        \"1d19e63c-6895-4d29-9fe0-53b02d0d1588\",                        [{\"hovertemplate\":\"LanguageWantToWorkWith=JavaScript\\u003cbr\\u003eyear=%{x}\\u003cbr\\u003evalue=%{y}\\u003cextra\\u003e\\u003c\\u002fextra\\u003e\",\"legendgroup\":\"JavaScript\",\"line\":{\"color\":\"#636efa\",\"dash\":\"solid\"},\"marker\":{\"symbol\":\"circle\"},\"mode\":\"lines\",\"name\":\"JavaScript\",\"orientation\":\"v\",\"showlegend\":true,\"x\":[2018,2019,2020,2021,2022],\"xaxis\":\"x\",\"y\":[0.0995873075051004,0.11239429826103996,0.10990246932232127,0.10165273592757297,0.10311694169093351],\"yaxis\":\"y\",\"type\":\"scatter\"},{\"hovertemplate\":\"LanguageWantToWorkWith=Python\\u003cbr\\u003eyear=%{x}\\u003cbr\\u003evalue=%{y}\\u003cextra\\u003e\\u003c\\u002fextra\\u003e\",\"legendgroup\":\"Python\",\"line\":{\"color\":\"#EF553B\",\"dash\":\"solid\"},\"marker\":{\"symbol\":\"circle\"},\"mode\":\"lines\",\"name\":\"Python\",\"orientation\":\"v\",\"showlegend\":true,\"x\":[2018,2019,2020,2021,2022],\"xaxis\":\"x\",\"y\":[0.08490746781827031,0.10050395172514281,0.11197562572392607,0.0959421858304744,0.09592349651766659],\"yaxis\":\"y\",\"type\":\"scatter\"},{\"hovertemplate\":\"LanguageWantToWorkWith=SQL\\u003cbr\\u003eyear=%{x}\\u003cbr\\u003evalue=%{y}\\u003cextra\\u003e\\u003c\\u002fextra\\u003e\",\"legendgroup\":\"SQL\",\"line\":{\"color\":\"#00cc96\",\"dash\":\"solid\"},\"marker\":{\"symbol\":\"circle\"},\"mode\":\"lines\",\"name\":\"SQL\",\"orientation\":\"v\",\"showlegend\":true,\"x\":[2018,2019,2020,2021,2022],\"xaxis\":\"x\",\"y\":[0.0725215148973188,0.08432524230380803,0.08380755736851823,0.07314942743426275,0.0810659764096832],\"yaxis\":\"y\",\"type\":\"scatter\"},{\"hovertemplate\":\"LanguageWantToWorkWith=TypeScript\\u003cbr\\u003eyear=%{x}\\u003cbr\\u003evalue=%{y}\\u003cextra\\u003e\\u003c\\u002fextra\\u003e\",\"legendgroup\":\"TypeScript\",\"line\":{\"color\":\"#ab63fa\",\"dash\":\"solid\"},\"marker\":{\"symbol\":\"circle\"},\"mode\":\"lines\",\"name\":\"TypeScript\",\"orientation\":\"v\",\"showlegend\":true,\"x\":[2018,2019,2020,2021,2022],\"xaxis\":\"x\",\"y\":[0.04374436884456458,0.0595899048872766,0.07197293985328432,0.07390204442637675,0.08513823115111464],\"yaxis\":\"y\",\"type\":\"scatter\"},{\"hovertemplate\":\"LanguageWantToWorkWith=C#\\u003cbr\\u003eyear=%{x}\\u003cbr\\u003evalue=%{y}\\u003cextra\\u003e\\u003c\\u002fextra\\u003e\",\"legendgroup\":\"C#\",\"line\":{\"color\":\"#FFA15A\",\"dash\":\"solid\"},\"marker\":{\"symbol\":\"circle\"},\"mode\":\"lines\",\"name\":\"C#\",\"orientation\":\"v\",\"showlegend\":true,\"x\":[2018,2019,2020,2021,2022],\"xaxis\":\"x\",\"y\":[0.05286554613146094,0.05639687077632683,0.0573853049302513,0.0494392454053282,0.0512496200645155],\"yaxis\":\"y\",\"type\":\"scatter\"},{\"hovertemplate\":\"LanguageWantToWorkWith=Java\\u003cbr\\u003eyear=%{x}\\u003cbr\\u003evalue=%{y}\\u003cextra\\u003e\\u003c\\u002fextra\\u003e\",\"legendgroup\":\"Java\",\"line\":{\"color\":\"#19d3f3\",\"dash\":\"solid\"},\"marker\":{\"symbol\":\"circle\"},\"mode\":\"lines\",\"name\":\"Java\",\"orientation\":\"v\",\"showlegend\":true,\"x\":[2018,2019,2020,2021,2022],\"xaxis\":\"x\",\"y\":[0.05839831816157662,0.059057313831791663,0.05566466905037686,0.04730499940944287,0.04361495948988963],\"yaxis\":\"y\",\"type\":\"scatter\"},{\"hovertemplate\":\"LanguageWantToWorkWith=Go\\u003cbr\\u003eyear=%{x}\\u003cbr\\u003evalue=%{y}\\u003cextra\\u003e\\u003c\\u002fextra\\u003e\",\"legendgroup\":\"Go\",\"line\":{\"color\":\"#FF6692\",\"dash\":\"solid\"},\"marker\":{\"symbol\":\"circle\"},\"mode\":\"lines\",\"name\":\"Go\",\"orientation\":\"v\",\"showlegend\":true,\"x\":[2018,2019,2020,2021,2022],\"xaxis\":\"x\",\"y\":[0.040205155290438166,0.04285850663477819,0.05289906162394454,0.04336612069889003,0.050658064600471286],\"yaxis\":\"y\",\"type\":\"scatter\"},{\"hovertemplate\":\"LanguageWantToWorkWith=C++\\u003cbr\\u003eyear=%{x}\\u003cbr\\u003evalue=%{y}\\u003cextra\\u003e\\u003c\\u002fextra\\u003e\",\"legendgroup\":\"C++\",\"line\":{\"color\":\"#B6E880\",\"dash\":\"solid\"},\"marker\":{\"symbol\":\"circle\"},\"mode\":\"lines\",\"name\":\"C++\",\"orientation\":\"v\",\"showlegend\":true,\"x\":[2018,2019,2020,2021,2022],\"xaxis\":\"x\",\"y\":[0.03958378641480515,0.042346013354971936,0.04094274059525608,0.04188560771075336,0.03887924751530364],\"yaxis\":\"y\",\"type\":\"scatter\"},{\"hovertemplate\":\"LanguageWantToWorkWith=Rust\\u003cbr\\u003eyear=%{x}\\u003cbr\\u003evalue=%{y}\\u003cextra\\u003e\\u003c\\u002fextra\\u003e\",\"legendgroup\":\"Rust\",\"line\":{\"color\":\"#FF97FF\",\"dash\":\"solid\"},\"marker\":{\"symbol\":\"circle\"},\"mode\":\"lines\",\"name\":\"Rust\",\"orientation\":\"v\",\"showlegend\":true,\"x\":[2018,2019,2020,2021,2022],\"xaxis\":\"x\",\"y\":[0.020342063566035976,0.02637079391238375,0.0443294556075943,0.04357762255433812,0.05592977158115259],\"yaxis\":\"y\",\"type\":\"scatter\"},{\"hovertemplate\":\"LanguageWantToWorkWith=Kotlin\\u003cbr\\u003eyear=%{x}\\u003cbr\\u003evalue=%{y}\\u003cextra\\u003e\\u003c\\u002fextra\\u003e\",\"legendgroup\":\"Kotlin\",\"line\":{\"color\":\"#FECB52\",\"dash\":\"solid\"},\"marker\":{\"symbol\":\"circle\"},\"mode\":\"lines\",\"name\":\"Kotlin\",\"orientation\":\"v\",\"showlegend\":true,\"x\":[2018,2019,2020,2021,2022],\"xaxis\":\"x\",\"y\":[0.031047731485796544,0.03331457540936657,0.04018314280438468,0.029365796579163498,0.030447130955999387],\"yaxis\":\"y\",\"type\":\"scatter\"},{\"hovertemplate\":\"LanguageWantToWorkWith=PHP\\u003cbr\\u003eyear=%{x}\\u003cbr\\u003evalue=%{y}\\u003cextra\\u003e\\u003c\\u002fextra\\u003e\",\"legendgroup\":\"PHP\",\"line\":{\"color\":\"#636efa\",\"dash\":\"solid\"},\"marker\":{\"symbol\":\"circle\"},\"mode\":\"lines\",\"name\":\"PHP\",\"orientation\":\"v\",\"showlegend\":true,\"x\":[2018,2019,2020,2021,2022],\"xaxis\":\"x\",\"y\":[0.03170016880521121,0.0322493932983967,0.029821557469238386,0.02431447304450054,0.023940020851513043],\"yaxis\":\"y\",\"type\":\"scatter\"},{\"hovertemplate\":\"LanguageWantToWorkWith=Swift\\u003cbr\\u003eyear=%{x}\\u003cbr\\u003evalue=%{y}\\u003cextra\\u003e\\u003c\\u002fextra\\u003e\",\"legendgroup\":\"Swift\",\"line\":{\"color\":\"#EF553B\",\"dash\":\"solid\"},\"marker\":{\"symbol\":\"circle\"},\"mode\":\"lines\",\"name\":\"Swift\",\"orientation\":\"v\",\"showlegend\":true,\"x\":[2018,2019,2020,2021,2022],\"xaxis\":\"x\",\"y\":[0.02513437101935564,0.02210755324654444,0.023681825049101074,0.01745027646313962,0.016573357779934832],\"yaxis\":\"y\",\"type\":\"scatter\"}],                        {\"template\":{\"data\":{\"histogram2dcontour\":[{\"type\":\"histogram2dcontour\",\"colorbar\":{\"outlinewidth\":0,\"ticks\":\"\"},\"colorscale\":[[0.0,\"#0d0887\"],[0.1111111111111111,\"#46039f\"],[0.2222222222222222,\"#7201a8\"],[0.3333333333333333,\"#9c179e\"],[0.4444444444444444,\"#bd3786\"],[0.5555555555555556,\"#d8576b\"],[0.6666666666666666,\"#ed7953\"],[0.7777777777777778,\"#fb9f3a\"],[0.8888888888888888,\"#fdca26\"],[1.0,\"#f0f921\"]]}],\"choropleth\":[{\"type\":\"choropleth\",\"colorbar\":{\"outlinewidth\":0,\"ticks\":\"\"}}],\"histogram2d\":[{\"type\":\"histogram2d\",\"colorbar\":{\"outlinewidth\":0,\"ticks\":\"\"},\"colorscale\":[[0.0,\"#0d0887\"],[0.1111111111111111,\"#46039f\"],[0.2222222222222222,\"#7201a8\"],[0.3333333333333333,\"#9c179e\"],[0.4444444444444444,\"#bd3786\"],[0.5555555555555556,\"#d8576b\"],[0.6666666666666666,\"#ed7953\"],[0.7777777777777778,\"#fb9f3a\"],[0.8888888888888888,\"#fdca26\"],[1.0,\"#f0f921\"]]}],\"heatmap\":[{\"type\":\"heatmap\",\"colorbar\":{\"outlinewidth\":0,\"ticks\":\"\"},\"colorscale\":[[0.0,\"#0d0887\"],[0.1111111111111111,\"#46039f\"],[0.2222222222222222,\"#7201a8\"],[0.3333333333333333,\"#9c179e\"],[0.4444444444444444,\"#bd3786\"],[0.5555555555555556,\"#d8576b\"],[0.6666666666666666,\"#ed7953\"],[0.7777777777777778,\"#fb9f3a\"],[0.8888888888888888,\"#fdca26\"],[1.0,\"#f0f921\"]]}],\"heatmapgl\":[{\"type\":\"heatmapgl\",\"colorbar\":{\"outlinewidth\":0,\"ticks\":\"\"},\"colorscale\":[[0.0,\"#0d0887\"],[0.1111111111111111,\"#46039f\"],[0.2222222222222222,\"#7201a8\"],[0.3333333333333333,\"#9c179e\"],[0.4444444444444444,\"#bd3786\"],[0.5555555555555556,\"#d8576b\"],[0.6666666666666666,\"#ed7953\"],[0.7777777777777778,\"#fb9f3a\"],[0.8888888888888888,\"#fdca26\"],[1.0,\"#f0f921\"]]}],\"contourcarpet\":[{\"type\":\"contourcarpet\",\"colorbar\":{\"outlinewidth\":0,\"ticks\":\"\"}}],\"contour\":[{\"type\":\"contour\",\"colorbar\":{\"outlinewidth\":0,\"ticks\":\"\"},\"colorscale\":[[0.0,\"#0d0887\"],[0.1111111111111111,\"#46039f\"],[0.2222222222222222,\"#7201a8\"],[0.3333333333333333,\"#9c179e\"],[0.4444444444444444,\"#bd3786\"],[0.5555555555555556,\"#d8576b\"],[0.6666666666666666,\"#ed7953\"],[0.7777777777777778,\"#fb9f3a\"],[0.8888888888888888,\"#fdca26\"],[1.0,\"#f0f921\"]]}],\"surface\":[{\"type\":\"surface\",\"colorbar\":{\"outlinewidth\":0,\"ticks\":\"\"},\"colorscale\":[[0.0,\"#0d0887\"],[0.1111111111111111,\"#46039f\"],[0.2222222222222222,\"#7201a8\"],[0.3333333333333333,\"#9c179e\"],[0.4444444444444444,\"#bd3786\"],[0.5555555555555556,\"#d8576b\"],[0.6666666666666666,\"#ed7953\"],[0.7777777777777778,\"#fb9f3a\"],[0.8888888888888888,\"#fdca26\"],[1.0,\"#f0f921\"]]}],\"mesh3d\":[{\"type\":\"mesh3d\",\"colorbar\":{\"outlinewidth\":0,\"ticks\":\"\"}}],\"scatter\":[{\"fillpattern\":{\"fillmode\":\"overlay\",\"size\":10,\"solidity\":0.2},\"type\":\"scatter\"}],\"parcoords\":[{\"type\":\"parcoords\",\"line\":{\"colorbar\":{\"outlinewidth\":0,\"ticks\":\"\"}}}],\"scatterpolargl\":[{\"type\":\"scatterpolargl\",\"marker\":{\"colorbar\":{\"outlinewidth\":0,\"ticks\":\"\"}}}],\"bar\":[{\"error_x\":{\"color\":\"#2a3f5f\"},\"error_y\":{\"color\":\"#2a3f5f\"},\"marker\":{\"line\":{\"color\":\"#E5ECF6\",\"width\":0.5},\"pattern\":{\"fillmode\":\"overlay\",\"size\":10,\"solidity\":0.2}},\"type\":\"bar\"}],\"scattergeo\":[{\"type\":\"scattergeo\",\"marker\":{\"colorbar\":{\"outlinewidth\":0,\"ticks\":\"\"}}}],\"scatterpolar\":[{\"type\":\"scatterpolar\",\"marker\":{\"colorbar\":{\"outlinewidth\":0,\"ticks\":\"\"}}}],\"histogram\":[{\"marker\":{\"pattern\":{\"fillmode\":\"overlay\",\"size\":10,\"solidity\":0.2}},\"type\":\"histogram\"}],\"scattergl\":[{\"type\":\"scattergl\",\"marker\":{\"colorbar\":{\"outlinewidth\":0,\"ticks\":\"\"}}}],\"scatter3d\":[{\"type\":\"scatter3d\",\"line\":{\"colorbar\":{\"outlinewidth\":0,\"ticks\":\"\"}},\"marker\":{\"colorbar\":{\"outlinewidth\":0,\"ticks\":\"\"}}}],\"scattermapbox\":[{\"type\":\"scattermapbox\",\"marker\":{\"colorbar\":{\"outlinewidth\":0,\"ticks\":\"\"}}}],\"scatterternary\":[{\"type\":\"scatterternary\",\"marker\":{\"colorbar\":{\"outlinewidth\":0,\"ticks\":\"\"}}}],\"scattercarpet\":[{\"type\":\"scattercarpet\",\"marker\":{\"colorbar\":{\"outlinewidth\":0,\"ticks\":\"\"}}}],\"carpet\":[{\"aaxis\":{\"endlinecolor\":\"#2a3f5f\",\"gridcolor\":\"white\",\"linecolor\":\"white\",\"minorgridcolor\":\"white\",\"startlinecolor\":\"#2a3f5f\"},\"baxis\":{\"endlinecolor\":\"#2a3f5f\",\"gridcolor\":\"white\",\"linecolor\":\"white\",\"minorgridcolor\":\"white\",\"startlinecolor\":\"#2a3f5f\"},\"type\":\"carpet\"}],\"table\":[{\"cells\":{\"fill\":{\"color\":\"#EBF0F8\"},\"line\":{\"color\":\"white\"}},\"header\":{\"fill\":{\"color\":\"#C8D4E3\"},\"line\":{\"color\":\"white\"}},\"type\":\"table\"}],\"barpolar\":[{\"marker\":{\"line\":{\"color\":\"#E5ECF6\",\"width\":0.5},\"pattern\":{\"fillmode\":\"overlay\",\"size\":10,\"solidity\":0.2}},\"type\":\"barpolar\"}],\"pie\":[{\"automargin\":true,\"type\":\"pie\"}]},\"layout\":{\"autotypenumbers\":\"strict\",\"colorway\":[\"#636efa\",\"#EF553B\",\"#00cc96\",\"#ab63fa\",\"#FFA15A\",\"#19d3f3\",\"#FF6692\",\"#B6E880\",\"#FF97FF\",\"#FECB52\"],\"font\":{\"color\":\"#2a3f5f\"},\"hovermode\":\"closest\",\"hoverlabel\":{\"align\":\"left\"},\"paper_bgcolor\":\"white\",\"plot_bgcolor\":\"#E5ECF6\",\"polar\":{\"bgcolor\":\"#E5ECF6\",\"angularaxis\":{\"gridcolor\":\"white\",\"linecolor\":\"white\",\"ticks\":\"\"},\"radialaxis\":{\"gridcolor\":\"white\",\"linecolor\":\"white\",\"ticks\":\"\"}},\"ternary\":{\"bgcolor\":\"#E5ECF6\",\"aaxis\":{\"gridcolor\":\"white\",\"linecolor\":\"white\",\"ticks\":\"\"},\"baxis\":{\"gridcolor\":\"white\",\"linecolor\":\"white\",\"ticks\":\"\"},\"caxis\":{\"gridcolor\":\"white\",\"linecolor\":\"white\",\"ticks\":\"\"}},\"coloraxis\":{\"colorbar\":{\"outlinewidth\":0,\"ticks\":\"\"}},\"colorscale\":{\"sequential\":[[0.0,\"#0d0887\"],[0.1111111111111111,\"#46039f\"],[0.2222222222222222,\"#7201a8\"],[0.3333333333333333,\"#9c179e\"],[0.4444444444444444,\"#bd3786\"],[0.5555555555555556,\"#d8576b\"],[0.6666666666666666,\"#ed7953\"],[0.7777777777777778,\"#fb9f3a\"],[0.8888888888888888,\"#fdca26\"],[1.0,\"#f0f921\"]],\"sequentialminus\":[[0.0,\"#0d0887\"],[0.1111111111111111,\"#46039f\"],[0.2222222222222222,\"#7201a8\"],[0.3333333333333333,\"#9c179e\"],[0.4444444444444444,\"#bd3786\"],[0.5555555555555556,\"#d8576b\"],[0.6666666666666666,\"#ed7953\"],[0.7777777777777778,\"#fb9f3a\"],[0.8888888888888888,\"#fdca26\"],[1.0,\"#f0f921\"]],\"diverging\":[[0,\"#8e0152\"],[0.1,\"#c51b7d\"],[0.2,\"#de77ae\"],[0.3,\"#f1b6da\"],[0.4,\"#fde0ef\"],[0.5,\"#f7f7f7\"],[0.6,\"#e6f5d0\"],[0.7,\"#b8e186\"],[0.8,\"#7fbc41\"],[0.9,\"#4d9221\"],[1,\"#276419\"]]},\"xaxis\":{\"gridcolor\":\"white\",\"linecolor\":\"white\",\"ticks\":\"\",\"title\":{\"standoff\":15},\"zerolinecolor\":\"white\",\"automargin\":true,\"zerolinewidth\":2},\"yaxis\":{\"gridcolor\":\"white\",\"linecolor\":\"white\",\"ticks\":\"\",\"title\":{\"standoff\":15},\"zerolinecolor\":\"white\",\"automargin\":true,\"zerolinewidth\":2},\"scene\":{\"xaxis\":{\"backgroundcolor\":\"#E5ECF6\",\"gridcolor\":\"white\",\"linecolor\":\"white\",\"showbackground\":true,\"ticks\":\"\",\"zerolinecolor\":\"white\",\"gridwidth\":2},\"yaxis\":{\"backgroundcolor\":\"#E5ECF6\",\"gridcolor\":\"white\",\"linecolor\":\"white\",\"showbackground\":true,\"ticks\":\"\",\"zerolinecolor\":\"white\",\"gridwidth\":2},\"zaxis\":{\"backgroundcolor\":\"#E5ECF6\",\"gridcolor\":\"white\",\"linecolor\":\"white\",\"showbackground\":true,\"ticks\":\"\",\"zerolinecolor\":\"white\",\"gridwidth\":2}},\"shapedefaults\":{\"line\":{\"color\":\"#2a3f5f\"}},\"annotationdefaults\":{\"arrowcolor\":\"#2a3f5f\",\"arrowhead\":0,\"arrowwidth\":1},\"geo\":{\"bgcolor\":\"white\",\"landcolor\":\"#E5ECF6\",\"subunitcolor\":\"white\",\"showland\":true,\"showlakes\":true,\"lakecolor\":\"white\"},\"title\":{\"x\":0.05},\"mapbox\":{\"style\":\"light\"}}},\"xaxis\":{\"anchor\":\"y\",\"domain\":[0.0,1.0],\"title\":{\"text\":\"Year\"},\"tickmode\":\"linear\",\"dtick\":1},\"yaxis\":{\"anchor\":\"x\",\"domain\":[0.0,1.0],\"title\":{\"text\":\"Rate\"}},\"legend\":{\"title\":{\"text\":\"LanguageWantToWorkWith\"},\"tracegroupgap\":0},\"title\":{\"text\":\"Yearly Trend for desired Programming Language\"}},                        {\"responsive\": true}                    ).then(function(){\n",
       "                            \n",
       "var gd = document.getElementById('1d19e63c-6895-4d29-9fe0-53b02d0d1588');\n",
       "var x = new MutationObserver(function (mutations, observer) {{\n",
       "        var display = window.getComputedStyle(gd).display;\n",
       "        if (!display || display === 'none') {{\n",
       "            console.log([gd, 'removed!']);\n",
       "            Plotly.purge(gd);\n",
       "            observer.disconnect();\n",
       "        }}\n",
       "}});\n",
       "\n",
       "// Listen for the removal of the full notebook cells\n",
       "var notebookContainer = gd.closest('#notebook-container');\n",
       "if (notebookContainer) {{\n",
       "    x.observe(notebookContainer, {childList: true});\n",
       "}}\n",
       "\n",
       "// Listen for the clearing of the current output cell\n",
       "var outputEl = gd.closest('.output');\n",
       "if (outputEl) {{\n",
       "    x.observe(outputEl, {childList: true});\n",
       "}}\n",
       "\n",
       "                        })                };                });            </script>        </div>"
      ]
     },
     "metadata": {},
     "output_type": "display_data"
    }
   ],
   "source": [
    "plot_line_chart(desired_percentage, 'Yearly Trend for desired Programming Language')"
   ]
  },
  {
   "cell_type": "markdown",
   "id": "93b96406",
   "metadata": {},
   "source": [
    "#### Evaluation for Q2\n",
    "\n",
    "It appears Typescript and Rust are the most anticipated programming language in the last few years, Rust's desired rate has been increased from 2% to 5.59%, more people are willing to take on the ship of Rust; Typescrit on the other hand also has almost doubled the rate from 4.37% to 8.51%.\n",
    "\n",
    "A few programming languages though, appear to have a decrase desired rate, these are Java and PHP. It appears less people are willing to learn these languages on a year to year basis."
   ]
  },
  {
   "cell_type": "markdown",
   "id": "730a3bc7",
   "metadata": {},
   "source": [
    "##### 3. For the web developers, what are the tools/technologies the developers want to work with."
   ]
  },
  {
   "cell_type": "code",
   "execution_count": 57,
   "id": "e454d51b",
   "metadata": {},
   "outputs": [],
   "source": [
    "# there are missing values in WebframeHaveWorkedWith column after grouping, i want to remove these missing rows\n",
    "tools = df[['DevType', 'ToolsTechWantToWorkWith', 'year']]\n",
    "tools = tools.dropna(subset=['DevType', 'ToolsTechWantToWorkWith'])"
   ]
  },
  {
   "cell_type": "code",
   "execution_count": 58,
   "id": "3c414afb",
   "metadata": {},
   "outputs": [],
   "source": [
    "# filter web developers, i.e. full stack, front end\n",
    "tools = tools[(tools['DevType'].str.contains('Developer, full-stack')) | (tools['DevType'].str.contains('Developer, front-end')) | (tools['DevType'].str.contains('Developer, back-end'))]\n",
    "\n",
    "tools = tools[['ToolsTechWantToWorkWith']]"
   ]
  },
  {
   "cell_type": "code",
   "execution_count": 59,
   "id": "6af5c896",
   "metadata": {},
   "outputs": [
    {
     "data": {
      "text/html": [
       "<div>\n",
       "<style scoped>\n",
       "    .dataframe tbody tr th:only-of-type {\n",
       "        vertical-align: middle;\n",
       "    }\n",
       "\n",
       "    .dataframe tbody tr th {\n",
       "        vertical-align: top;\n",
       "    }\n",
       "\n",
       "    .dataframe thead th {\n",
       "        text-align: right;\n",
       "    }\n",
       "</style>\n",
       "<table border=\"1\" class=\"dataframe\">\n",
       "  <thead>\n",
       "    <tr style=\"text-align: right;\">\n",
       "      <th></th>\n",
       "      <th>ToolsTechWantToWorkWith</th>\n",
       "    </tr>\n",
       "  </thead>\n",
       "  <tbody>\n",
       "    <tr>\n",
       "      <th>252203</th>\n",
       "      <td>Docker;Git;Kubernetes;Yarn</td>\n",
       "    </tr>\n",
       "    <tr>\n",
       "      <th>252207</th>\n",
       "      <td>Docker;Git;Kubernetes</td>\n",
       "    </tr>\n",
       "    <tr>\n",
       "      <th>252209</th>\n",
       "      <td>Docker;Git</td>\n",
       "    </tr>\n",
       "    <tr>\n",
       "      <th>252210</th>\n",
       "      <td>Git</td>\n",
       "    </tr>\n",
       "    <tr>\n",
       "      <th>252211</th>\n",
       "      <td>Docker;Kubernetes</td>\n",
       "    </tr>\n",
       "    <tr>\n",
       "      <th>...</th>\n",
       "      <td>...</td>\n",
       "    </tr>\n",
       "    <tr>\n",
       "      <th>408898</th>\n",
       "      <td>Docker;Kubernetes</td>\n",
       "    </tr>\n",
       "    <tr>\n",
       "      <th>408899</th>\n",
       "      <td>Ansible;Chef;Docker;Kubernetes;npm;Terraform;Yarn</td>\n",
       "    </tr>\n",
       "    <tr>\n",
       "      <th>408901</th>\n",
       "      <td>Docker;Homebrew;Kubernetes;npm</td>\n",
       "    </tr>\n",
       "    <tr>\n",
       "      <th>408903</th>\n",
       "      <td>npm;Unreal Engine</td>\n",
       "    </tr>\n",
       "    <tr>\n",
       "      <th>408905</th>\n",
       "      <td>Docker;Kubernetes;npm;Pulumi;Terraform</td>\n",
       "    </tr>\n",
       "  </tbody>\n",
       "</table>\n",
       "<p>76138 rows × 1 columns</p>\n",
       "</div>"
      ],
      "text/plain": [
       "                                  ToolsTechWantToWorkWith\n",
       "252203                         Docker;Git;Kubernetes;Yarn\n",
       "252207                              Docker;Git;Kubernetes\n",
       "252209                                         Docker;Git\n",
       "252210                                                Git\n",
       "252211                                  Docker;Kubernetes\n",
       "...                                                   ...\n",
       "408898                                  Docker;Kubernetes\n",
       "408899  Ansible;Chef;Docker;Kubernetes;npm;Terraform;Yarn\n",
       "408901                     Docker;Homebrew;Kubernetes;npm\n",
       "408903                                  npm;Unreal Engine\n",
       "408905             Docker;Kubernetes;npm;Pulumi;Terraform\n",
       "\n",
       "[76138 rows x 1 columns]"
      ]
     },
     "execution_count": 59,
     "metadata": {},
     "output_type": "execute_result"
    }
   ],
   "source": [
    "tools"
   ]
  },
  {
   "cell_type": "code",
   "execution_count": 60,
   "id": "578e1995",
   "metadata": {},
   "outputs": [],
   "source": [
    "# split the values in the column by semicolons, resulting in a column of lists. Then, use df.explode('WebframeHaveWorkedWith') \n",
    "# to explode the lists into separate rows, duplicating the other columns as necessary.\n",
    "tools['ToolsTechWantToWorkWith'] = tools['ToolsTechWantToWorkWith'].str.split(';')\n",
    "tools = tools.explode('ToolsTechWantToWorkWith')"
   ]
  },
  {
   "cell_type": "code",
   "execution_count": 61,
   "id": "bc12edf5",
   "metadata": {},
   "outputs": [],
   "source": [
    "tools_count = tools.value_counts()"
   ]
  },
  {
   "cell_type": "code",
   "execution_count": 62,
   "id": "b37e9e6f",
   "metadata": {},
   "outputs": [
    {
     "data": {
      "text/plain": [
       "ToolsTechWantToWorkWith\n",
       "Docker                     51994\n",
       "Git                        37742\n",
       "Kubernetes                 30971\n",
       "npm                        17856\n",
       "Yarn                       16794\n",
       "Terraform                  12178\n",
       "Unity 3D                    8233\n",
       "Ansible                     7923\n",
       "Homebrew                    7725\n",
       "Unreal Engine               6151\n",
       "Deno                        3533\n",
       "Xamarin                     2089\n",
       "Puppet                      1737\n",
       "Pulumi                      1437\n",
       "Chef                        1378\n",
       "Flow                         940\n",
       "Name: count, dtype: int64"
      ]
     },
     "execution_count": 62,
     "metadata": {},
     "output_type": "execute_result"
    }
   ],
   "source": [
    "tools_count"
   ]
  },
  {
   "cell_type": "code",
   "execution_count": 63,
   "id": "473d34b7",
   "metadata": {},
   "outputs": [
    {
     "data": {
      "text/plain": [
       "<Axes: xlabel='ToolsTechWantToWorkWith'>"
      ]
     },
     "execution_count": 63,
     "metadata": {},
     "output_type": "execute_result"
    },
    {
     "data": {
      "image/png": "[encoded data removed]",
      "text/plain": [
       "<Figure size 640x480 with 1 Axes>"
      ]
     },
     "metadata": {},
     "output_type": "display_data"
    }
   ],
   "source": [
    "tools_count.plot(kind='bar')"
   ]
  },
  {
   "cell_type": "markdown",
   "id": "52ecf67c",
   "metadata": {},
   "source": [
    "#### Evaluation for Q3\n",
    "\n",
    "Docker, Git and Kubernetes, are the tools the web developers most wanted to use, along side with Terraform, Ansible, etc.\n",
    "\n",
    "It looks like the container/devops related technologies are gaining the momentum, the developers really want to spend time to work with these technologies."
   ]
  },
  {
   "cell_type": "markdown",
   "id": "cbd8c5c2",
   "metadata": {},
   "source": [
    "### Conclusions\n",
    "\n",
    "Our analysis of the Stack Overflow survey from 2018 to 2022 provided valuable insights into the developer community’s preferences and aspirations. I observed shifts in popularity, desired programming languages, and preferred tools and technologies. The web development landscape is constantly evolving, and it is essential for developers to stay informed about these trends to make informed decisions and keep their skillsets up to date.\n",
    "\n"
   ]
  },
  {
   "cell_type": "markdown",
   "id": "c8fdc41c",
   "metadata": {},
   "source": [
    "### References\n",
    "\n",
    "[blog](https://renshou753.github.io/hexo_en_blog/2023/07/08/udacity-data-science-blog/)"
   ]
  },
  {
   "cell_type": "code",
   "execution_count": null,
   "id": "f9da89f6",
   "metadata": {},
   "outputs": [],
   "source": []
  }
 ],
 "metadata": {
  "kernelspec": {
   "display_name": "Python 3 (ipykernel)",
   "language": "python",
   "name": "python3"
  },
  "language_info": {
   "codemirror_mode": {
    "name": "ipython",
    "version": 3
   },
   "file_extension": ".py",
   "mimetype": "text/x-python",
   "name": "python",
   "nbconvert_exporter": "python",
   "pygments_lexer": "ipython3",
   "version": "3.8.10"
  }
 },
 "nbformat": 4,
 "nbformat_minor": 5
}
